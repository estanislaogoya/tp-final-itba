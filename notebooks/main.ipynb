{
 "cells": [
  {
   "cell_type": "code",
   "execution_count": 1,
   "metadata": {},
   "outputs": [],
   "source": [
    "import sys\n",
    "sys.path.append('/Users/egarciagoya/Documents/final/tp-final-itba/')\n",
    "\n",
    "import src.data.loadStocks as ls\n",
    "import src.features.featEng as fe\n",
    "import pandas as pd\n",
    "#import ml_pytorch as mp\n",
    "import src.visualization.plotCharts as pc\n",
    "from src.models.svm import runSVM_SVR\n",
    "from src.models.evaluate import *\n",
    "import src.data.helper as he\n",
    "from sklearn.metrics import mean_squared_error, mean_absolute_error\n",
    "import numpy as np\n",
    "\n",
    "TICKER_NAMES = ['fb','msft']\n",
    "\n",
    "STOCKS = ls.load_tickers_df(TICKER_NAMES, display=\"append\")\n",
    "STOCKS = STOCKS.filter(['Date','Close','asset'])"
   ]
  },
  {
   "cell_type": "code",
   "execution_count": 3,
   "metadata": {},
   "outputs": [
    {
     "name": "stdout",
     "output_type": "stream",
     "text": [
      "Default Feature Engineering\n",
      "rmse for absolute prediction\n",
      "39.51912991614886\n",
      "MAE for absolute prediction\n",
      "23.06174360643844\n",
      "Alternate Feature Engineering\n"
     ]
    },
    {
     "name": "stderr",
     "output_type": "stream",
     "text": [
      "/Users/egarciagoya/Documents/final/tp-final-itba/src/features/featEng.py:42: SettingWithCopyWarning: \n",
      "A value is trying to be set on a copy of a slice from a DataFrame.\n",
      "Try using .loc[row_indexer,col_indexer] = value instead\n",
      "\n",
      "See the caveats in the documentation: https://pandas.pydata.org/pandas-docs/stable/user_guide/indexing.html#returning-a-view-versus-a-copy\n",
      "  df['future_price'] = df.loc[:, 'Close'].shift(LOOK_WINDOW)\n",
      "/Users/egarciagoya/opt/anaconda3/lib/python3.8/site-packages/pandas/core/frame.py:4308: SettingWithCopyWarning: \n",
      "A value is trying to be set on a copy of a slice from a DataFrame\n",
      "\n",
      "See the caveats in the documentation: https://pandas.pydata.org/pandas-docs/stable/user_guide/indexing.html#returning-a-view-versus-a-copy\n",
      "  return super().drop(\n",
      "/Users/egarciagoya/opt/anaconda3/lib/python3.8/site-packages/seaborn/distributions.py:2557: FutureWarning: `distplot` is a deprecated function and will be removed in a future version. Please adapt your code to use either `displot` (a figure-level function with similar flexibility) or `histplot` (an axes-level function for histograms).\n",
      "  warnings.warn(msg, FutureWarning)\n",
      "/Users/egarciagoya/Documents/final/tp-final-itba/src/features/featEng.py:76: SettingWithCopyWarning: \n",
      "A value is trying to be set on a copy of a slice from a DataFrame.\n",
      "Try using .loc[row_indexer,col_indexer] = value instead\n",
      "\n",
      "See the caveats in the documentation: https://pandas.pydata.org/pandas-docs/stable/user_guide/indexing.html#returning-a-view-versus-a-copy\n",
      "  df['future_price'] = df.loc[:, 'Close'].shift(LOOK_WINDOW)\n",
      "/Users/egarciagoya/opt/anaconda3/lib/python3.8/site-packages/pandas/core/frame.py:4308: SettingWithCopyWarning: \n",
      "A value is trying to be set on a copy of a slice from a DataFrame\n",
      "\n",
      "See the caveats in the documentation: https://pandas.pydata.org/pandas-docs/stable/user_guide/indexing.html#returning-a-view-versus-a-copy\n",
      "  return super().drop(\n"
     ]
    },
    {
     "name": "stdout",
     "output_type": "stream",
     "text": [
      "rmse for absolute prediction\n",
      "35.46926333535667\n",
      "MAE for absolute prediction\n",
      "21.509402463053856\n"
     ]
    },
    {
     "name": "stderr",
     "output_type": "stream",
     "text": [
      "/Users/egarciagoya/opt/anaconda3/lib/python3.8/site-packages/seaborn/distributions.py:2557: FutureWarning: `distplot` is a deprecated function and will be removed in a future version. Please adapt your code to use either `displot` (a figure-level function with similar flexibility) or `histplot` (an axes-level function for histograms).\n",
      "  warnings.warn(msg, FutureWarning)\n"
     ]
    },
    {
     "data": {
      "image/png": "[encoded data removed]",
      "text/plain": [
       "<Figure size 432x288 with 1 Axes>"
      ]
     },
     "metadata": {
      "needs_background": "light"
     },
     "output_type": "display_data"
    }
   ],
   "source": [
    "ASSET = 'fb'\n",
    "\n",
    "filtered_STOCKS = STOCKS[STOCKS['asset']==ASSET]\n",
    "print('Default Feature Engineering')\n",
    "df = evalSVM_SVR(fe.pricePredictionFeatureEng40(filtered_STOCKS.filter(['Date','Close'])))\n",
    "pc.plotDensityHist(df['diff_pred_pct'])\n",
    "print('rmse for absolute prediction')\n",
    "mse = mean_squared_error(df['y_test'],df['y_pred'])\n",
    "rmse = np.sqrt(mse)\n",
    "print(rmse)\n",
    "\n",
    "print('MAE for absolute prediction')\n",
    "mae = mean_absolute_error(df['y_test'],df['y_pred'])\n",
    "print(mae)\n",
    "\n",
    "print('Alternate Feature Engineering')\n",
    "df = evalSVM_SVR(fe.pricePredictionFeatureEng_B(filtered_STOCKS.filter(['Date','Close'])))\n",
    "pc.plotDensityHist(df['diff_pred_pct'])\n",
    "print('rmse for absolute prediction')\n",
    "mse = mean_squared_error(df['y_test'],df['y_pred'])\n",
    "rmse = np.sqrt(mse)\n",
    "print(rmse)\n",
    "\n",
    "print('MAE for absolute prediction')\n",
    "mae = mean_absolute_error(df['y_test'],df['y_pred'])\n",
    "print(mae)"
   ]
  },
  {
   "cell_type": "code",
   "execution_count": 4,
   "metadata": {},
   "outputs": [
    {
     "name": "stdout",
     "output_type": "stream",
     "text": [
      "Default Feature Engineering\n"
     ]
    },
    {
     "name": "stderr",
     "output_type": "stream",
     "text": [
      "/Users/egarciagoya/Documents/final/tp-final-itba/src/features/featEng.py:42: SettingWithCopyWarning: \n",
      "A value is trying to be set on a copy of a slice from a DataFrame.\n",
      "Try using .loc[row_indexer,col_indexer] = value instead\n",
      "\n",
      "See the caveats in the documentation: https://pandas.pydata.org/pandas-docs/stable/user_guide/indexing.html#returning-a-view-versus-a-copy\n",
      "  df['future_price'] = df.loc[:, 'Close'].shift(LOOK_WINDOW)\n",
      "/Users/egarciagoya/opt/anaconda3/lib/python3.8/site-packages/pandas/core/frame.py:4308: SettingWithCopyWarning: \n",
      "A value is trying to be set on a copy of a slice from a DataFrame\n",
      "\n",
      "See the caveats in the documentation: https://pandas.pydata.org/pandas-docs/stable/user_guide/indexing.html#returning-a-view-versus-a-copy\n",
      "  return super().drop(\n",
      "/Users/egarciagoya/opt/anaconda3/lib/python3.8/site-packages/seaborn/distributions.py:2557: FutureWarning: `distplot` is a deprecated function and will be removed in a future version. Please adapt your code to use either `displot` (a figure-level function with similar flexibility) or `histplot` (an axes-level function for histograms).\n",
      "  warnings.warn(msg, FutureWarning)\n"
     ]
    },
    {
     "name": "stdout",
     "output_type": "stream",
     "text": [
      "rmse for absolute prediction\n",
      "14.394183417376988\n",
      "MAE for absolute prediction\n",
      "8.003723962709069\n",
      "Alternate Feature Engineering\n",
      "rmse for absolute prediction\n",
      "10.807667010543696\n",
      "MAE for absolute prediction\n",
      "6.729971230383148\n"
     ]
    },
    {
     "name": "stderr",
     "output_type": "stream",
     "text": [
      "/Users/egarciagoya/Documents/final/tp-final-itba/src/features/featEng.py:76: SettingWithCopyWarning: \n",
      "A value is trying to be set on a copy of a slice from a DataFrame.\n",
      "Try using .loc[row_indexer,col_indexer] = value instead\n",
      "\n",
      "See the caveats in the documentation: https://pandas.pydata.org/pandas-docs/stable/user_guide/indexing.html#returning-a-view-versus-a-copy\n",
      "  df['future_price'] = df.loc[:, 'Close'].shift(LOOK_WINDOW)\n",
      "/Users/egarciagoya/opt/anaconda3/lib/python3.8/site-packages/pandas/core/frame.py:4308: SettingWithCopyWarning: \n",
      "A value is trying to be set on a copy of a slice from a DataFrame\n",
      "\n",
      "See the caveats in the documentation: https://pandas.pydata.org/pandas-docs/stable/user_guide/indexing.html#returning-a-view-versus-a-copy\n",
      "  return super().drop(\n",
      "/Users/egarciagoya/opt/anaconda3/lib/python3.8/site-packages/seaborn/distributions.py:2557: FutureWarning: `distplot` is a deprecated function and will be removed in a future version. Please adapt your code to use either `displot` (a figure-level function with similar flexibility) or `histplot` (an axes-level function for histograms).\n",
      "  warnings.warn(msg, FutureWarning)\n"
     ]
    },
    {
     "data": {
      "image/png": "[encoded data removed]",
      "text/plain": [
       "<Figure size 432x288 with 1 Axes>"
      ]
     },
     "metadata": {
      "needs_background": "light"
     },
     "output_type": "display_data"
    }
   ],
   "source": [
    "ASSET = 'msft'\n",
    "\n",
    "filtered_STOCKS = STOCKS[STOCKS['asset']==ASSET]\n",
    "print('Default Feature Engineering')\n",
    "df = evalSVM_SVR(fe.pricePredictionFeatureEng40(filtered_STOCKS.filter(['Date','Close'])))\n",
    "pc.plotDensityHist(df['diff_pred_pct'])\n",
    "print('rmse for absolute prediction')\n",
    "mse = mean_squared_error(df['y_test'],df['y_pred'])\n",
    "rmse = np.sqrt(mse)\n",
    "print(rmse)\n",
    "\n",
    "print('MAE for absolute prediction')\n",
    "mae = mean_absolute_error(df['y_test'],df['y_pred'])\n",
    "print(mae)\n",
    "\n",
    "print('Alternate Feature Engineering')\n",
    "df = evalSVM_SVR(fe.pricePredictionFeatureEng_B(filtered_STOCKS.filter(['Date','Close'])))\n",
    "pc.plotDensityHist(df['diff_pred_pct'])\n",
    "print('rmse for absolute prediction')\n",
    "mse = mean_squared_error(df['y_test'],df['y_pred'])\n",
    "rmse = np.sqrt(mse)\n",
    "print(rmse)\n",
    "\n",
    "print('MAE for absolute prediction')\n",
    "mae = mean_absolute_error(df['y_test'],df['y_pred'])\n",
    "print(mae)"
   ]
  },
  {
   "cell_type": "code",
   "execution_count": null,
   "metadata": {},
   "outputs": [],
   "source": [
    "fe.pricePredictionFeatureEng40(STOCKS)"
   ]
  },
  {
   "cell_type": "code",
   "execution_count": null,
   "metadata": {},
   "outputs": [],
   "source": [
    "evalSVM_SVR(fe.pricePredictionFeatureEng40(STOCKS))"
   ]
  },
  {
   "cell_type": "code",
   "execution_count": null,
   "metadata": {},
   "outputs": [],
   "source": [
    "df_1 = evalSVM_SVR(fe.pricePredictionFeatureEng40(STOCKS))\n",
    "pc.plotDensityHist(df_1['diff_pred_pct'])"
   ]
  },
  {
   "cell_type": "code",
   "execution_count": null,
   "metadata": {
    "scrolled": true
   },
   "outputs": [],
   "source": [
    "df_model_output = mp.ModelProcessorTF(fe.pricePredictionFeatureEng40(STOCKS))"
   ]
  },
  {
   "cell_type": "code",
   "execution_count": null,
   "metadata": {},
   "outputs": [],
   "source": [
    "varArr_1 = df_model_output.df_test_x_y['predictions']-df_model_output.df_test_x_y['future_price']"
   ]
  },
  {
   "cell_type": "code",
   "execution_count": null,
   "metadata": {},
   "outputs": [],
   "source": [
    "df_model_output.apply_model(mp.get_tf_adam_mse_5l_1024_512_256_128_1_relu())"
   ]
  },
  {
   "cell_type": "code",
   "execution_count": null,
   "metadata": {},
   "outputs": [],
   "source": [
    "varArr_2 = df_model_output.df_test_x_y['predictions']-df_model_output.df_test_x_y['future_price']"
   ]
  },
  {
   "cell_type": "code",
   "execution_count": null,
   "metadata": {},
   "outputs": [],
   "source": [
    "pc.plotDensityMultiple([varArr_1, varArr_2])"
   ]
  },
  {
   "cell_type": "code",
   "execution_count": null,
   "metadata": {},
   "outputs": [],
   "source": [
    "fe.pricePredictionFeatureEng40(STOCKS)"
   ]
  },
  {
   "cell_type": "code",
   "execution_count": null,
   "metadata": {},
   "outputs": [],
   "source": [
    "df_model_output.df_test_x_y"
   ]
  },
  {
   "cell_type": "code",
   "execution_count": null,
   "metadata": {},
   "outputs": [],
   "source": [
    "fe.pricePredictionFeatureEng40(STOCKS)"
   ]
  },
  {
   "cell_type": "code",
   "execution_count": null,
   "metadata": {},
   "outputs": [],
   "source": []
  }
 ],
 "metadata": {
  "kernelspec": {
   "display_name": "Python 3",
   "language": "python",
   "name": "python3"
  },
  "language_info": {
   "codemirror_mode": {
    "name": "ipython",
    "version": 3
   },
   "file_extension": ".py",
   "mimetype": "text/x-python",
   "name": "python",
   "nbconvert_exporter": "python",
   "pygments_lexer": "ipython3",
   "version": "3.8.8"
  }
 },
 "nbformat": 4,
 "nbformat_minor": 2
}
