{
 "cells": [
  {
   "cell_type": "code",
   "execution_count": 1,
   "metadata": {},
   "outputs": [],
   "source": [
    "import loadStocks as ls\n",
    "import featEng as fe\n",
    "import pandas as pd\n",
    "import ml_pytorch as mp\n",
    "\n",
    "TICKER_NAMES = ['msft']\n",
    "\n",
    "STOCKS = ls.load_tickers_df(TICKER_NAMES, display=\"grid\")"
   ]
  },
  {
   "cell_type": "code",
   "execution_count": null,
   "metadata": {},
   "outputs": [],
   "source": [
    "STOCKS"
   ]
  },
  {
   "cell_type": "code",
   "execution_count": 2,
   "metadata": {},
   "outputs": [
    {
     "name": "stdout",
     "output_type": "stream",
     "text": [
      "Features: [20.16   -0.23    0.     -0.27   20.39   20.43   20.6    20.61   20.88\n",
      " 20.96   21.06   21.02   20.72   20.54   20.9482 21.5407 20.7567], Target: 25.23\n",
      "Epoch 1/15\n",
      "WARNING:tensorflow:Layer dense is casting an input tensor from dtype float64 to the layer's dtype of float32, which is new behavior in TensorFlow 2.  The layer has dtype float32 because it's dtype defaults to floatx.\n",
      "\n",
      "If you intended to run this layer in float32, you can safely ignore this warning. If in doubt, this warning is likely only an issue if you are porting a TensorFlow 1.X model to TensorFlow 2.\n",
      "\n",
      "To change all layers to have dtype float64 by default, call `tf.keras.backend.set_floatx('float64')`. To change just this layer, pass dtype='float64' to the layer constructor. If you are the author of this layer, you can disable autocasting by passing autocast=False to the base Layer constructor.\n",
      "\n",
      "365/365 [==============================] - 0s 730us/step - loss: 725.3524 - mean_squared_error: 725.3524\n",
      "Epoch 2/15\n",
      "365/365 [==============================] - 0s 827us/step - loss: 725.1650 - mean_squared_error: 725.1650\n",
      "Epoch 3/15\n",
      "365/365 [==============================] - 0s 820us/step - loss: 725.1650 - mean_squared_error: 725.1650\n",
      "Epoch 4/15\n",
      "365/365 [==============================] - 0s 821us/step - loss: 725.1652 - mean_squared_error: 725.1652\n",
      "Epoch 5/15\n",
      "365/365 [==============================] - 0s 906us/step - loss: 725.1652 - mean_squared_error: 725.1652\n",
      "Epoch 6/15\n",
      "365/365 [==============================] - 0s 843us/step - loss: 725.1650 - mean_squared_error: 725.1650\n",
      "Epoch 7/15\n",
      "365/365 [==============================] - 0s 809us/step - loss: 725.1653 - mean_squared_error: 725.1653\n",
      "Epoch 8/15\n",
      "365/365 [==============================] - 0s 827us/step - loss: 725.1652 - mean_squared_error: 725.1652\n",
      "Epoch 9/15\n",
      "365/365 [==============================] - 0s 910us/step - loss: 725.1650 - mean_squared_error: 725.1650\n",
      "Epoch 10/15\n",
      "365/365 [==============================] - 0s 820us/step - loss: 725.1649 - mean_squared_error: 725.1649\n",
      "Epoch 11/15\n",
      "365/365 [==============================] - 0s 969us/step - loss: 725.1652 - mean_squared_error: 725.1652\n",
      "Epoch 12/15\n",
      "365/365 [==============================] - 0s 1ms/step - loss: 725.1650 - mean_squared_error: 725.1650\n",
      "Epoch 13/15\n",
      "365/365 [==============================] - 0s 778us/step - loss: 725.1650 - mean_squared_error: 725.1650\n",
      "Epoch 14/15\n",
      "365/365 [==============================] - 0s 784us/step - loss: 725.1654 - mean_squared_error: 725.1654\n",
      "Epoch 15/15\n",
      "365/365 [==============================] - 0s 808us/step - loss: 725.1652 - mean_squared_error: 725.1652\n"
     ]
    }
   ],
   "source": [
    "mp.fitDataFrame(fe.pricePredictionFeatureEng40(STOCKS))"
   ]
  },
  {
   "cell_type": "code",
   "execution_count": null,
   "metadata": {},
   "outputs": [],
   "source": []
  }
 ],
 "metadata": {
  "kernelspec": {
   "display_name": "Python 3",
   "language": "python",
   "name": "python3"
  },
  "language_info": {
   "codemirror_mode": {
    "name": "ipython",
    "version": 3
   },
   "file_extension": ".py",
   "mimetype": "text/x-python",
   "name": "python",
   "nbconvert_exporter": "python",
   "pygments_lexer": "ipython3",
   "version": "3.7.6"
  }
 },
 "nbformat": 4,
 "nbformat_minor": 2
}
