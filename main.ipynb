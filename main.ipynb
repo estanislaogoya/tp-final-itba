{
 "cells": [
  {
   "cell_type": "code",
   "execution_count": 1,
   "metadata": {},
   "outputs": [],
   "source": [
    "import loadStocks as ls\n",
    "import featEng as fe\n",
    "import pandas as pd\n",
    "import ml_pytorch as mp\n",
    "\n",
    "TICKER_NAMES = ['msft']\n",
    "\n",
    "STOCKS = ls.load_tickers_df(TICKER_NAMES, display=\"grid\")"
   ]
  },
  {
   "cell_type": "code",
   "execution_count": 2,
   "metadata": {
    "scrolled": false
   },
   "outputs": [
    {
     "name": "stdout",
     "output_type": "stream",
     "text": [
      "Fit model on training data\n",
      "Epoch 1/15\n",
      "WARNING:tensorflow:Layer dense is casting an input tensor from dtype float64 to the layer's dtype of float32, which is new behavior in TensorFlow 2.  The layer has dtype float32 because it's dtype defaults to floatx.\n",
      "\n",
      "If you intended to run this layer in float32, you can safely ignore this warning. If in doubt, this warning is likely only an issue if you are porting a TensorFlow 1.X model to TensorFlow 2.\n",
      "\n",
      "To change all layers to have dtype float64 by default, call `tf.keras.backend.set_floatx('float64')`. To change just this layer, pass dtype='float64' to the layer constructor. If you are the author of this layer, you can disable autocasting by passing autocast=False to the base Layer constructor.\n",
      "\n",
      "4/4 [==============================] - 0s 48ms/step - loss: 784.1353 - mean_squared_error: 784.1353 - mean_absolute_percentage_error: 100.0000 - val_loss: 774.0145 - val_mean_squared_error: 774.0145 - val_mean_absolute_percentage_error: 100.0000\n",
      "Epoch 2/15\n",
      "4/4 [==============================] - 0s 14ms/step - loss: 784.1353 - mean_squared_error: 784.1353 - mean_absolute_percentage_error: 100.0000 - val_loss: 774.0145 - val_mean_squared_error: 774.0145 - val_mean_absolute_percentage_error: 100.0000\n",
      "Epoch 3/15\n",
      "4/4 [==============================] - 0s 15ms/step - loss: 784.1353 - mean_squared_error: 784.1353 - mean_absolute_percentage_error: 100.0000 - val_loss: 774.0145 - val_mean_squared_error: 774.0145 - val_mean_absolute_percentage_error: 100.0000\n",
      "Epoch 4/15\n",
      "4/4 [==============================] - 0s 12ms/step - loss: 784.1353 - mean_squared_error: 784.1353 - mean_absolute_percentage_error: 100.0000 - val_loss: 774.0143 - val_mean_squared_error: 774.0143 - val_mean_absolute_percentage_error: 100.0000\n",
      "Epoch 5/15\n",
      "4/4 [==============================] - 0s 14ms/step - loss: 784.1341 - mean_squared_error: 784.1341 - mean_absolute_percentage_error: 99.9999 - val_loss: 774.0090 - val_mean_squared_error: 774.0090 - val_mean_absolute_percentage_error: 99.9995\n",
      "Epoch 6/15\n",
      "4/4 [==============================] - 0s 16ms/step - loss: 784.1045 - mean_squared_error: 784.1045 - mean_absolute_percentage_error: 99.9976 - val_loss: 773.8394 - val_mean_squared_error: 773.8394 - val_mean_absolute_percentage_error: 99.9860\n",
      "Epoch 7/15\n",
      "4/4 [==============================] - 0s 17ms/step - loss: 783.1700 - mean_squared_error: 783.1700 - mean_absolute_percentage_error: 99.9283 - val_loss: 768.1834 - val_mean_squared_error: 768.1834 - val_mean_absolute_percentage_error: 99.5662\n",
      "Epoch 8/15\n",
      "4/4 [==============================] - 0s 17ms/step - loss: 763.8547 - mean_squared_error: 763.8547 - mean_absolute_percentage_error: 98.6077 - val_loss: 725.4807 - val_mean_squared_error: 725.4807 - val_mean_absolute_percentage_error: 96.6952\n",
      "Epoch 9/15\n",
      "4/4 [==============================] - 0s 17ms/step - loss: 731.5952 - mean_squared_error: 731.5952 - mean_absolute_percentage_error: 96.4742 - val_loss: 719.9279 - val_mean_squared_error: 719.9279 - val_mean_absolute_percentage_error: 96.3108\n",
      "Epoch 10/15\n",
      "4/4 [==============================] - 0s 14ms/step - loss: 729.6071 - mean_squared_error: 729.6071 - mean_absolute_percentage_error: 96.3404 - val_loss: 719.8729 - val_mean_squared_error: 719.8729 - val_mean_absolute_percentage_error: 96.3067\n",
      "Epoch 11/15\n",
      "4/4 [==============================] - 0s 15ms/step - loss: 729.5847 - mean_squared_error: 729.5847 - mean_absolute_percentage_error: 96.3387 - val_loss: 719.8708 - val_mean_squared_error: 719.8708 - val_mean_absolute_percentage_error: 96.3065\n",
      "Epoch 12/15\n",
      "4/4 [==============================] - 0s 16ms/step - loss: 729.5836 - mean_squared_error: 729.5836 - mean_absolute_percentage_error: 96.3387 - val_loss: 719.8707 - val_mean_squared_error: 719.8707 - val_mean_absolute_percentage_error: 96.3065\n",
      "Epoch 13/15\n",
      "4/4 [==============================] - 0s 14ms/step - loss: 729.5835 - mean_squared_error: 729.5835 - mean_absolute_percentage_error: 96.3387 - val_loss: 719.8706 - val_mean_squared_error: 719.8706 - val_mean_absolute_percentage_error: 96.3065\n",
      "Epoch 14/15\n",
      "4/4 [==============================] - 0s 12ms/step - loss: 729.5835 - mean_squared_error: 729.5835 - mean_absolute_percentage_error: 96.3387 - val_loss: 719.8706 - val_mean_squared_error: 719.8706 - val_mean_absolute_percentage_error: 96.3065\n",
      "Epoch 15/15\n",
      "4/4 [==============================] - 0s 17ms/step - loss: 729.5835 - mean_squared_error: 729.5835 - mean_absolute_percentage_error: 96.3387 - val_loss: 719.8706 - val_mean_squared_error: 719.8706 - val_mean_absolute_percentage_error: 96.3065\n"
     ]
    }
   ],
   "source": [
    "mp.fitDataFrame(fe.pricePredictionFeatureEng40(STOCKS))"
   ]
  },
  {
   "cell_type": "code",
   "execution_count": null,
   "metadata": {},
   "outputs": [],
   "source": []
  },
  {
   "cell_type": "code",
   "execution_count": null,
   "metadata": {},
   "outputs": [],
   "source": []
  }
 ],
 "metadata": {
  "kernelspec": {
   "display_name": "Python 3",
   "language": "python",
   "name": "python3"
  },
  "language_info": {
   "codemirror_mode": {
    "name": "ipython",
    "version": 3
   },
   "file_extension": ".py",
   "mimetype": "text/x-python",
   "name": "python",
   "nbconvert_exporter": "python",
   "pygments_lexer": "ipython3",
   "version": "3.7.6"
  }
 },
 "nbformat": 4,
 "nbformat_minor": 2
}
