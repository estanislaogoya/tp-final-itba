{
 "cells": [
  {
   "cell_type": "code",
   "execution_count": 1,
   "metadata": {},
   "outputs": [],
   "source": [
    "import loadStocks as ls\n",
    "import featEng as fe\n",
    "import pandas as pd\n",
    "import mlModels as mp\n",
    "import plotCharts as pc\n",
    "from multiprocessing import Pool\n",
    "import contextlib\n",
    "\n",
    "TICKER_NAMES = ['fb','msft']\n",
    "\n",
    "STOCKS = ls.load_tickers_df(TICKER_NAMES, display=\"append\")"
   ]
  },
  {
   "cell_type": "code",
   "execution_count": 2,
   "metadata": {},
   "outputs": [
    {
     "name": "stdout",
     "output_type": "stream",
     "text": [
      "Fit model on training data\n",
      "Epoch 1/50\n",
      "WARNING:tensorflow:Layer dense is casting an input tensor from dtype float64 to the layer's dtype of float32, which is new behavior in TensorFlow 2.  The layer has dtype float32 because its dtype defaults to floatx.\n",
      "\n",
      "If you intended to run this layer in float32, you can safely ignore this warning. If in doubt, this warning is likely only an issue if you are porting a TensorFlow 1.X model to TensorFlow 2.\n",
      "\n",
      "To change all layers to have dtype float64 by default, call `tf.keras.backend.set_floatx('float64')`. To change just this layer, pass dtype='float64' to the layer constructor. If you are the author of this layer, you can disable autocasting by passing autocast=False to the base Layer constructor.\n",
      "\n"
     ]
    },
    {
     "name": "stderr",
     "output_type": "stream",
     "text": [
      "/Users/egarciagoya/OneDrive - Facebook/ITBA Especializacion/tp_final/code/notebooks/featEng.py:18: SettingWithCopyWarning: \n",
      "A value is trying to be set on a copy of a slice from a DataFrame.\n",
      "Try using .loc[row_indexer,col_indexer] = value instead\n",
      "\n",
      "See the caveats in the documentation: https://pandas.pydata.org/pandas-docs/stable/user_guide/indexing.html#returning-a-view-versus-a-copy\n",
      "  df['future_price'] = df.loc[:, 'Close'].shift(LOOK_WINDOW)\n",
      "/Users/egarciagoya/opt/anaconda3/lib/python3.8/site-packages/pandas/core/frame.py:3990: SettingWithCopyWarning: \n",
      "A value is trying to be set on a copy of a slice from a DataFrame\n",
      "\n",
      "See the caveats in the documentation: https://pandas.pydata.org/pandas-docs/stable/user_guide/indexing.html#returning-a-view-versus-a-copy\n",
      "  return super().drop(\n"
     ]
    },
    {
     "name": "stdout",
     "output_type": "stream",
     "text": [
      "32/32 [==============================] - 0s 5ms/step - loss: 23145.6465 - mean_squared_error: 23145.6417 - mean_absolute_percentage_error: 100.0000 - val_loss: 23163.4434 - val_mean_squared_error: 23163.4464 - val_mean_absolute_percentage_error: 100.0000\n",
      "Epoch 2/50\n",
      "32/32 [==============================] - 0s 1ms/step - loss: 23145.6426 - mean_squared_error: 23145.6417 - mean_absolute_percentage_error: 100.0000 - val_loss: 23163.4434 - val_mean_squared_error: 23163.4464 - val_mean_absolute_percentage_error: 100.0000\n",
      "Epoch 3/50\n",
      "32/32 [==============================] - 0s 1ms/step - loss: 23145.6406 - mean_squared_error: 23145.6417 - mean_absolute_percentage_error: 100.0000 - val_loss: 23163.4434 - val_mean_squared_error: 23163.4464 - val_mean_absolute_percentage_error: 100.0000\n",
      "Epoch 4/50\n",
      "32/32 [==============================] - 0s 1ms/step - loss: 23145.6426 - mean_squared_error: 23145.6417 - mean_absolute_percentage_error: 100.0000 - val_loss: 23163.4434 - val_mean_squared_error: 23163.4464 - val_mean_absolute_percentage_error: 100.0000\n",
      "Epoch 5/50\n",
      "32/32 [==============================] - 0s 1ms/step - loss: 23145.6406 - mean_squared_error: 23145.6417 - mean_absolute_percentage_error: 100.0000 - val_loss: 23163.4434 - val_mean_squared_error: 23163.4464 - val_mean_absolute_percentage_error: 100.0000\n",
      "Epoch 6/50\n",
      "32/32 [==============================] - 0s 1ms/step - loss: 23145.6406 - mean_squared_error: 23145.6417 - mean_absolute_percentage_error: 100.0000 - val_loss: 23163.4434 - val_mean_squared_error: 23163.4464 - val_mean_absolute_percentage_error: 100.0000\n",
      "Epoch 7/50\n",
      "32/32 [==============================] - 0s 1ms/step - loss: 23145.6406 - mean_squared_error: 23145.6417 - mean_absolute_percentage_error: 100.0000 - val_loss: 23163.4434 - val_mean_squared_error: 23163.4464 - val_mean_absolute_percentage_error: 100.0000\n",
      "Epoch 8/50\n",
      "32/32 [==============================] - 0s 1ms/step - loss: 23145.6426 - mean_squared_error: 23145.6417 - mean_absolute_percentage_error: 100.0000 - val_loss: 23163.4434 - val_mean_squared_error: 23163.4464 - val_mean_absolute_percentage_error: 100.0000\n",
      "Epoch 9/50\n",
      "32/32 [==============================] - 0s 1ms/step - loss: 23145.6445 - mean_squared_error: 23145.6417 - mean_absolute_percentage_error: 100.0000 - val_loss: 23163.4434 - val_mean_squared_error: 23163.4464 - val_mean_absolute_percentage_error: 100.0000\n",
      "Epoch 10/50\n",
      "32/32 [==============================] - 0s 1ms/step - loss: 23145.6406 - mean_squared_error: 23145.6417 - mean_absolute_percentage_error: 100.0000 - val_loss: 23163.4434 - val_mean_squared_error: 23163.4464 - val_mean_absolute_percentage_error: 100.0000\n",
      "Epoch 11/50\n",
      "32/32 [==============================] - 0s 1ms/step - loss: 23145.6426 - mean_squared_error: 23145.6417 - mean_absolute_percentage_error: 100.0000 - val_loss: 23163.4434 - val_mean_squared_error: 23163.4464 - val_mean_absolute_percentage_error: 100.0000\n",
      "Epoch 12/50\n",
      "32/32 [==============================] - 0s 1ms/step - loss: 23145.6426 - mean_squared_error: 23145.6417 - mean_absolute_percentage_error: 100.0000 - val_loss: 23163.4434 - val_mean_squared_error: 23163.4464 - val_mean_absolute_percentage_error: 100.0000\n",
      "Epoch 13/50\n",
      "32/32 [==============================] - 0s 1ms/step - loss: 23145.6406 - mean_squared_error: 23145.6417 - mean_absolute_percentage_error: 100.0000 - val_loss: 23163.4434 - val_mean_squared_error: 23163.4464 - val_mean_absolute_percentage_error: 100.0000\n",
      "Epoch 14/50\n",
      "32/32 [==============================] - 0s 1ms/step - loss: 23145.6387 - mean_squared_error: 23145.6417 - mean_absolute_percentage_error: 100.0000 - val_loss: 23163.4434 - val_mean_squared_error: 23163.4464 - val_mean_absolute_percentage_error: 100.0000\n",
      "Epoch 15/50\n",
      "32/32 [==============================] - 0s 2ms/step - loss: 23145.6426 - mean_squared_error: 23145.6417 - mean_absolute_percentage_error: 100.0000 - val_loss: 23163.4434 - val_mean_squared_error: 23163.4464 - val_mean_absolute_percentage_error: 100.0000\n",
      "Epoch 16/50\n",
      "32/32 [==============================] - 0s 1ms/step - loss: 23145.6406 - mean_squared_error: 23145.6417 - mean_absolute_percentage_error: 100.0000 - val_loss: 23163.4434 - val_mean_squared_error: 23163.4464 - val_mean_absolute_percentage_error: 100.0000\n",
      "Epoch 17/50\n",
      "32/32 [==============================] - 0s 1ms/step - loss: 23145.6426 - mean_squared_error: 23145.6417 - mean_absolute_percentage_error: 100.0000 - val_loss: 23163.4434 - val_mean_squared_error: 23163.4464 - val_mean_absolute_percentage_error: 100.0000\n",
      "Epoch 18/50\n",
      "32/32 [==============================] - 0s 1ms/step - loss: 23145.6445 - mean_squared_error: 23145.6417 - mean_absolute_percentage_error: 100.0000 - val_loss: 23163.4434 - val_mean_squared_error: 23163.4464 - val_mean_absolute_percentage_error: 100.0000\n",
      "Epoch 19/50\n",
      "32/32 [==============================] - 0s 1ms/step - loss: 23145.6406 - mean_squared_error: 23145.6417 - mean_absolute_percentage_error: 100.0000 - val_loss: 23163.4434 - val_mean_squared_error: 23163.4464 - val_mean_absolute_percentage_error: 100.0000\n",
      "Epoch 20/50\n",
      "32/32 [==============================] - 0s 1ms/step - loss: 23145.6406 - mean_squared_error: 23145.6417 - mean_absolute_percentage_error: 100.0000 - val_loss: 23163.4434 - val_mean_squared_error: 23163.4464 - val_mean_absolute_percentage_error: 100.0000\n",
      "Epoch 21/50\n",
      "32/32 [==============================] - 0s 1ms/step - loss: 23145.6406 - mean_squared_error: 23145.6417 - mean_absolute_percentage_error: 100.0000 - val_loss: 23163.4434 - val_mean_squared_error: 23163.4464 - val_mean_absolute_percentage_error: 100.0000\n",
      "Epoch 22/50\n",
      "32/32 [==============================] - 0s 1ms/step - loss: 23145.6445 - mean_squared_error: 23145.6417 - mean_absolute_percentage_error: 100.0000 - val_loss: 23163.4434 - val_mean_squared_error: 23163.4464 - val_mean_absolute_percentage_error: 100.0000\n",
      "Epoch 23/50\n",
      "32/32 [==============================] - 0s 1ms/step - loss: 23145.6426 - mean_squared_error: 23145.6417 - mean_absolute_percentage_error: 100.0000 - val_loss: 23163.4434 - val_mean_squared_error: 23163.4464 - val_mean_absolute_percentage_error: 100.0000\n",
      "Epoch 24/50\n",
      "32/32 [==============================] - 0s 1ms/step - loss: 23145.6426 - mean_squared_error: 23145.6417 - mean_absolute_percentage_error: 100.0000 - val_loss: 23163.4434 - val_mean_squared_error: 23163.4464 - val_mean_absolute_percentage_error: 100.0000\n",
      "Epoch 25/50\n",
      "32/32 [==============================] - 0s 1ms/step - loss: 23145.6465 - mean_squared_error: 23145.6417 - mean_absolute_percentage_error: 100.0000 - val_loss: 23163.4434 - val_mean_squared_error: 23163.4464 - val_mean_absolute_percentage_error: 100.0000\n",
      "Epoch 26/50\n",
      "32/32 [==============================] - 0s 1ms/step - loss: 23145.6406 - mean_squared_error: 23145.6417 - mean_absolute_percentage_error: 100.0000 - val_loss: 23163.4434 - val_mean_squared_error: 23163.4464 - val_mean_absolute_percentage_error: 100.0000\n",
      "Epoch 27/50\n",
      "32/32 [==============================] - 0s 1ms/step - loss: 23145.6445 - mean_squared_error: 23145.6417 - mean_absolute_percentage_error: 100.0000 - val_loss: 23163.4434 - val_mean_squared_error: 23163.4464 - val_mean_absolute_percentage_error: 100.0000\n",
      "Epoch 28/50\n",
      "32/32 [==============================] - 0s 1ms/step - loss: 23145.6426 - mean_squared_error: 23145.6417 - mean_absolute_percentage_error: 100.0000 - val_loss: 23163.4434 - val_mean_squared_error: 23163.4464 - val_mean_absolute_percentage_error: 100.0000\n",
      "Epoch 29/50\n",
      "32/32 [==============================] - 0s 1ms/step - loss: 23145.6445 - mean_squared_error: 23145.6417 - mean_absolute_percentage_error: 100.0000 - val_loss: 23163.4434 - val_mean_squared_error: 23163.4464 - val_mean_absolute_percentage_error: 100.0000\n",
      "Epoch 30/50\n",
      "32/32 [==============================] - 0s 1ms/step - loss: 23145.6426 - mean_squared_error: 23145.6417 - mean_absolute_percentage_error: 100.0000 - val_loss: 23163.4434 - val_mean_squared_error: 23163.4464 - val_mean_absolute_percentage_error: 100.0000\n",
      "Epoch 31/50\n",
      "32/32 [==============================] - 0s 1ms/step - loss: 23145.6426 - mean_squared_error: 23145.6417 - mean_absolute_percentage_error: 100.0000 - val_loss: 23163.4434 - val_mean_squared_error: 23163.4464 - val_mean_absolute_percentage_error: 100.0000\n"
     ]
    },
    {
     "name": "stdout",
     "output_type": "stream",
     "text": [
      "Epoch 32/50\n",
      "32/32 [==============================] - 0s 1ms/step - loss: 23145.6406 - mean_squared_error: 23145.6417 - mean_absolute_percentage_error: 100.0000 - val_loss: 23163.4434 - val_mean_squared_error: 23163.4464 - val_mean_absolute_percentage_error: 100.0000\n",
      "Epoch 33/50\n",
      "32/32 [==============================] - 0s 1ms/step - loss: 23145.6406 - mean_squared_error: 23145.6417 - mean_absolute_percentage_error: 100.0000 - val_loss: 23163.4434 - val_mean_squared_error: 23163.4464 - val_mean_absolute_percentage_error: 100.0000\n",
      "Epoch 34/50\n",
      "32/32 [==============================] - 0s 1ms/step - loss: 23145.6406 - mean_squared_error: 23145.6417 - mean_absolute_percentage_error: 100.0000 - val_loss: 23163.4434 - val_mean_squared_error: 23163.4464 - val_mean_absolute_percentage_error: 100.0000\n",
      "Epoch 35/50\n",
      "32/32 [==============================] - 0s 1ms/step - loss: 23145.6387 - mean_squared_error: 23145.6417 - mean_absolute_percentage_error: 100.0000 - val_loss: 23163.4434 - val_mean_squared_error: 23163.4464 - val_mean_absolute_percentage_error: 100.0000\n",
      "Epoch 36/50\n",
      "32/32 [==============================] - 0s 1ms/step - loss: 23145.6426 - mean_squared_error: 23145.6417 - mean_absolute_percentage_error: 100.0000 - val_loss: 23163.4434 - val_mean_squared_error: 23163.4464 - val_mean_absolute_percentage_error: 100.0000\n",
      "Epoch 37/50\n",
      "32/32 [==============================] - 0s 1ms/step - loss: 23145.6406 - mean_squared_error: 23145.6417 - mean_absolute_percentage_error: 100.0000 - val_loss: 23163.4434 - val_mean_squared_error: 23163.4464 - val_mean_absolute_percentage_error: 100.0000\n",
      "Epoch 38/50\n",
      "32/32 [==============================] - 0s 1ms/step - loss: 23145.6406 - mean_squared_error: 23145.6417 - mean_absolute_percentage_error: 100.0000 - val_loss: 23163.4434 - val_mean_squared_error: 23163.4464 - val_mean_absolute_percentage_error: 100.0000\n",
      "Epoch 39/50\n",
      "32/32 [==============================] - 0s 1ms/step - loss: 23145.6426 - mean_squared_error: 23145.6417 - mean_absolute_percentage_error: 100.0000 - val_loss: 23163.4434 - val_mean_squared_error: 23163.4464 - val_mean_absolute_percentage_error: 100.0000\n",
      "Epoch 40/50\n",
      "32/32 [==============================] - 0s 1ms/step - loss: 23145.6406 - mean_squared_error: 23145.6417 - mean_absolute_percentage_error: 100.0000 - val_loss: 23163.4434 - val_mean_squared_error: 23163.4464 - val_mean_absolute_percentage_error: 100.0000\n",
      "Epoch 41/50\n",
      "32/32 [==============================] - 0s 1ms/step - loss: 23145.6426 - mean_squared_error: 23145.6417 - mean_absolute_percentage_error: 100.0000 - val_loss: 23163.4434 - val_mean_squared_error: 23163.4464 - val_mean_absolute_percentage_error: 100.0000\n",
      "Epoch 42/50\n",
      "32/32 [==============================] - 0s 1ms/step - loss: 23145.6426 - mean_squared_error: 23145.6417 - mean_absolute_percentage_error: 100.0000 - val_loss: 23163.4434 - val_mean_squared_error: 23163.4464 - val_mean_absolute_percentage_error: 100.0000\n",
      "Epoch 43/50\n",
      "32/32 [==============================] - 0s 1ms/step - loss: 23145.6406 - mean_squared_error: 23145.6417 - mean_absolute_percentage_error: 100.0000 - val_loss: 23163.4434 - val_mean_squared_error: 23163.4464 - val_mean_absolute_percentage_error: 100.0000\n",
      "Epoch 44/50\n",
      "32/32 [==============================] - 0s 1ms/step - loss: 23145.6406 - mean_squared_error: 23145.6417 - mean_absolute_percentage_error: 100.0000 - val_loss: 23163.4434 - val_mean_squared_error: 23163.4464 - val_mean_absolute_percentage_error: 100.0000\n",
      "Epoch 45/50\n",
      "32/32 [==============================] - 0s 1ms/step - loss: 23145.6426 - mean_squared_error: 23145.6417 - mean_absolute_percentage_error: 100.0000 - val_loss: 23163.4434 - val_mean_squared_error: 23163.4464 - val_mean_absolute_percentage_error: 100.0000\n",
      "Epoch 46/50\n",
      "32/32 [==============================] - 0s 1ms/step - loss: 23145.6426 - mean_squared_error: 23145.6417 - mean_absolute_percentage_error: 100.0000 - val_loss: 23163.4434 - val_mean_squared_error: 23163.4464 - val_mean_absolute_percentage_error: 100.0000\n",
      "Epoch 47/50\n",
      "32/32 [==============================] - 0s 1ms/step - loss: 23145.6465 - mean_squared_error: 23145.6417 - mean_absolute_percentage_error: 100.0000 - val_loss: 23163.4434 - val_mean_squared_error: 23163.4464 - val_mean_absolute_percentage_error: 100.0000\n",
      "Epoch 48/50\n",
      "32/32 [==============================] - 0s 1ms/step - loss: 23145.6406 - mean_squared_error: 23145.6417 - mean_absolute_percentage_error: 100.0000 - val_loss: 23163.4434 - val_mean_squared_error: 23163.4464 - val_mean_absolute_percentage_error: 100.0000\n",
      "Epoch 49/50\n",
      "32/32 [==============================] - 0s 1ms/step - loss: 23145.6426 - mean_squared_error: 23145.6417 - mean_absolute_percentage_error: 100.0000 - val_loss: 23163.4434 - val_mean_squared_error: 23163.4464 - val_mean_absolute_percentage_error: 100.0000\n",
      "Epoch 50/50\n",
      "32/32 [==============================] - 0s 1ms/step - loss: 23145.6445 - mean_squared_error: 23145.6417 - mean_absolute_percentage_error: 100.0000 - val_loss: 23163.4434 - val_mean_squared_error: 23163.4464 - val_mean_absolute_percentage_error: 100.0000\n",
      "Evaluate on test data\n",
      "4/4 [==============================] - 0s 605us/step - loss: 23163.4473 - mean_squared_error: 23163.4464 - mean_absolute_percentage_error: 100.0000\n",
      "test loss, test acc: [23163.447265625, 23163.44638791895, 100.0]\n",
      "152.19542147563166\n",
      "3.543064760056133\n",
      "38.872808193710114\n",
      "Fit model on training data\n",
      "Epoch 1/50\n",
      "41/41 [==============================] - 0s 4ms/step - loss: 7187.4400 - mean_squared_error: 7187.4400 - mean_absolute_percentage_error: 100.0000 - val_loss: 7776.6831 - val_mean_squared_error: 7776.6832 - val_mean_absolute_percentage_error: 100.0000\n",
      "Epoch 2/50\n",
      "41/41 [==============================] - 0s 1ms/step - loss: 7187.4400 - mean_squared_error: 7187.4400 - mean_absolute_percentage_error: 100.0000 - val_loss: 7776.6831 - val_mean_squared_error: 7776.6832 - val_mean_absolute_percentage_error: 100.0000\n",
      "Epoch 3/50\n",
      "41/41 [==============================] - 0s 1ms/step - loss: 7187.4400 - mean_squared_error: 7187.4400 - mean_absolute_percentage_error: 100.0000 - val_loss: 7776.6831 - val_mean_squared_error: 7776.6832 - val_mean_absolute_percentage_error: 100.0000\n",
      "Epoch 4/50\n",
      "41/41 [==============================] - 0s 1ms/step - loss: 7187.4401 - mean_squared_error: 7187.4400 - mean_absolute_percentage_error: 100.0000 - val_loss: 7776.6831 - val_mean_squared_error: 7776.6832 - val_mean_absolute_percentage_error: 100.0000\n",
      "Epoch 5/50\n",
      "41/41 [==============================] - 0s 1ms/step - loss: 7187.4401 - mean_squared_error: 7187.4400 - mean_absolute_percentage_error: 100.0000 - val_loss: 7776.6831 - val_mean_squared_error: 7776.6832 - val_mean_absolute_percentage_error: 100.0000\n",
      "Epoch 6/50\n",
      "41/41 [==============================] - 0s 1ms/step - loss: 7187.4400 - mean_squared_error: 7187.4400 - mean_absolute_percentage_error: 100.0000 - val_loss: 7776.6831 - val_mean_squared_error: 7776.6832 - val_mean_absolute_percentage_error: 100.0000\n",
      "Epoch 7/50\n",
      "41/41 [==============================] - 0s 1ms/step - loss: 7187.4399 - mean_squared_error: 7187.4400 - mean_absolute_percentage_error: 100.0000 - val_loss: 7776.6831 - val_mean_squared_error: 7776.6832 - val_mean_absolute_percentage_error: 100.0000\n",
      "Epoch 8/50\n",
      "41/41 [==============================] - 0s 1ms/step - loss: 7187.4400 - mean_squared_error: 7187.4400 - mean_absolute_percentage_error: 100.0000 - val_loss: 7776.6831 - val_mean_squared_error: 7776.6832 - val_mean_absolute_percentage_error: 100.0000\n",
      "Epoch 9/50\n",
      "41/41 [==============================] - 0s 1ms/step - loss: 7187.4400 - mean_squared_error: 7187.4400 - mean_absolute_percentage_error: 100.0000 - val_loss: 7776.6831 - val_mean_squared_error: 7776.6832 - val_mean_absolute_percentage_error: 100.0000\n",
      "Epoch 10/50\n",
      "41/41 [==============================] - 0s 1ms/step - loss: 7187.4400 - mean_squared_error: 7187.4400 - mean_absolute_percentage_error: 100.0000 - val_loss: 7776.6831 - val_mean_squared_error: 7776.6832 - val_mean_absolute_percentage_error: 100.0000\n",
      "Epoch 11/50\n",
      "41/41 [==============================] - 0s 1ms/step - loss: 7187.4400 - mean_squared_error: 7187.4400 - mean_absolute_percentage_error: 100.0000 - val_loss: 7776.6831 - val_mean_squared_error: 7776.6832 - val_mean_absolute_percentage_error: 100.0000\n"
     ]
    },
    {
     "name": "stdout",
     "output_type": "stream",
     "text": [
      "Epoch 12/50\n",
      "41/41 [==============================] - 0s 1ms/step - loss: 7187.4400 - mean_squared_error: 7187.4400 - mean_absolute_percentage_error: 100.0000 - val_loss: 7776.6831 - val_mean_squared_error: 7776.6832 - val_mean_absolute_percentage_error: 100.0000\n",
      "Epoch 13/50\n",
      "41/41 [==============================] - 0s 1ms/step - loss: 7187.4400 - mean_squared_error: 7187.4400 - mean_absolute_percentage_error: 100.0000 - val_loss: 7776.6831 - val_mean_squared_error: 7776.6832 - val_mean_absolute_percentage_error: 100.0000\n",
      "Epoch 14/50\n",
      "41/41 [==============================] - 0s 1ms/step - loss: 7187.4400 - mean_squared_error: 7187.4400 - mean_absolute_percentage_error: 100.0000 - val_loss: 7776.6831 - val_mean_squared_error: 7776.6832 - val_mean_absolute_percentage_error: 100.0000\n",
      "Epoch 15/50\n",
      "41/41 [==============================] - 0s 1ms/step - loss: 7187.4399 - mean_squared_error: 7187.4400 - mean_absolute_percentage_error: 100.0000 - val_loss: 7776.6831 - val_mean_squared_error: 7776.6832 - val_mean_absolute_percentage_error: 100.0000\n",
      "Epoch 16/50\n",
      "41/41 [==============================] - 0s 2ms/step - loss: 7187.4400 - mean_squared_error: 7187.4400 - mean_absolute_percentage_error: 100.0000 - val_loss: 7776.6831 - val_mean_squared_error: 7776.6832 - val_mean_absolute_percentage_error: 100.0000\n",
      "Epoch 17/50\n",
      "41/41 [==============================] - 0s 1ms/step - loss: 7187.4399 - mean_squared_error: 7187.4400 - mean_absolute_percentage_error: 100.0000 - val_loss: 7776.6831 - val_mean_squared_error: 7776.6832 - val_mean_absolute_percentage_error: 100.0000\n",
      "Epoch 18/50\n",
      "41/41 [==============================] - 0s 1ms/step - loss: 7187.4400 - mean_squared_error: 7187.4400 - mean_absolute_percentage_error: 100.0000 - val_loss: 7776.6831 - val_mean_squared_error: 7776.6832 - val_mean_absolute_percentage_error: 100.0000\n",
      "Epoch 19/50\n",
      "41/41 [==============================] - 0s 1ms/step - loss: 7187.4400 - mean_squared_error: 7187.4400 - mean_absolute_percentage_error: 100.0000 - val_loss: 7776.6831 - val_mean_squared_error: 7776.6832 - val_mean_absolute_percentage_error: 100.0000\n",
      "Epoch 20/50\n",
      "41/41 [==============================] - 0s 1ms/step - loss: 7187.4400 - mean_squared_error: 7187.4400 - mean_absolute_percentage_error: 100.0000 - val_loss: 7776.6831 - val_mean_squared_error: 7776.6832 - val_mean_absolute_percentage_error: 100.0000\n",
      "Epoch 21/50\n",
      "41/41 [==============================] - 0s 1ms/step - loss: 7187.4400 - mean_squared_error: 7187.4400 - mean_absolute_percentage_error: 100.0000 - val_loss: 7776.6831 - val_mean_squared_error: 7776.6832 - val_mean_absolute_percentage_error: 100.0000\n",
      "Epoch 22/50\n",
      "41/41 [==============================] - 0s 1ms/step - loss: 7187.4400 - mean_squared_error: 7187.4400 - mean_absolute_percentage_error: 100.0000 - val_loss: 7776.6831 - val_mean_squared_error: 7776.6832 - val_mean_absolute_percentage_error: 100.0000\n",
      "Epoch 23/50\n",
      "41/41 [==============================] - 0s 1ms/step - loss: 7187.4399 - mean_squared_error: 7187.4400 - mean_absolute_percentage_error: 100.0000 - val_loss: 7776.6831 - val_mean_squared_error: 7776.6832 - val_mean_absolute_percentage_error: 100.0000\n",
      "Epoch 24/50\n",
      "41/41 [==============================] - 0s 1ms/step - loss: 7187.4400 - mean_squared_error: 7187.4400 - mean_absolute_percentage_error: 100.0000 - val_loss: 7776.6831 - val_mean_squared_error: 7776.6832 - val_mean_absolute_percentage_error: 100.0000\n",
      "Epoch 25/50\n",
      "41/41 [==============================] - 0s 1ms/step - loss: 7187.4400 - mean_squared_error: 7187.4400 - mean_absolute_percentage_error: 100.0000 - val_loss: 7776.6831 - val_mean_squared_error: 7776.6832 - val_mean_absolute_percentage_error: 100.0000\n",
      "Epoch 26/50\n",
      "41/41 [==============================] - 0s 1ms/step - loss: 7187.4400 - mean_squared_error: 7187.4400 - mean_absolute_percentage_error: 100.0000 - val_loss: 7776.6831 - val_mean_squared_error: 7776.6832 - val_mean_absolute_percentage_error: 100.0000\n",
      "Epoch 27/50\n",
      "41/41 [==============================] - 0s 1ms/step - loss: 7187.4401 - mean_squared_error: 7187.4400 - mean_absolute_percentage_error: 100.0000 - val_loss: 7776.6831 - val_mean_squared_error: 7776.6832 - val_mean_absolute_percentage_error: 100.0000\n",
      "Epoch 28/50\n",
      "41/41 [==============================] - 0s 1ms/step - loss: 7187.4400 - mean_squared_error: 7187.4400 - mean_absolute_percentage_error: 100.0000 - val_loss: 7776.6831 - val_mean_squared_error: 7776.6832 - val_mean_absolute_percentage_error: 100.0000\n",
      "Epoch 29/50\n",
      "41/41 [==============================] - 0s 1ms/step - loss: 7187.4400 - mean_squared_error: 7187.4400 - mean_absolute_percentage_error: 100.0000 - val_loss: 7776.6831 - val_mean_squared_error: 7776.6832 - val_mean_absolute_percentage_error: 100.0000\n",
      "Epoch 30/50\n",
      "41/41 [==============================] - 0s 1ms/step - loss: 7187.4400 - mean_squared_error: 7187.4400 - mean_absolute_percentage_error: 100.0000 - val_loss: 7776.6831 - val_mean_squared_error: 7776.6832 - val_mean_absolute_percentage_error: 100.0000\n",
      "Epoch 31/50\n",
      "41/41 [==============================] - 0s 1ms/step - loss: 7187.4400 - mean_squared_error: 7187.4400 - mean_absolute_percentage_error: 100.0000 - val_loss: 7776.6831 - val_mean_squared_error: 7776.6832 - val_mean_absolute_percentage_error: 100.0000\n",
      "Epoch 32/50\n",
      "41/41 [==============================] - 0s 1ms/step - loss: 7187.4399 - mean_squared_error: 7187.4400 - mean_absolute_percentage_error: 100.0000 - val_loss: 7776.6831 - val_mean_squared_error: 7776.6832 - val_mean_absolute_percentage_error: 100.0000\n",
      "Epoch 33/50\n",
      "41/41 [==============================] - 0s 1ms/step - loss: 7187.4400 - mean_squared_error: 7187.4400 - mean_absolute_percentage_error: 100.0000 - val_loss: 7776.6831 - val_mean_squared_error: 7776.6832 - val_mean_absolute_percentage_error: 100.0000\n",
      "Epoch 34/50\n",
      "41/41 [==============================] - 0s 1ms/step - loss: 7187.4400 - mean_squared_error: 7187.4400 - mean_absolute_percentage_error: 100.0000 - val_loss: 7776.6831 - val_mean_squared_error: 7776.6832 - val_mean_absolute_percentage_error: 100.0000\n",
      "Epoch 35/50\n",
      "41/41 [==============================] - 0s 1ms/step - loss: 7187.4400 - mean_squared_error: 7187.4400 - mean_absolute_percentage_error: 100.0000 - val_loss: 7776.6831 - val_mean_squared_error: 7776.6832 - val_mean_absolute_percentage_error: 100.0000\n",
      "Epoch 36/50\n",
      "41/41 [==============================] - 0s 1ms/step - loss: 7187.4400 - mean_squared_error: 7187.4400 - mean_absolute_percentage_error: 100.0000 - val_loss: 7776.6831 - val_mean_squared_error: 7776.6832 - val_mean_absolute_percentage_error: 100.0000\n",
      "Epoch 37/50\n",
      "41/41 [==============================] - 0s 1ms/step - loss: 7187.4399 - mean_squared_error: 7187.4400 - mean_absolute_percentage_error: 100.0000 - val_loss: 7776.6831 - val_mean_squared_error: 7776.6832 - val_mean_absolute_percentage_error: 100.0000\n",
      "Epoch 38/50\n",
      "41/41 [==============================] - 0s 1ms/step - loss: 7187.4400 - mean_squared_error: 7187.4400 - mean_absolute_percentage_error: 100.0000 - val_loss: 7776.6831 - val_mean_squared_error: 7776.6832 - val_mean_absolute_percentage_error: 100.0000\n",
      "Epoch 39/50\n",
      "41/41 [==============================] - 0s 1ms/step - loss: 7187.4400 - mean_squared_error: 7187.4400 - mean_absolute_percentage_error: 100.0000 - val_loss: 7776.6831 - val_mean_squared_error: 7776.6832 - val_mean_absolute_percentage_error: 100.0000\n",
      "Epoch 40/50\n",
      "41/41 [==============================] - 0s 1ms/step - loss: 7187.4400 - mean_squared_error: 7187.4400 - mean_absolute_percentage_error: 100.0000 - val_loss: 7776.6831 - val_mean_squared_error: 7776.6832 - val_mean_absolute_percentage_error: 100.0000\n",
      "Epoch 41/50\n",
      "41/41 [==============================] - 0s 1ms/step - loss: 7187.4400 - mean_squared_error: 7187.4400 - mean_absolute_percentage_error: 100.0000 - val_loss: 7776.6831 - val_mean_squared_error: 7776.6832 - val_mean_absolute_percentage_error: 100.0000\n",
      "Epoch 42/50\n",
      "41/41 [==============================] - 0s 1ms/step - loss: 7187.4399 - mean_squared_error: 7187.4400 - mean_absolute_percentage_error: 100.0000 - val_loss: 7776.6831 - val_mean_squared_error: 7776.6832 - val_mean_absolute_percentage_error: 100.0000\n",
      "Epoch 43/50\n"
     ]
    },
    {
     "name": "stdout",
     "output_type": "stream",
     "text": [
      "41/41 [==============================] - 0s 1ms/step - loss: 7187.4399 - mean_squared_error: 7187.4400 - mean_absolute_percentage_error: 100.0000 - val_loss: 7776.6831 - val_mean_squared_error: 7776.6832 - val_mean_absolute_percentage_error: 100.0000\n",
      "Epoch 44/50\n",
      "41/41 [==============================] - 0s 1ms/step - loss: 7187.4400 - mean_squared_error: 7187.4400 - mean_absolute_percentage_error: 100.0000 - val_loss: 7776.6831 - val_mean_squared_error: 7776.6832 - val_mean_absolute_percentage_error: 100.0000\n",
      "Epoch 45/50\n",
      "41/41 [==============================] - 0s 1ms/step - loss: 7187.4400 - mean_squared_error: 7187.4400 - mean_absolute_percentage_error: 100.0000 - val_loss: 7776.6831 - val_mean_squared_error: 7776.6832 - val_mean_absolute_percentage_error: 100.0000\n",
      "Epoch 46/50\n",
      "41/41 [==============================] - 0s 1ms/step - loss: 7187.4400 - mean_squared_error: 7187.4400 - mean_absolute_percentage_error: 100.0000 - val_loss: 7776.6831 - val_mean_squared_error: 7776.6832 - val_mean_absolute_percentage_error: 100.0000\n",
      "Epoch 47/50\n",
      "41/41 [==============================] - 0s 1ms/step - loss: 7187.4400 - mean_squared_error: 7187.4400 - mean_absolute_percentage_error: 100.0000 - val_loss: 7776.6831 - val_mean_squared_error: 7776.6832 - val_mean_absolute_percentage_error: 100.0000\n",
      "Epoch 48/50\n",
      "41/41 [==============================] - 0s 1ms/step - loss: 7187.4400 - mean_squared_error: 7187.4400 - mean_absolute_percentage_error: 100.0000 - val_loss: 7776.6831 - val_mean_squared_error: 7776.6832 - val_mean_absolute_percentage_error: 100.0000\n",
      "Epoch 49/50\n",
      "41/41 [==============================] - 0s 1ms/step - loss: 7187.4400 - mean_squared_error: 7187.4400 - mean_absolute_percentage_error: 100.0000 - val_loss: 7776.6831 - val_mean_squared_error: 7776.6832 - val_mean_absolute_percentage_error: 100.0000\n",
      "Epoch 50/50\n",
      "41/41 [==============================] - 0s 1ms/step - loss: 7187.4399 - mean_squared_error: 7187.4400 - mean_absolute_percentage_error: 100.0000 - val_loss: 7776.6831 - val_mean_squared_error: 7776.6832 - val_mean_absolute_percentage_error: 100.0000\n",
      "Evaluate on test data\n",
      "6/6 [==============================] - 0s 606us/step - loss: 7776.6830 - mean_squared_error: 7776.6832 - mean_absolute_percentage_error: 100.0000\n",
      "test loss, test acc: [7776.6830047844, 7776.683194108527, 100.0]\n",
      "88.18550444437298\n",
      "1.7591923922398967\n",
      "44.743658869809686\n"
     ]
    }
   ],
   "source": [
    "df_model_output = []\n",
    "df_grouping = []\n",
    "for n in fe.DataframHandler(STOCKS).fe_objects:\n",
    "    df_model_output.append(mp.ModelHandler(n.data))\n",
    "    df_grouping.append(n)"
   ]
  },
  {
   "cell_type": "code",
   "execution_count": null,
   "metadata": {},
   "outputs": [],
   "source": [
    "df_model_output[1].df_tf_output"
   ]
  },
  {
   "cell_type": "code",
   "execution_count": null,
   "metadata": {},
   "outputs": [],
   "source": []
  },
  {
   "cell_type": "code",
   "execution_count": null,
   "metadata": {},
   "outputs": [],
   "source": [
    "df_model_output[0].df_test_x_y"
   ]
  },
  {
   "cell_type": "code",
   "execution_count": null,
   "metadata": {
    "scrolled": true
   },
   "outputs": [],
   "source": [
    "num_pool_worker=1 # can be bigger than 1, to enable parallel execution\n",
    "\n",
    "with contextlib.closing(Pool(num_pool_worker)) as po: # This ensures that the processes get closed once they are done\n",
    "    pool_results = po.map_async(mp.ModelHandler,\n",
    "                                    ((n.data)\n",
    "                                    for n in fe.DataframHandler(STOCKS).fe_objects))\n",
    "    results_list = pool_results.get()"
   ]
  },
  {
   "cell_type": "code",
   "execution_count": null,
   "metadata": {
    "scrolled": true
   },
   "outputs": [],
   "source": [
    "df_model_output = mp.ModelProcessorTF(fe.pricePredictionFeatureEng40(STOCKS))"
   ]
  },
  {
   "cell_type": "code",
   "execution_count": null,
   "metadata": {},
   "outputs": [],
   "source": [
    "varArr_1 = df_model_output.df_test_x_y['predictions']-df_model_output.df_test_x_y['future_price']"
   ]
  },
  {
   "cell_type": "code",
   "execution_count": null,
   "metadata": {},
   "outputs": [],
   "source": [
    "df_model_output.apply_model(mp.get_tf_adam_mse_5l_1024_512_256_128_1_relu())"
   ]
  },
  {
   "cell_type": "code",
   "execution_count": null,
   "metadata": {},
   "outputs": [],
   "source": [
    "varArr_2 = df_model_output.df_test_x_y['predictions']-df_model_output.df_test_x_y['future_price']"
   ]
  },
  {
   "cell_type": "code",
   "execution_count": null,
   "metadata": {},
   "outputs": [],
   "source": [
    "pc.plotDensityMultiple([varArr_1, varArr_2])"
   ]
  },
  {
   "cell_type": "code",
   "execution_count": null,
   "metadata": {},
   "outputs": [],
   "source": [
    "varArr_1"
   ]
  },
  {
   "cell_type": "code",
   "execution_count": null,
   "metadata": {},
   "outputs": [],
   "source": [
    "fe.pricePredictionFeatureEng40(STOCKS)"
   ]
  },
  {
   "cell_type": "code",
   "execution_count": null,
   "metadata": {},
   "outputs": [],
   "source": []
  }
 ],
 "metadata": {
  "kernelspec": {
   "display_name": "Python 3",
   "language": "python",
   "name": "python3"
  },
  "language_info": {
   "codemirror_mode": {
    "name": "ipython",
    "version": 3
   },
   "file_extension": ".py",
   "mimetype": "text/x-python",
   "name": "python",
   "nbconvert_exporter": "python",
   "pygments_lexer": "ipython3",
   "version": "3.8.3"
  }
 },
 "nbformat": 4,
 "nbformat_minor": 2
}
