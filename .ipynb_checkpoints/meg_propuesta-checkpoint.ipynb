{
 "cells": [
  {
   "cell_type": "markdown",
   "metadata": {},
   "source": [
    "XLK\n",
    "\n",
    "XLY\n",
    "\n",
    "XLP\n",
    "\n",
    "XBY\n",
    "\n",
    "XLC\n",
    "\n",
    "SPY\n",
    "\n",
    "QQQ\n",
    "\n",
    "IWM"
   ]
  },
  {
   "cell_type": "code",
   "execution_count": 2,
   "metadata": {},
   "outputs": [
    {
     "ename": "ModuleNotFoundError",
     "evalue": "No module named 'hvplot'",
     "output_type": "error",
     "traceback": [
      "\u001b[0;31m---------------------------------------------------------------------------\u001b[0m",
      "\u001b[0;31mModuleNotFoundError\u001b[0m                       Traceback (most recent call last)",
      "\u001b[0;32m<ipython-input-2-73e050283ce2>\u001b[0m in \u001b[0;36m<module>\u001b[0;34m\u001b[0m\n\u001b[1;32m      2\u001b[0m \u001b[0;32mimport\u001b[0m \u001b[0mpandas\u001b[0m \u001b[0;32mas\u001b[0m \u001b[0mpd\u001b[0m\u001b[0;34m\u001b[0m\u001b[0;34m\u001b[0m\u001b[0m\n\u001b[1;32m      3\u001b[0m \u001b[0;32mfrom\u001b[0m \u001b[0mpandas_datareader\u001b[0m \u001b[0;32mimport\u001b[0m \u001b[0mdata\u001b[0m \u001b[0;32mas\u001b[0m \u001b[0mwb\u001b[0m\u001b[0;34m\u001b[0m\u001b[0;34m\u001b[0m\u001b[0m\n\u001b[0;32m----> 4\u001b[0;31m \u001b[0;32mimport\u001b[0m \u001b[0mhvplot\u001b[0m\u001b[0;34m.\u001b[0m\u001b[0mpandas\u001b[0m\u001b[0;34m\u001b[0m\u001b[0;34m\u001b[0m\u001b[0m\n\u001b[0m\u001b[1;32m      5\u001b[0m \u001b[0;32mimport\u001b[0m \u001b[0mmatplotlib\u001b[0m\u001b[0;34m.\u001b[0m\u001b[0mpyplot\u001b[0m \u001b[0;32mas\u001b[0m \u001b[0mplt\u001b[0m\u001b[0;34m\u001b[0m\u001b[0;34m\u001b[0m\u001b[0m\n",
      "\u001b[0;31mModuleNotFoundError\u001b[0m: No module named 'hvplot'"
     ]
    }
   ],
   "source": [
    "import numpy as np\n",
    "import pandas as pd\n",
    "from pandas_datareader import data as wb\n",
    "import hvplot.pandas\n",
    "import matplotlib.pyplot as plt"
   ]
  },
  {
   "cell_type": "markdown",
   "metadata": {},
   "source": [
    "# Creating a Porftolio Efficiency Frontier \n",
    "-----\n",
    "With pre-determined etf's we want to create the optimal investment in each etf to maximize returns for a given risk tolerance. \n",
    "\n",
    " 'XLY', 'XLP', 'XBI', 'XLC', 'QQQ', 'IWM'\n",
    " 'IYT', 'XTN','SEA', 'XLK', 'XLY', 'XLP', 'XLC', 'XBI', '^GSPC'\n"
   ]
  },
  {
   "cell_type": "markdown",
   "metadata": {},
   "source": [
    "### Importing the proper data for our tickers \n",
    "----"
   ]
  },
  {
   "cell_type": "code",
   "execution_count": 3,
   "metadata": {},
   "outputs": [],
   "source": [
    "index = ['XLY', 'XLP', 'XBI', 'XLC', 'QQQ', 'IWM']\n",
    "stock_df = pd.DataFrame()"
   ]
  },
  {
   "cell_type": "code",
   "execution_count": 4,
   "metadata": {},
   "outputs": [],
   "source": [
    "for i in index:\n",
    "    stock_df[i]=wb.DataReader(i, data_source = 'yahoo', start ='2017-1-1', end = '2020-3-23') ['Adj Close']\n",
    "    stock_df.index = pd.DatetimeIndex(stock_df.index)\n"
   ]
  },
  {
   "cell_type": "code",
   "execution_count": 5,
   "metadata": {},
   "outputs": [],
   "source": [
    "stock_df.to_clipboard()"
   ]
  },
  {
   "cell_type": "code",
   "execution_count": 6,
   "metadata": {},
   "outputs": [
    {
     "data": {
      "text/plain": [
       "XLY     0.000000\n",
       "XLP     0.000000\n",
       "XBI     0.000000\n",
       "XLC    45.308642\n",
       "QQQ     0.000000\n",
       "IWM     0.000000\n",
       "dtype: float64"
      ]
     },
     "execution_count": 6,
     "metadata": {},
     "output_type": "execute_result"
    }
   ],
   "source": [
    "# Analysis de datos - XLC arranco en junio 2018, tiene sentido que no tenga precios\n",
    "# historicos anteriores a esa fecha. \n",
    "stock_df.isnull().sum() / len(stock_df) * 100"
   ]
  },
  {
   "cell_type": "code",
   "execution_count": 48,
   "metadata": {},
   "outputs": [],
   "source": [
    "#stock_df.dropna(inplace = True)"
   ]
  },
  {
   "cell_type": "markdown",
   "metadata": {},
   "source": [
    "### Calculating Variance & Standard Deviation (Volatility)\n",
    "------"
   ]
  },
  {
   "cell_type": "code",
   "execution_count": 7,
   "metadata": {},
   "outputs": [
    {
     "data": {
      "text/html": [
       "<div>\n",
       "<style scoped>\n",
       "    .dataframe tbody tr th:only-of-type {\n",
       "        vertical-align: middle;\n",
       "    }\n",
       "\n",
       "    .dataframe tbody tr th {\n",
       "        vertical-align: top;\n",
       "    }\n",
       "\n",
       "    .dataframe thead th {\n",
       "        text-align: right;\n",
       "    }\n",
       "</style>\n",
       "<table border=\"1\" class=\"dataframe\">\n",
       "  <thead>\n",
       "    <tr style=\"text-align: right;\">\n",
       "      <th></th>\n",
       "      <th>XLY</th>\n",
       "      <th>XLP</th>\n",
       "      <th>XBI</th>\n",
       "      <th>XLC</th>\n",
       "      <th>QQQ</th>\n",
       "      <th>IWM</th>\n",
       "    </tr>\n",
       "    <tr>\n",
       "      <th>Date</th>\n",
       "      <th></th>\n",
       "      <th></th>\n",
       "      <th></th>\n",
       "      <th></th>\n",
       "      <th></th>\n",
       "      <th></th>\n",
       "    </tr>\n",
       "  </thead>\n",
       "  <tbody>\n",
       "    <tr>\n",
       "      <th>2020-03-17</th>\n",
       "      <td>0.038505</td>\n",
       "      <td>0.084328</td>\n",
       "      <td>0.036088</td>\n",
       "      <td>0.043436</td>\n",
       "      <td>0.075842</td>\n",
       "      <td>0.045841</td>\n",
       "    </tr>\n",
       "    <tr>\n",
       "      <th>2020-03-18</th>\n",
       "      <td>-0.057448</td>\n",
       "      <td>-0.025690</td>\n",
       "      <td>-0.029416</td>\n",
       "      <td>-0.033209</td>\n",
       "      <td>-0.030416</td>\n",
       "      <td>-0.077512</td>\n",
       "    </tr>\n",
       "    <tr>\n",
       "      <th>2020-03-19</th>\n",
       "      <td>0.034877</td>\n",
       "      <td>-0.033363</td>\n",
       "      <td>0.057600</td>\n",
       "      <td>0.017900</td>\n",
       "      <td>0.006002</td>\n",
       "      <td>0.039012</td>\n",
       "    </tr>\n",
       "    <tr>\n",
       "      <th>2020-03-20</th>\n",
       "      <td>-0.029724</td>\n",
       "      <td>-0.064761</td>\n",
       "      <td>-0.014542</td>\n",
       "      <td>-0.044202</td>\n",
       "      <td>-0.039176</td>\n",
       "      <td>-0.023780</td>\n",
       "    </tr>\n",
       "    <tr>\n",
       "      <th>2020-03-23</th>\n",
       "      <td>0.001648</td>\n",
       "      <td>-0.029593</td>\n",
       "      <td>-0.007957</td>\n",
       "      <td>0.005311</td>\n",
       "      <td>0.000722</td>\n",
       "      <td>-0.014793</td>\n",
       "    </tr>\n",
       "  </tbody>\n",
       "</table>\n",
       "</div>"
      ],
      "text/plain": [
       "                 XLY       XLP       XBI       XLC       QQQ       IWM\n",
       "Date                                                                  \n",
       "2020-03-17  0.038505  0.084328  0.036088  0.043436  0.075842  0.045841\n",
       "2020-03-18 -0.057448 -0.025690 -0.029416 -0.033209 -0.030416 -0.077512\n",
       "2020-03-19  0.034877 -0.033363  0.057600  0.017900  0.006002  0.039012\n",
       "2020-03-20 -0.029724 -0.064761 -0.014542 -0.044202 -0.039176 -0.023780\n",
       "2020-03-23  0.001648 -0.029593 -0.007957  0.005311  0.000722 -0.014793"
      ]
     },
     "execution_count": 7,
     "metadata": {},
     "output_type": "execute_result"
    }
   ],
   "source": [
    "stock_returns = stock_df.pct_change()\n",
    "stock_returns.tail()"
   ]
  },
  {
   "cell_type": "code",
   "execution_count": 8,
   "metadata": {},
   "outputs": [
    {
     "data": {
      "text/plain": [
       "XLY    0.000149\n",
       "XLP    0.000109\n",
       "XBI    0.000346\n",
       "XLC    0.000246\n",
       "QQQ    0.000188\n",
       "IWM    0.000174\n",
       "dtype: float64"
      ]
     },
     "execution_count": 8,
     "metadata": {},
     "output_type": "execute_result"
    }
   ],
   "source": [
    "variance = stock_returns.var()\n",
    "variance"
   ]
  },
  {
   "cell_type": "code",
   "execution_count": 9,
   "metadata": {},
   "outputs": [
    {
     "data": {
      "text/plain": [
       "XLY    0.012225\n",
       "XLP    0.010421\n",
       "XBI    0.018597\n",
       "XLC    0.015695\n",
       "QQQ    0.013709\n",
       "IWM    0.013197\n",
       "dtype: float64"
      ]
     },
     "execution_count": 9,
     "metadata": {},
     "output_type": "execute_result"
    }
   ],
   "source": [
    "sd = stock_returns.std()\n",
    "sd"
   ]
  },
  {
   "cell_type": "markdown",
   "metadata": {},
   "source": [
    "### Calculating Covariance & Correlation\n",
    "------"
   ]
  },
  {
   "cell_type": "code",
   "execution_count": 10,
   "metadata": {},
   "outputs": [],
   "source": [
    "covariance_matrix = stock_returns.cov()"
   ]
  },
  {
   "cell_type": "code",
   "execution_count": 11,
   "metadata": {},
   "outputs": [
    {
     "data": {
      "text/html": [
       "<div>\n",
       "<style scoped>\n",
       "    .dataframe tbody tr th:only-of-type {\n",
       "        vertical-align: middle;\n",
       "    }\n",
       "\n",
       "    .dataframe tbody tr th {\n",
       "        vertical-align: top;\n",
       "    }\n",
       "\n",
       "    .dataframe thead th {\n",
       "        text-align: right;\n",
       "    }\n",
       "</style>\n",
       "<table border=\"1\" class=\"dataframe\">\n",
       "  <thead>\n",
       "    <tr style=\"text-align: right;\">\n",
       "      <th></th>\n",
       "      <th>XLY</th>\n",
       "      <th>XLP</th>\n",
       "      <th>XBI</th>\n",
       "      <th>XLC</th>\n",
       "      <th>QQQ</th>\n",
       "      <th>IWM</th>\n",
       "    </tr>\n",
       "  </thead>\n",
       "  <tbody>\n",
       "    <tr>\n",
       "      <th>XLY</th>\n",
       "      <td>0.000149</td>\n",
       "      <td>0.000087</td>\n",
       "      <td>0.000161</td>\n",
       "      <td>0.000213</td>\n",
       "      <td>0.000153</td>\n",
       "      <td>0.000144</td>\n",
       "    </tr>\n",
       "    <tr>\n",
       "      <th>XLP</th>\n",
       "      <td>0.000087</td>\n",
       "      <td>0.000109</td>\n",
       "      <td>0.000083</td>\n",
       "      <td>0.000137</td>\n",
       "      <td>0.000097</td>\n",
       "      <td>0.000089</td>\n",
       "    </tr>\n",
       "    <tr>\n",
       "      <th>XBI</th>\n",
       "      <td>0.000161</td>\n",
       "      <td>0.000083</td>\n",
       "      <td>0.000346</td>\n",
       "      <td>0.000248</td>\n",
       "      <td>0.000190</td>\n",
       "      <td>0.000193</td>\n",
       "    </tr>\n",
       "    <tr>\n",
       "      <th>XLC</th>\n",
       "      <td>0.000213</td>\n",
       "      <td>0.000137</td>\n",
       "      <td>0.000248</td>\n",
       "      <td>0.000246</td>\n",
       "      <td>0.000246</td>\n",
       "      <td>0.000216</td>\n",
       "    </tr>\n",
       "    <tr>\n",
       "      <th>QQQ</th>\n",
       "      <td>0.000153</td>\n",
       "      <td>0.000097</td>\n",
       "      <td>0.000190</td>\n",
       "      <td>0.000246</td>\n",
       "      <td>0.000188</td>\n",
       "      <td>0.000153</td>\n",
       "    </tr>\n",
       "    <tr>\n",
       "      <th>IWM</th>\n",
       "      <td>0.000144</td>\n",
       "      <td>0.000089</td>\n",
       "      <td>0.000193</td>\n",
       "      <td>0.000216</td>\n",
       "      <td>0.000153</td>\n",
       "      <td>0.000174</td>\n",
       "    </tr>\n",
       "  </tbody>\n",
       "</table>\n",
       "</div>"
      ],
      "text/plain": [
       "          XLY       XLP       XBI       XLC       QQQ       IWM\n",
       "XLY  0.000149  0.000087  0.000161  0.000213  0.000153  0.000144\n",
       "XLP  0.000087  0.000109  0.000083  0.000137  0.000097  0.000089\n",
       "XBI  0.000161  0.000083  0.000346  0.000248  0.000190  0.000193\n",
       "XLC  0.000213  0.000137  0.000248  0.000246  0.000246  0.000216\n",
       "QQQ  0.000153  0.000097  0.000190  0.000246  0.000188  0.000153\n",
       "IWM  0.000144  0.000089  0.000193  0.000216  0.000153  0.000174"
      ]
     },
     "execution_count": 11,
     "metadata": {},
     "output_type": "execute_result"
    }
   ],
   "source": [
    "covariance_matrix"
   ]
  },
  {
   "cell_type": "code",
   "execution_count": 12,
   "metadata": {},
   "outputs": [],
   "source": [
    "correlation_matrix = stock_returns.corr()"
   ]
  },
  {
   "cell_type": "code",
   "execution_count": 13,
   "metadata": {},
   "outputs": [
    {
     "data": {
      "text/html": [
       "<div>\n",
       "<style scoped>\n",
       "    .dataframe tbody tr th:only-of-type {\n",
       "        vertical-align: middle;\n",
       "    }\n",
       "\n",
       "    .dataframe tbody tr th {\n",
       "        vertical-align: top;\n",
       "    }\n",
       "\n",
       "    .dataframe thead th {\n",
       "        text-align: right;\n",
       "    }\n",
       "</style>\n",
       "<table border=\"1\" class=\"dataframe\">\n",
       "  <thead>\n",
       "    <tr style=\"text-align: right;\">\n",
       "      <th></th>\n",
       "      <th>XLY</th>\n",
       "      <th>XLP</th>\n",
       "      <th>XBI</th>\n",
       "      <th>XLC</th>\n",
       "      <th>QQQ</th>\n",
       "      <th>IWM</th>\n",
       "    </tr>\n",
       "  </thead>\n",
       "  <tbody>\n",
       "    <tr>\n",
       "      <th>XLY</th>\n",
       "      <td>1.000000</td>\n",
       "      <td>0.682747</td>\n",
       "      <td>0.706800</td>\n",
       "      <td>0.900365</td>\n",
       "      <td>0.915614</td>\n",
       "      <td>0.890336</td>\n",
       "    </tr>\n",
       "    <tr>\n",
       "      <th>XLP</th>\n",
       "      <td>0.682747</td>\n",
       "      <td>1.000000</td>\n",
       "      <td>0.426117</td>\n",
       "      <td>0.683793</td>\n",
       "      <td>0.679478</td>\n",
       "      <td>0.643604</td>\n",
       "    </tr>\n",
       "    <tr>\n",
       "      <th>XBI</th>\n",
       "      <td>0.706800</td>\n",
       "      <td>0.426117</td>\n",
       "      <td>1.000000</td>\n",
       "      <td>0.755124</td>\n",
       "      <td>0.743914</td>\n",
       "      <td>0.787006</td>\n",
       "    </tr>\n",
       "    <tr>\n",
       "      <th>XLC</th>\n",
       "      <td>0.900365</td>\n",
       "      <td>0.683793</td>\n",
       "      <td>0.755124</td>\n",
       "      <td>1.000000</td>\n",
       "      <td>0.945713</td>\n",
       "      <td>0.854538</td>\n",
       "    </tr>\n",
       "    <tr>\n",
       "      <th>QQQ</th>\n",
       "      <td>0.915614</td>\n",
       "      <td>0.679478</td>\n",
       "      <td>0.743914</td>\n",
       "      <td>0.945713</td>\n",
       "      <td>1.000000</td>\n",
       "      <td>0.846675</td>\n",
       "    </tr>\n",
       "    <tr>\n",
       "      <th>IWM</th>\n",
       "      <td>0.890336</td>\n",
       "      <td>0.643604</td>\n",
       "      <td>0.787006</td>\n",
       "      <td>0.854538</td>\n",
       "      <td>0.846675</td>\n",
       "      <td>1.000000</td>\n",
       "    </tr>\n",
       "  </tbody>\n",
       "</table>\n",
       "</div>"
      ],
      "text/plain": [
       "          XLY       XLP       XBI       XLC       QQQ       IWM\n",
       "XLY  1.000000  0.682747  0.706800  0.900365  0.915614  0.890336\n",
       "XLP  0.682747  1.000000  0.426117  0.683793  0.679478  0.643604\n",
       "XBI  0.706800  0.426117  1.000000  0.755124  0.743914  0.787006\n",
       "XLC  0.900365  0.683793  0.755124  1.000000  0.945713  0.854538\n",
       "QQQ  0.915614  0.679478  0.743914  0.945713  1.000000  0.846675\n",
       "IWM  0.890336  0.643604  0.787006  0.854538  0.846675  1.000000"
      ]
     },
     "execution_count": 13,
     "metadata": {},
     "output_type": "execute_result"
    }
   ],
   "source": [
    "correlation_matrix"
   ]
  },
  {
   "cell_type": "markdown",
   "metadata": {},
   "source": [
    "### Calculating Expected Returns\n",
    "------"
   ]
  },
  {
   "cell_type": "code",
   "execution_count": 14,
   "metadata": {},
   "outputs": [
    {
     "data": {
      "text/plain": [
       "XLY    0.053601\n",
       "XLP    0.021145\n",
       "XBI    0.089132\n",
       "XLC   -0.080866\n",
       "QQQ    0.143142\n",
       "IWM   -0.060432\n",
       "dtype: float64"
      ]
     },
     "execution_count": 14,
     "metadata": {},
     "output_type": "execute_result"
    }
   ],
   "source": [
    "exp_return = stock_returns.mean()* 252\n",
    "exp_return"
   ]
  },
  {
   "cell_type": "markdown",
   "metadata": {},
   "source": [
    "### Concat dataframes\n",
    "------"
   ]
  },
  {
   "cell_type": "code",
   "execution_count": 15,
   "metadata": {},
   "outputs": [],
   "source": [
    "df = pd.concat([exp_return, sd], axis = 1, join = 'inner')\n",
    "df.columns =['Returns', 'Volatility']"
   ]
  },
  {
   "cell_type": "code",
   "execution_count": 16,
   "metadata": {},
   "outputs": [
    {
     "data": {
      "text/html": [
       "<div>\n",
       "<style scoped>\n",
       "    .dataframe tbody tr th:only-of-type {\n",
       "        vertical-align: middle;\n",
       "    }\n",
       "\n",
       "    .dataframe tbody tr th {\n",
       "        vertical-align: top;\n",
       "    }\n",
       "\n",
       "    .dataframe thead th {\n",
       "        text-align: right;\n",
       "    }\n",
       "</style>\n",
       "<table border=\"1\" class=\"dataframe\">\n",
       "  <thead>\n",
       "    <tr style=\"text-align: right;\">\n",
       "      <th></th>\n",
       "      <th>Returns</th>\n",
       "      <th>Volatility</th>\n",
       "    </tr>\n",
       "  </thead>\n",
       "  <tbody>\n",
       "    <tr>\n",
       "      <th>XLY</th>\n",
       "      <td>0.053601</td>\n",
       "      <td>0.012225</td>\n",
       "    </tr>\n",
       "    <tr>\n",
       "      <th>XLP</th>\n",
       "      <td>0.021145</td>\n",
       "      <td>0.010421</td>\n",
       "    </tr>\n",
       "    <tr>\n",
       "      <th>XBI</th>\n",
       "      <td>0.089132</td>\n",
       "      <td>0.018597</td>\n",
       "    </tr>\n",
       "    <tr>\n",
       "      <th>XLC</th>\n",
       "      <td>-0.080866</td>\n",
       "      <td>0.015695</td>\n",
       "    </tr>\n",
       "    <tr>\n",
       "      <th>QQQ</th>\n",
       "      <td>0.143142</td>\n",
       "      <td>0.013709</td>\n",
       "    </tr>\n",
       "    <tr>\n",
       "      <th>IWM</th>\n",
       "      <td>-0.060432</td>\n",
       "      <td>0.013197</td>\n",
       "    </tr>\n",
       "  </tbody>\n",
       "</table>\n",
       "</div>"
      ],
      "text/plain": [
       "      Returns  Volatility\n",
       "XLY  0.053601    0.012225\n",
       "XLP  0.021145    0.010421\n",
       "XBI  0.089132    0.018597\n",
       "XLC -0.080866    0.015695\n",
       "QQQ  0.143142    0.013709\n",
       "IWM -0.060432    0.013197"
      ]
     },
     "execution_count": 16,
     "metadata": {},
     "output_type": "execute_result"
    }
   ],
   "source": [
    "df"
   ]
  },
  {
   "cell_type": "code",
   "execution_count": 73,
   "metadata": {},
   "outputs": [],
   "source": [
    "p_ret = []\n",
    "p_vol = []\n",
    "p_weights = []\n",
    "num_assets = len(stock_df.columns)\n",
    "\n",
    "num_portfolios = 1500"
   ]
  },
  {
   "cell_type": "code",
   "execution_count": 74,
   "metadata": {},
   "outputs": [],
   "source": [
    "for portfolio in range(num_portfolios):\n",
    "    weights = np.random.random(num_assets)\n",
    "    weights /= np.sum(weights)\n",
    "    p_weights.append(weights)\n",
    "    returns = np.dot(weights, exp_return)\n",
    "    p_ret.append(returns)\n",
    "    var = covariance_matrix.mul(weights, axis = 0).mul(weights, axis = 1).sum().sum()\n",
    "    sd = np.sqrt(var)\n",
    "    ann_sd = sd*np.sqrt(252)\n",
    "    p_vol.append(ann_sd)\n",
    " "
   ]
  },
  {
   "cell_type": "code",
   "execution_count": 75,
   "metadata": {},
   "outputs": [],
   "source": [
    "data = {'Returns':p_ret, 'Volatility':p_vol}"
   ]
  },
  {
   "cell_type": "code",
   "execution_count": 76,
   "metadata": {},
   "outputs": [],
   "source": [
    "for counter, symbol in enumerate(stock_df.columns.tolist()):\n",
    "    data[symbol+' weight'] = [w[counter]for w in p_weights]"
   ]
  },
  {
   "cell_type": "code",
   "execution_count": 77,
   "metadata": {},
   "outputs": [
    {
     "data": {
      "text/html": [
       "<div>\n",
       "<style scoped>\n",
       "    .dataframe tbody tr th:only-of-type {\n",
       "        vertical-align: middle;\n",
       "    }\n",
       "\n",
       "    .dataframe tbody tr th {\n",
       "        vertical-align: top;\n",
       "    }\n",
       "\n",
       "    .dataframe thead th {\n",
       "        text-align: right;\n",
       "    }\n",
       "</style>\n",
       "<table border=\"1\" class=\"dataframe\">\n",
       "  <thead>\n",
       "    <tr style=\"text-align: right;\">\n",
       "      <th></th>\n",
       "      <th>Returns</th>\n",
       "      <th>Volatility</th>\n",
       "      <th>IYT weight</th>\n",
       "      <th>XLK weight</th>\n",
       "      <th>XBI weight</th>\n",
       "    </tr>\n",
       "  </thead>\n",
       "  <tbody>\n",
       "    <tr>\n",
       "      <th>0</th>\n",
       "      <td>0.100645</td>\n",
       "      <td>0.240117</td>\n",
       "      <td>0.114822</td>\n",
       "      <td>0.412794</td>\n",
       "      <td>0.472384</td>\n",
       "    </tr>\n",
       "    <tr>\n",
       "      <th>1</th>\n",
       "      <td>0.111168</td>\n",
       "      <td>0.237126</td>\n",
       "      <td>0.088076</td>\n",
       "      <td>0.509838</td>\n",
       "      <td>0.402087</td>\n",
       "    </tr>\n",
       "    <tr>\n",
       "      <th>2</th>\n",
       "      <td>0.037062</td>\n",
       "      <td>0.233887</td>\n",
       "      <td>0.414652</td>\n",
       "      <td>0.120584</td>\n",
       "      <td>0.464764</td>\n",
       "    </tr>\n",
       "    <tr>\n",
       "      <th>3</th>\n",
       "      <td>0.071320</td>\n",
       "      <td>0.222723</td>\n",
       "      <td>0.338306</td>\n",
       "      <td>0.459334</td>\n",
       "      <td>0.202360</td>\n",
       "    </tr>\n",
       "    <tr>\n",
       "      <th>4</th>\n",
       "      <td>0.003374</td>\n",
       "      <td>0.220229</td>\n",
       "      <td>0.698611</td>\n",
       "      <td>0.231977</td>\n",
       "      <td>0.069413</td>\n",
       "    </tr>\n",
       "    <tr>\n",
       "      <th>...</th>\n",
       "      <td>...</td>\n",
       "      <td>...</td>\n",
       "      <td>...</td>\n",
       "      <td>...</td>\n",
       "      <td>...</td>\n",
       "    </tr>\n",
       "    <tr>\n",
       "      <th>1495</th>\n",
       "      <td>0.045496</td>\n",
       "      <td>0.223830</td>\n",
       "      <td>0.433137</td>\n",
       "      <td>0.283312</td>\n",
       "      <td>0.283551</td>\n",
       "    </tr>\n",
       "    <tr>\n",
       "      <th>1496</th>\n",
       "      <td>0.054118</td>\n",
       "      <td>0.227418</td>\n",
       "      <td>0.371160</td>\n",
       "      <td>0.277575</td>\n",
       "      <td>0.351265</td>\n",
       "    </tr>\n",
       "    <tr>\n",
       "      <th>1497</th>\n",
       "      <td>0.098158</td>\n",
       "      <td>0.237379</td>\n",
       "      <td>0.137102</td>\n",
       "      <td>0.423822</td>\n",
       "      <td>0.439076</td>\n",
       "    </tr>\n",
       "    <tr>\n",
       "      <th>1498</th>\n",
       "      <td>0.066801</td>\n",
       "      <td>0.229307</td>\n",
       "      <td>0.306040</td>\n",
       "      <td>0.324554</td>\n",
       "      <td>0.369406</td>\n",
       "    </tr>\n",
       "    <tr>\n",
       "      <th>1499</th>\n",
       "      <td>0.090087</td>\n",
       "      <td>0.233789</td>\n",
       "      <td>0.186794</td>\n",
       "      <td>0.411482</td>\n",
       "      <td>0.401725</td>\n",
       "    </tr>\n",
       "  </tbody>\n",
       "</table>\n",
       "<p>1500 rows × 5 columns</p>\n",
       "</div>"
      ],
      "text/plain": [
       "       Returns  Volatility  IYT weight  XLK weight  XBI weight\n",
       "0     0.100645    0.240117    0.114822    0.412794    0.472384\n",
       "1     0.111168    0.237126    0.088076    0.509838    0.402087\n",
       "2     0.037062    0.233887    0.414652    0.120584    0.464764\n",
       "3     0.071320    0.222723    0.338306    0.459334    0.202360\n",
       "4     0.003374    0.220229    0.698611    0.231977    0.069413\n",
       "...        ...         ...         ...         ...         ...\n",
       "1495  0.045496    0.223830    0.433137    0.283312    0.283551\n",
       "1496  0.054118    0.227418    0.371160    0.277575    0.351265\n",
       "1497  0.098158    0.237379    0.137102    0.423822    0.439076\n",
       "1498  0.066801    0.229307    0.306040    0.324554    0.369406\n",
       "1499  0.090087    0.233789    0.186794    0.411482    0.401725\n",
       "\n",
       "[1500 rows x 5 columns]"
      ]
     },
     "execution_count": 77,
     "metadata": {},
     "output_type": "execute_result"
    }
   ],
   "source": [
    "portfolios = pd.DataFrame(data)\n",
    "portfolios"
   ]
  },
  {
   "cell_type": "code",
   "execution_count": 78,
   "metadata": {},
   "outputs": [],
   "source": [
    "# Min Variance Portfolio \n",
    "min_var_portfolio = portfolios.iloc[portfolios['Volatility'].idxmin()]"
   ]
  },
  {
   "cell_type": "code",
   "execution_count": 79,
   "metadata": {},
   "outputs": [
    {
     "data": {
      "application/vnd.holoviews_exec.v0+json": "",
      "text/html": [
       "<div id='1456' style='display: table; margin: 0 auto;'>\n",
       "\n",
       "\n",
       "\n",
       "\n",
       "\n",
       "  <div class=\"bk-root\" id=\"32289d69-b62a-4469-bd90-5a76ce24e992\" data-root-id=\"1456\"></div>\n",
       "</div>\n",
       "<script type=\"application/javascript\">(function(root) {\n",
       "  function embed_document(root) {\n",
       "    \n",
       "  var docs_json = {\"acf8e8bb-8bef-4f5e-923d-64e93a2f7151\":{\"roots\":{\"references\":[{\"attributes\":{\"align\":null,\"below\":[{\"id\":\"1465\",\"type\":\"LinearAxis\"}],\"center\":[{\"id\":\"1469\",\"type\":\"Grid\"},{\"id\":\"1474\",\"type\":\"Grid\"}],\"left\":[{\"id\":\"1470\",\"type\":\"LinearAxis\"}],\"margin\":null,\"min_border_bottom\":10,\"min_border_left\":10,\"min_border_right\":10,\"min_border_top\":10,\"plot_height\":300,\"plot_width\":700,\"renderers\":[{\"id\":\"1494\",\"type\":\"GlyphRenderer\"}],\"sizing_mode\":\"fixed\",\"title\":{\"id\":\"1457\",\"type\":\"Title\"},\"toolbar\":{\"id\":\"1480\",\"type\":\"Toolbar\"},\"x_range\":{\"id\":\"1453\",\"type\":\"Range1d\"},\"x_scale\":{\"id\":\"1461\",\"type\":\"LinearScale\"},\"y_range\":{\"id\":\"1454\",\"type\":\"Range1d\"},\"y_scale\":{\"id\":\"1463\",\"type\":\"LinearScale\"}},\"id\":\"1456\",\"subtype\":\"Figure\",\"type\":\"Plot\"},{\"attributes\":{},\"id\":\"1461\",\"type\":\"LinearScale\"},{\"attributes\":{\"callback\":null,\"end\":0.1516558869072849,\"reset_end\":0.1516558869072849,\"reset_start\":-0.04032495933166425,\"start\":-0.04032495933166425,\"tags\":[[[\"Returns\",\"Returns\",null]]]},\"id\":\"1454\",\"type\":\"Range1d\"},{\"attributes\":{\"callback\":null,\"renderers\":[{\"id\":\"1494\",\"type\":\"GlyphRenderer\"}],\"tags\":[\"hv_created\"],\"tooltips\":[[\"Volatility\",\"@{Volatility}\"],[\"Returns\",\"@{Returns}\"]]},\"id\":\"1455\",\"type\":\"HoverTool\"},{\"attributes\":{\"dimension\":1,\"ticker\":{\"id\":\"1471\",\"type\":\"BasicTicker\"}},\"id\":\"1474\",\"type\":\"Grid\"},{\"attributes\":{\"fill_color\":{\"value\":\"#1f77b3\"},\"line_color\":{\"value\":\"#1f77b3\"},\"size\":{\"units\":\"screen\",\"value\":5.477225575051661},\"x\":{\"field\":\"Volatility\"},\"y\":{\"field\":\"Returns\"}},\"id\":\"1490\",\"type\":\"Scatter\"},{\"attributes\":{\"source\":{\"id\":\"1487\",\"type\":\"ColumnDataSource\"}},\"id\":\"1495\",\"type\":\"CDSView\"},{\"attributes\":{\"callback\":null,\"data\":{\"Returns\":{\"__ndarray__\":\"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\",\"dtype\":\"float64\",\"shape\":[1500]},\"Volatility\":{\"__ndarray__\":\"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\",\"dtype\":\"float64\",\"shape\":[1500]}},\"selected\":{\"id\":\"1488\",\"type\":\"Selection\"},\"selection_policy\":{\"id\":\"1509\",\"type\":\"UnionRenderers\"}},\"id\":\"1487\",\"type\":\"ColumnDataSource\"},{\"attributes\":{},\"id\":\"1463\",\"type\":\"LinearScale\"},{\"attributes\":{\"axis_label\":\"Volatility\",\"bounds\":\"auto\",\"formatter\":{\"id\":\"1497\",\"type\":\"BasicTickFormatter\"},\"major_label_orientation\":\"horizontal\",\"ticker\":{\"id\":\"1466\",\"type\":\"BasicTicker\"}},\"id\":\"1465\",\"type\":\"LinearAxis\"},{\"attributes\":{},\"id\":\"1466\",\"type\":\"BasicTicker\"},{\"attributes\":{\"bottom_units\":\"screen\",\"fill_alpha\":{\"value\":0.5},\"fill_color\":{\"value\":\"lightgrey\"},\"left_units\":\"screen\",\"level\":\"overlay\",\"line_alpha\":{\"value\":1.0},\"line_color\":{\"value\":\"black\"},\"line_dash\":[4,4],\"line_width\":{\"value\":2},\"render_mode\":\"css\",\"right_units\":\"screen\",\"top_units\":\"screen\"},\"id\":\"1507\",\"type\":\"BoxAnnotation\"},{\"attributes\":{\"ticker\":{\"id\":\"1466\",\"type\":\"BasicTicker\"}},\"id\":\"1469\",\"type\":\"Grid\"},{\"attributes\":{},\"id\":\"1471\",\"type\":\"BasicTicker\"},{\"attributes\":{\"overlay\":{\"id\":\"1507\",\"type\":\"BoxAnnotation\"}},\"id\":\"1478\",\"type\":\"BoxZoomTool\"},{\"attributes\":{},\"id\":\"1488\",\"type\":\"Selection\"},{\"attributes\":{\"active_drag\":\"auto\",\"active_inspect\":\"auto\",\"active_multi\":null,\"active_scroll\":\"auto\",\"active_tap\":\"auto\",\"tools\":[{\"id\":\"1455\",\"type\":\"HoverTool\"},{\"id\":\"1475\",\"type\":\"SaveTool\"},{\"id\":\"1476\",\"type\":\"PanTool\"},{\"id\":\"1477\",\"type\":\"WheelZoomTool\"},{\"id\":\"1478\",\"type\":\"BoxZoomTool\"},{\"id\":\"1479\",\"type\":\"ResetTool\"}]},\"id\":\"1480\",\"type\":\"Toolbar\"},{\"attributes\":{\"axis_label\":\"Returns\",\"bounds\":\"auto\",\"formatter\":{\"id\":\"1499\",\"type\":\"BasicTickFormatter\"},\"major_label_orientation\":\"horizontal\",\"ticker\":{\"id\":\"1471\",\"type\":\"BasicTicker\"}},\"id\":\"1470\",\"type\":\"LinearAxis\"},{\"attributes\":{},\"id\":\"1497\",\"type\":\"BasicTickFormatter\"},{\"attributes\":{\"fill_color\":{\"value\":\"#bfbf00\"},\"line_color\":{\"value\":\"#bfbf00\"},\"size\":{\"units\":\"screen\",\"value\":5.477225575051661},\"x\":{\"field\":\"Volatility\"},\"y\":{\"field\":\"Returns\"}},\"id\":\"1492\",\"type\":\"Scatter\"},{\"attributes\":{},\"id\":\"1499\",\"type\":\"BasicTickFormatter\"},{\"attributes\":{\"text\":\"\",\"text_color\":{\"value\":\"black\"},\"text_font_size\":{\"value\":\"12pt\"}},\"id\":\"1457\",\"type\":\"Title\"},{\"attributes\":{\"fill_alpha\":{\"value\":0.2},\"fill_color\":{\"value\":\"#1f77b3\"},\"line_alpha\":{\"value\":0.2},\"line_color\":{\"value\":\"#1f77b3\"},\"size\":{\"units\":\"screen\",\"value\":5.477225575051661},\"x\":{\"field\":\"Volatility\"},\"y\":{\"field\":\"Returns\"}},\"id\":\"1493\",\"type\":\"Scatter\"},{\"attributes\":{\"fill_alpha\":{\"value\":0.1},\"fill_color\":{\"value\":\"#1f77b3\"},\"line_alpha\":{\"value\":0.1},\"line_color\":{\"value\":\"#1f77b3\"},\"size\":{\"units\":\"screen\",\"value\":5.477225575051661},\"x\":{\"field\":\"Volatility\"},\"y\":{\"field\":\"Returns\"}},\"id\":\"1491\",\"type\":\"Scatter\"},{\"attributes\":{},\"id\":\"1475\",\"type\":\"SaveTool\"},{\"attributes\":{},\"id\":\"1479\",\"type\":\"ResetTool\"},{\"attributes\":{\"callback\":null,\"end\":0.28707533636132315,\"reset_end\":0.28707533636132315,\"reset_start\":0.2191793121249474,\"start\":0.2191793121249474,\"tags\":[[[\"Volatility\",\"Volatility\",null]]]},\"id\":\"1453\",\"type\":\"Range1d\"},{\"attributes\":{},\"id\":\"1476\",\"type\":\"PanTool\"},{\"attributes\":{},\"id\":\"1477\",\"type\":\"WheelZoomTool\"},{\"attributes\":{},\"id\":\"1509\",\"type\":\"UnionRenderers\"},{\"attributes\":{\"data_source\":{\"id\":\"1487\",\"type\":\"ColumnDataSource\"},\"glyph\":{\"id\":\"1490\",\"type\":\"Scatter\"},\"hover_glyph\":{\"id\":\"1492\",\"type\":\"Scatter\"},\"muted_glyph\":{\"id\":\"1493\",\"type\":\"Scatter\"},\"nonselection_glyph\":{\"id\":\"1491\",\"type\":\"Scatter\"},\"selection_glyph\":null,\"view\":{\"id\":\"1495\",\"type\":\"CDSView\"}},\"id\":\"1494\",\"type\":\"GlyphRenderer\"}],\"root_ids\":[\"1456\"]},\"title\":\"Bokeh Application\",\"version\":\"1.4.0\"}};\n",
       "  var render_items = [{\"docid\":\"acf8e8bb-8bef-4f5e-923d-64e93a2f7151\",\"roots\":{\"1456\":\"32289d69-b62a-4469-bd90-5a76ce24e992\"}}];\n",
       "  root.Bokeh.embed.embed_items_notebook(docs_json, render_items);\n",
       "\n",
       "  }\n",
       "  if (root.Bokeh !== undefined) {\n",
       "    embed_document(root);\n",
       "  } else {\n",
       "    var attempts = 0;\n",
       "    var timer = setInterval(function(root) {\n",
       "      if (root.Bokeh !== undefined) {\n",
       "        clearInterval(timer);\n",
       "        embed_document(root);\n",
       "      } else {\n",
       "        attempts++;\n",
       "        if (attempts > 100) {\n",
       "          clearInterval(timer);\n",
       "          console.log(\"Bokeh: ERROR: Unable to run BokehJS code because BokehJS library is missing\");\n",
       "        }\n",
       "      }\n",
       "    }, 10, root)\n",
       "  }\n",
       "})(window);</script>"
      ],
      "text/plain": [
       ":Scatter   [Volatility]   (Returns)"
      ]
     },
     "execution_count": 79,
     "metadata": {
      "application/vnd.holoviews_exec.v0+json": {
       "id": "1456"
      }
     },
     "output_type": "execute_result"
    }
   ],
   "source": [
    "portfolios.hvplot.scatter(x = 'Volatility', \n",
    "                          y = 'Returns',\n",
    "                          scale = 200,\n",
    "                          grid = True,\n",
    "                         hover_color = 'y')"
   ]
  },
  {
   "cell_type": "code",
   "execution_count": null,
   "metadata": {},
   "outputs": [],
   "source": []
  },
  {
   "cell_type": "code",
   "execution_count": null,
   "metadata": {},
   "outputs": [],
   "source": []
  },
  {
   "cell_type": "code",
   "execution_count": null,
   "metadata": {},
   "outputs": [],
   "source": []
  }
 ],
 "metadata": {
  "kernelspec": {
   "display_name": "Python 3",
   "language": "python",
   "name": "python3"
  },
  "language_info": {
   "codemirror_mode": {
    "name": "ipython",
    "version": 3
   },
   "file_extension": ".py",
   "mimetype": "text/x-python",
   "name": "python",
   "nbconvert_exporter": "python",
   "pygments_lexer": "ipython3",
   "version": "3.6.7"
  }
 },
 "nbformat": 4,
 "nbformat_minor": 4
}
