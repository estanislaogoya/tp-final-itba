{
 "cells": [
  {
   "cell_type": "markdown",
   "metadata": {},
   "source": [
    "# Importing Libraries\n",
    "---"
   ]
  },
  {
   "cell_type": "code",
   "execution_count": 16,
   "metadata": {},
   "outputs": [],
   "source": [
    "import numpy as np\n",
    "import pandas as pd\n",
    "from pandas_datareader.famafrench import get_available_datasets\n",
    "from pandas_datareader import data as wb\n",
    "import matplotlib.pyplot as plt\n",
    "from sklearn import linear_model\n",
    "import statsmodels.api as sm\n",
    "from statsmodels.regression import linear_model as lm\n",
    "from ipywidgets import interact\n",
    "import plotly.express as px\n",
    "import hvplot.pandas"
   ]
  },
  {
   "cell_type": "markdown",
   "metadata": {},
   "source": [
    "# Importing + Cleaning FFM & ETF Data\n",
    "-----"
   ]
  },
  {
   "cell_type": "code",
   "execution_count": 24,
   "metadata": {},
   "outputs": [],
   "source": [
    "ds = wb.DataReader('F-F_Research_Data_Factors_daily', 'famafrench')"
   ]
  },
  {
   "cell_type": "code",
   "execution_count": 25,
   "metadata": {},
   "outputs": [],
   "source": [
    "ffm_df = ds[0]/100"
   ]
  },
  {
   "cell_type": "code",
   "execution_count": 32,
   "metadata": {},
   "outputs": [],
   "source": [
    "ffm_df.index = pd.DatetimeIndex(ffm_df.index)"
   ]
  },
  {
   "cell_type": "code",
   "execution_count": 33,
   "metadata": {},
   "outputs": [],
   "source": [
    "etf_tickers = ['IYK','IYC','XLP', 'IYF', 'IYH', 'IYJ', 'IYM', 'IYR', 'IYW', 'IYZ', 'IDU']"
   ]
  },
  {
   "cell_type": "code",
   "execution_count": 83,
   "metadata": {},
   "outputs": [],
   "source": [
    "start = '2015-03-03'\n",
    "end = '2020-01-31'\n",
    "etf_df = pd.DataFrame()"
   ]
  },
  {
   "cell_type": "code",
   "execution_count": 84,
   "metadata": {},
   "outputs": [],
   "source": [
    "for e in etf_tickers:\n",
    "    etf_df[e]=wb.DataReader(e, data_source = 'yahoo',start = start, end = end) ['Adj Close']"
   ]
  },
  {
   "cell_type": "code",
   "execution_count": 85,
   "metadata": {},
   "outputs": [],
   "source": [
    "etf_df.index = pd.DatetimeIndex(etf_df.index)"
   ]
  },
  {
   "cell_type": "code",
   "execution_count": 86,
   "metadata": {},
   "outputs": [],
   "source": [
    "etf_daily_returns = etf_df.pct_change().dropna()"
   ]
  },
  {
   "cell_type": "code",
   "execution_count": 87,
   "metadata": {},
   "outputs": [
    {
     "data": {
      "text/html": [
       "<div>\n",
       "<style scoped>\n",
       "    .dataframe tbody tr th:only-of-type {\n",
       "        vertical-align: middle;\n",
       "    }\n",
       "\n",
       "    .dataframe tbody tr th {\n",
       "        vertical-align: top;\n",
       "    }\n",
       "\n",
       "    .dataframe thead th {\n",
       "        text-align: right;\n",
       "    }\n",
       "</style>\n",
       "<table border=\"1\" class=\"dataframe\">\n",
       "  <thead>\n",
       "    <tr style=\"text-align: right;\">\n",
       "      <th></th>\n",
       "      <th>Mkt-RF</th>\n",
       "      <th>SMB</th>\n",
       "      <th>HML</th>\n",
       "      <th>RF</th>\n",
       "    </tr>\n",
       "    <tr>\n",
       "      <th>Date</th>\n",
       "      <th></th>\n",
       "      <th></th>\n",
       "      <th></th>\n",
       "      <th></th>\n",
       "    </tr>\n",
       "  </thead>\n",
       "  <tbody>\n",
       "    <tr>\n",
       "      <th>2015-03-04</th>\n",
       "      <td>-0.0041</td>\n",
       "      <td>0.0009</td>\n",
       "      <td>-0.0040</td>\n",
       "      <td>0.00000</td>\n",
       "    </tr>\n",
       "    <tr>\n",
       "      <th>2015-03-05</th>\n",
       "      <td>0.0015</td>\n",
       "      <td>0.0024</td>\n",
       "      <td>-0.0042</td>\n",
       "      <td>0.00000</td>\n",
       "    </tr>\n",
       "    <tr>\n",
       "      <th>2015-03-06</th>\n",
       "      <td>-0.0129</td>\n",
       "      <td>0.0027</td>\n",
       "      <td>0.0043</td>\n",
       "      <td>0.00000</td>\n",
       "    </tr>\n",
       "    <tr>\n",
       "      <th>2015-03-09</th>\n",
       "      <td>0.0037</td>\n",
       "      <td>0.0008</td>\n",
       "      <td>-0.0002</td>\n",
       "      <td>0.00000</td>\n",
       "    </tr>\n",
       "    <tr>\n",
       "      <th>2015-03-10</th>\n",
       "      <td>-0.0163</td>\n",
       "      <td>0.0042</td>\n",
       "      <td>-0.0047</td>\n",
       "      <td>0.00000</td>\n",
       "    </tr>\n",
       "    <tr>\n",
       "      <th>...</th>\n",
       "      <td>...</td>\n",
       "      <td>...</td>\n",
       "      <td>...</td>\n",
       "      <td>...</td>\n",
       "    </tr>\n",
       "    <tr>\n",
       "      <th>2020-01-27</th>\n",
       "      <td>-0.0156</td>\n",
       "      <td>0.0038</td>\n",
       "      <td>-0.0048</td>\n",
       "      <td>0.00006</td>\n",
       "    </tr>\n",
       "    <tr>\n",
       "      <th>2020-01-28</th>\n",
       "      <td>0.0102</td>\n",
       "      <td>-0.0014</td>\n",
       "      <td>-0.0042</td>\n",
       "      <td>0.00006</td>\n",
       "    </tr>\n",
       "    <tr>\n",
       "      <th>2020-01-29</th>\n",
       "      <td>-0.0010</td>\n",
       "      <td>-0.0025</td>\n",
       "      <td>-0.0095</td>\n",
       "      <td>0.00006</td>\n",
       "    </tr>\n",
       "    <tr>\n",
       "      <th>2020-01-30</th>\n",
       "      <td>0.0034</td>\n",
       "      <td>-0.0070</td>\n",
       "      <td>0.0067</td>\n",
       "      <td>0.00006</td>\n",
       "    </tr>\n",
       "    <tr>\n",
       "      <th>2020-01-31</th>\n",
       "      <td>-0.0174</td>\n",
       "      <td>-0.0044</td>\n",
       "      <td>-0.0034</td>\n",
       "      <td>0.00006</td>\n",
       "    </tr>\n",
       "  </tbody>\n",
       "</table>\n",
       "<p>1238 rows × 4 columns</p>\n",
       "</div>"
      ],
      "text/plain": [
       "            Mkt-RF     SMB     HML       RF\n",
       "Date                                       \n",
       "2015-03-04 -0.0041  0.0009 -0.0040  0.00000\n",
       "2015-03-05  0.0015  0.0024 -0.0042  0.00000\n",
       "2015-03-06 -0.0129  0.0027  0.0043  0.00000\n",
       "2015-03-09  0.0037  0.0008 -0.0002  0.00000\n",
       "2015-03-10 -0.0163  0.0042 -0.0047  0.00000\n",
       "...            ...     ...     ...      ...\n",
       "2020-01-27 -0.0156  0.0038 -0.0048  0.00006\n",
       "2020-01-28  0.0102 -0.0014 -0.0042  0.00006\n",
       "2020-01-29 -0.0010 -0.0025 -0.0095  0.00006\n",
       "2020-01-30  0.0034 -0.0070  0.0067  0.00006\n",
       "2020-01-31 -0.0174 -0.0044 -0.0034  0.00006\n",
       "\n",
       "[1238 rows x 4 columns]"
      ]
     },
     "execution_count": 87,
     "metadata": {},
     "output_type": "execute_result"
    }
   ],
   "source": [
    "ffm_df"
   ]
  },
  {
   "cell_type": "code",
   "execution_count": 88,
   "metadata": {},
   "outputs": [
    {
     "data": {
      "text/html": [
       "<div>\n",
       "<style scoped>\n",
       "    .dataframe tbody tr th:only-of-type {\n",
       "        vertical-align: middle;\n",
       "    }\n",
       "\n",
       "    .dataframe tbody tr th {\n",
       "        vertical-align: top;\n",
       "    }\n",
       "\n",
       "    .dataframe thead th {\n",
       "        text-align: right;\n",
       "    }\n",
       "</style>\n",
       "<table border=\"1\" class=\"dataframe\">\n",
       "  <thead>\n",
       "    <tr style=\"text-align: right;\">\n",
       "      <th></th>\n",
       "      <th>IYK</th>\n",
       "      <th>IYC</th>\n",
       "      <th>XLP</th>\n",
       "      <th>IYF</th>\n",
       "      <th>IYH</th>\n",
       "      <th>IYJ</th>\n",
       "      <th>IYM</th>\n",
       "      <th>IYR</th>\n",
       "      <th>IYW</th>\n",
       "      <th>IYZ</th>\n",
       "      <th>IDU</th>\n",
       "    </tr>\n",
       "    <tr>\n",
       "      <th>Date</th>\n",
       "      <th></th>\n",
       "      <th></th>\n",
       "      <th></th>\n",
       "      <th></th>\n",
       "      <th></th>\n",
       "      <th></th>\n",
       "      <th></th>\n",
       "      <th></th>\n",
       "      <th></th>\n",
       "      <th></th>\n",
       "      <th></th>\n",
       "    </tr>\n",
       "  </thead>\n",
       "  <tbody>\n",
       "    <tr>\n",
       "      <th>2015-03-04</th>\n",
       "      <td>-0.006867</td>\n",
       "      <td>-0.005558</td>\n",
       "      <td>-0.007012</td>\n",
       "      <td>-0.006323</td>\n",
       "      <td>0.003920</td>\n",
       "      <td>-0.007341</td>\n",
       "      <td>-0.003599</td>\n",
       "      <td>-0.008332</td>\n",
       "      <td>-0.003765</td>\n",
       "      <td>-0.005180</td>\n",
       "      <td>-0.007042</td>\n",
       "    </tr>\n",
       "    <tr>\n",
       "      <th>2015-03-05</th>\n",
       "      <td>0.000093</td>\n",
       "      <td>0.002208</td>\n",
       "      <td>0.003430</td>\n",
       "      <td>0.003907</td>\n",
       "      <td>0.005727</td>\n",
       "      <td>0.001735</td>\n",
       "      <td>-0.004194</td>\n",
       "      <td>0.003310</td>\n",
       "      <td>-0.002028</td>\n",
       "      <td>0.002929</td>\n",
       "      <td>0.007362</td>\n",
       "    </tr>\n",
       "    <tr>\n",
       "      <th>2015-03-06</th>\n",
       "      <td>-0.020368</td>\n",
       "      <td>-0.010810</td>\n",
       "      <td>-0.019506</td>\n",
       "      <td>-0.009229</td>\n",
       "      <td>-0.018508</td>\n",
       "      <td>-0.013671</td>\n",
       "      <td>-0.014508</td>\n",
       "      <td>-0.030449</td>\n",
       "      <td>-0.010806</td>\n",
       "      <td>-0.015899</td>\n",
       "      <td>-0.029053</td>\n",
       "    </tr>\n",
       "    <tr>\n",
       "      <th>2015-03-09</th>\n",
       "      <td>0.005627</td>\n",
       "      <td>0.004872</td>\n",
       "      <td>0.005537</td>\n",
       "      <td>0.004938</td>\n",
       "      <td>0.005340</td>\n",
       "      <td>0.007762</td>\n",
       "      <td>0.000950</td>\n",
       "      <td>0.008898</td>\n",
       "      <td>0.004482</td>\n",
       "      <td>0.001978</td>\n",
       "      <td>0.001560</td>\n",
       "    </tr>\n",
       "    <tr>\n",
       "      <th>2015-03-10</th>\n",
       "      <td>-0.015175</td>\n",
       "      <td>-0.015446</td>\n",
       "      <td>-0.014277</td>\n",
       "      <td>-0.018986</td>\n",
       "      <td>-0.010099</td>\n",
       "      <td>-0.017788</td>\n",
       "      <td>-0.017198</td>\n",
       "      <td>-0.004928</td>\n",
       "      <td>-0.020543</td>\n",
       "      <td>-0.015137</td>\n",
       "      <td>-0.001375</td>\n",
       "    </tr>\n",
       "    <tr>\n",
       "      <th>...</th>\n",
       "      <td>...</td>\n",
       "      <td>...</td>\n",
       "      <td>...</td>\n",
       "      <td>...</td>\n",
       "      <td>...</td>\n",
       "      <td>...</td>\n",
       "      <td>...</td>\n",
       "      <td>...</td>\n",
       "      <td>...</td>\n",
       "      <td>...</td>\n",
       "      <td>...</td>\n",
       "    </tr>\n",
       "    <tr>\n",
       "      <th>2020-01-27</th>\n",
       "      <td>-0.008473</td>\n",
       "      <td>-0.013247</td>\n",
       "      <td>-0.003145</td>\n",
       "      <td>-0.013803</td>\n",
       "      <td>-0.007617</td>\n",
       "      <td>-0.015773</td>\n",
       "      <td>-0.025173</td>\n",
       "      <td>-0.004794</td>\n",
       "      <td>-0.023694</td>\n",
       "      <td>-0.011811</td>\n",
       "      <td>-0.003101</td>\n",
       "    </tr>\n",
       "    <tr>\n",
       "      <th>2020-01-28</th>\n",
       "      <td>0.003567</td>\n",
       "      <td>0.008082</td>\n",
       "      <td>0.001262</td>\n",
       "      <td>0.009695</td>\n",
       "      <td>0.005489</td>\n",
       "      <td>0.008811</td>\n",
       "      <td>0.009261</td>\n",
       "      <td>0.004293</td>\n",
       "      <td>0.018326</td>\n",
       "      <td>0.006972</td>\n",
       "      <td>0.002934</td>\n",
       "    </tr>\n",
       "    <tr>\n",
       "      <th>2020-01-29</th>\n",
       "      <td>-0.002370</td>\n",
       "      <td>-0.005213</td>\n",
       "      <td>-0.005042</td>\n",
       "      <td>-0.001299</td>\n",
       "      <td>-0.002128</td>\n",
       "      <td>0.001876</td>\n",
       "      <td>0.003886</td>\n",
       "      <td>-0.003128</td>\n",
       "      <td>0.003040</td>\n",
       "      <td>-0.022420</td>\n",
       "      <td>0.002750</td>\n",
       "    </tr>\n",
       "    <tr>\n",
       "      <th>2020-01-30</th>\n",
       "      <td>0.010020</td>\n",
       "      <td>0.003215</td>\n",
       "      <td>0.011876</td>\n",
       "      <td>0.009976</td>\n",
       "      <td>-0.006676</td>\n",
       "      <td>-0.000819</td>\n",
       "      <td>-0.002796</td>\n",
       "      <td>0.001255</td>\n",
       "      <td>0.004081</td>\n",
       "      <td>0.000675</td>\n",
       "      <td>0.009103</td>\n",
       "    </tr>\n",
       "    <tr>\n",
       "      <th>2020-01-31</th>\n",
       "      <td>-0.011464</td>\n",
       "      <td>-0.006145</td>\n",
       "      <td>-0.011268</td>\n",
       "      <td>-0.020328</td>\n",
       "      <td>-0.019416</td>\n",
       "      <td>-0.022955</td>\n",
       "      <td>-0.022646</td>\n",
       "      <td>-0.012117</td>\n",
       "      <td>-0.025233</td>\n",
       "      <td>-0.008426</td>\n",
       "      <td>-0.004163</td>\n",
       "    </tr>\n",
       "  </tbody>\n",
       "</table>\n",
       "<p>1238 rows × 11 columns</p>\n",
       "</div>"
      ],
      "text/plain": [
       "                 IYK       IYC       XLP       IYF       IYH       IYJ  \\\n",
       "Date                                                                     \n",
       "2015-03-04 -0.006867 -0.005558 -0.007012 -0.006323  0.003920 -0.007341   \n",
       "2015-03-05  0.000093  0.002208  0.003430  0.003907  0.005727  0.001735   \n",
       "2015-03-06 -0.020368 -0.010810 -0.019506 -0.009229 -0.018508 -0.013671   \n",
       "2015-03-09  0.005627  0.004872  0.005537  0.004938  0.005340  0.007762   \n",
       "2015-03-10 -0.015175 -0.015446 -0.014277 -0.018986 -0.010099 -0.017788   \n",
       "...              ...       ...       ...       ...       ...       ...   \n",
       "2020-01-27 -0.008473 -0.013247 -0.003145 -0.013803 -0.007617 -0.015773   \n",
       "2020-01-28  0.003567  0.008082  0.001262  0.009695  0.005489  0.008811   \n",
       "2020-01-29 -0.002370 -0.005213 -0.005042 -0.001299 -0.002128  0.001876   \n",
       "2020-01-30  0.010020  0.003215  0.011876  0.009976 -0.006676 -0.000819   \n",
       "2020-01-31 -0.011464 -0.006145 -0.011268 -0.020328 -0.019416 -0.022955   \n",
       "\n",
       "                 IYM       IYR       IYW       IYZ       IDU  \n",
       "Date                                                          \n",
       "2015-03-04 -0.003599 -0.008332 -0.003765 -0.005180 -0.007042  \n",
       "2015-03-05 -0.004194  0.003310 -0.002028  0.002929  0.007362  \n",
       "2015-03-06 -0.014508 -0.030449 -0.010806 -0.015899 -0.029053  \n",
       "2015-03-09  0.000950  0.008898  0.004482  0.001978  0.001560  \n",
       "2015-03-10 -0.017198 -0.004928 -0.020543 -0.015137 -0.001375  \n",
       "...              ...       ...       ...       ...       ...  \n",
       "2020-01-27 -0.025173 -0.004794 -0.023694 -0.011811 -0.003101  \n",
       "2020-01-28  0.009261  0.004293  0.018326  0.006972  0.002934  \n",
       "2020-01-29  0.003886 -0.003128  0.003040 -0.022420  0.002750  \n",
       "2020-01-30 -0.002796  0.001255  0.004081  0.000675  0.009103  \n",
       "2020-01-31 -0.022646 -0.012117 -0.025233 -0.008426 -0.004163  \n",
       "\n",
       "[1238 rows x 11 columns]"
      ]
     },
     "execution_count": 88,
     "metadata": {},
     "output_type": "execute_result"
    }
   ],
   "source": [
    "etf_daily_returns"
   ]
  },
  {
   "cell_type": "code",
   "execution_count": 89,
   "metadata": {},
   "outputs": [],
   "source": [
    "#etf_daily_returns.loc[:,'IYK']\n",
    "#    exog=sm.add_constant(ffm_df[['Mkt-RF','SMB','HML']]).fit()"
   ]
  },
  {
   "cell_type": "code",
   "execution_count": 90,
   "metadata": {},
   "outputs": [],
   "source": [
    "#exog=sm.add_constant(ffm_df[['Mkt-RF','SMB','HML']]).fit() \n"
   ]
  },
  {
   "cell_type": "markdown",
   "metadata": {},
   "source": [
    "# Running FFM Regression\n",
    "------"
   ]
  },
  {
   "cell_type": "code",
   "execution_count": 91,
   "metadata": {},
   "outputs": [],
   "source": [
    "results_dict = {}\n",
    "params = {}\n",
    "\n",
    "for ticker in etf_daily_returns.columns:\n",
    "    results_dict[ticker] = lm.OLS(endog=etf_daily_returns.loc[:,ticker],\n",
    "                  exog=sm.add_constant(ffm_df[['Mkt-RF','SMB','HML']])).fit() \n",
    "    params[ticker] = results_dict[ticker].params"
   ]
  },
  {
   "cell_type": "code",
   "execution_count": 92,
   "metadata": {},
   "outputs": [],
   "source": [
    "ffm_constants = pd.DataFrame.from_dict(params, orient='index',\n",
    "                       columns=['Mkt-RF','const', 'SMB', 'HML'])"
   ]
  },
  {
   "cell_type": "code",
   "execution_count": 93,
   "metadata": {},
   "outputs": [],
   "source": [
    "mkt_rf_mean = ffm_df['Mkt-RF'].mean()\n",
    "smb_mean = ffm_df['SMB'].mean()\n",
    "hml_mean = ffm_df['HML'].mean()\n",
    "rf_mean = ffm_df['RF'].mean()"
   ]
  },
  {
   "cell_type": "code",
   "execution_count": 94,
   "metadata": {},
   "outputs": [],
   "source": [
    "ffm_returns = ffm_constants['const'] + ffm_constants['Mkt-RF'] * mkt_rf_mean + ffm_constants['SMB'] * smb_mean + ffm_constants['HML'] * hml_mean + rf_mean"
   ]
  },
  {
   "cell_type": "markdown",
   "metadata": {},
   "source": [
    "# Working with data\n",
    "    Annualizing FFM returns\n",
    "    Calculating Volatility\n",
    "    Calculating Sharpe Ratio\n",
    "    Cumulative Daily Returns\n",
    "-----"
   ]
  },
  {
   "cell_type": "code",
   "execution_count": 95,
   "metadata": {},
   "outputs": [],
   "source": [
    "# Annualized returns for concat df\n",
    "ffm_returns_annual = ((ffm_returns+1)**252 -1)"
   ]
  },
  {
   "cell_type": "code",
   "execution_count": 96,
   "metadata": {},
   "outputs": [],
   "source": [
    "# Annualized volatility for concat df\n",
    "volatility = etf_daily_returns.std()* np.sqrt(252)"
   ]
  },
  {
   "cell_type": "code",
   "execution_count": 97,
   "metadata": {},
   "outputs": [],
   "source": [
    "# Annualized volatility for concat df\n",
    "sharpe_ratio = (ffm_returns_annual) / (volatility)"
   ]
  },
  {
   "cell_type": "code",
   "execution_count": 98,
   "metadata": {},
   "outputs": [],
   "source": [
    "# Will need in Ticker Analysis\n",
    "cumulative_daily_returns = (1 + etf_daily_returns).cumprod() - 1"
   ]
  },
  {
   "cell_type": "code",
   "execution_count": 99,
   "metadata": {},
   "outputs": [],
   "source": [
    "# Will need in Building Portfolio Efficiency Frontier  \n",
    "etf_cov = etf_daily_returns.cov() * 252"
   ]
  },
  {
   "cell_type": "code",
   "execution_count": 100,
   "metadata": {},
   "outputs": [],
   "source": [
    "# Will need in Building Portfolio Efficiency Frontier  \n",
    "etf_corr = etf_daily_returns.corr()"
   ]
  },
  {
   "cell_type": "code",
   "execution_count": 101,
   "metadata": {},
   "outputs": [],
   "source": [
    "data_df = pd.concat([ffm_returns_annual, volatility, sharpe_ratio], axis = 'columns', join = 'inner')"
   ]
  },
  {
   "cell_type": "code",
   "execution_count": 102,
   "metadata": {},
   "outputs": [],
   "source": [
    "data_df.columns=([['E_Return', 'Volatility', 'Sharpe_Ratio']])"
   ]
  },
  {
   "cell_type": "code",
   "execution_count": 103,
   "metadata": {},
   "outputs": [
    {
     "data": {
      "text/html": [
       "<div>\n",
       "<style scoped>\n",
       "    .dataframe tbody tr th:only-of-type {\n",
       "        vertical-align: middle;\n",
       "    }\n",
       "\n",
       "    .dataframe tbody tr th {\n",
       "        vertical-align: top;\n",
       "    }\n",
       "\n",
       "    .dataframe thead tr th {\n",
       "        text-align: left;\n",
       "    }\n",
       "</style>\n",
       "<table border=\"1\" class=\"dataframe\">\n",
       "  <thead>\n",
       "    <tr>\n",
       "      <th></th>\n",
       "      <th>E_Return</th>\n",
       "      <th>Volatility</th>\n",
       "      <th>Sharpe_Ratio</th>\n",
       "    </tr>\n",
       "  </thead>\n",
       "  <tbody>\n",
       "    <tr>\n",
       "      <th>IYK</th>\n",
       "      <td>0.089737</td>\n",
       "      <td>0.120002</td>\n",
       "      <td>0.747799</td>\n",
       "    </tr>\n",
       "    <tr>\n",
       "      <th>IYC</th>\n",
       "      <td>0.127611</td>\n",
       "      <td>0.142093</td>\n",
       "      <td>0.898081</td>\n",
       "    </tr>\n",
       "    <tr>\n",
       "      <th>XLP</th>\n",
       "      <td>0.097062</td>\n",
       "      <td>0.118926</td>\n",
       "      <td>0.816156</td>\n",
       "    </tr>\n",
       "    <tr>\n",
       "      <th>IYF</th>\n",
       "      <td>0.131710</td>\n",
       "      <td>0.148050</td>\n",
       "      <td>0.889630</td>\n",
       "    </tr>\n",
       "    <tr>\n",
       "      <th>IYH</th>\n",
       "      <td>0.107176</td>\n",
       "      <td>0.152386</td>\n",
       "      <td>0.703320</td>\n",
       "    </tr>\n",
       "    <tr>\n",
       "      <th>IYJ</th>\n",
       "      <td>0.127490</td>\n",
       "      <td>0.149361</td>\n",
       "      <td>0.853567</td>\n",
       "    </tr>\n",
       "    <tr>\n",
       "      <th>IYM</th>\n",
       "      <td>0.055172</td>\n",
       "      <td>0.175217</td>\n",
       "      <td>0.314876</td>\n",
       "    </tr>\n",
       "    <tr>\n",
       "      <th>IYR</th>\n",
       "      <td>0.098334</td>\n",
       "      <td>0.139467</td>\n",
       "      <td>0.705072</td>\n",
       "    </tr>\n",
       "    <tr>\n",
       "      <th>IYW</th>\n",
       "      <td>0.221197</td>\n",
       "      <td>0.183466</td>\n",
       "      <td>1.205660</td>\n",
       "    </tr>\n",
       "    <tr>\n",
       "      <th>IYZ</th>\n",
       "      <td>0.040504</td>\n",
       "      <td>0.172020</td>\n",
       "      <td>0.235459</td>\n",
       "    </tr>\n",
       "    <tr>\n",
       "      <th>IDU</th>\n",
       "      <td>0.148648</td>\n",
       "      <td>0.136206</td>\n",
       "      <td>1.091347</td>\n",
       "    </tr>\n",
       "  </tbody>\n",
       "</table>\n",
       "</div>"
      ],
      "text/plain": [
       "     E_Return Volatility Sharpe_Ratio\n",
       "IYK  0.089737   0.120002     0.747799\n",
       "IYC  0.127611   0.142093     0.898081\n",
       "XLP  0.097062   0.118926     0.816156\n",
       "IYF  0.131710   0.148050     0.889630\n",
       "IYH  0.107176   0.152386     0.703320\n",
       "IYJ  0.127490   0.149361     0.853567\n",
       "IYM  0.055172   0.175217     0.314876\n",
       "IYR  0.098334   0.139467     0.705072\n",
       "IYW  0.221197   0.183466     1.205660\n",
       "IYZ  0.040504   0.172020     0.235459\n",
       "IDU  0.148648   0.136206     1.091347"
      ]
     },
     "execution_count": 103,
     "metadata": {},
     "output_type": "execute_result"
    }
   ],
   "source": [
    "data_df"
   ]
  },
  {
   "cell_type": "markdown",
   "metadata": {},
   "source": [
    "# Ticker Analysis\n",
    "------"
   ]
  },
  {
   "cell_type": "code",
   "execution_count": 5,
   "metadata": {},
   "outputs": [],
   "source": [
    "def daily_returns_line_plot():\n",
    "    \"\"\"ETFs: Line Plot\"\"\"\n",
    "    daily_returns_line_plot = etf_daily_returns.hvplot.line(\n",
    "                        xlabel = 'ETF',\n",
    "                        ylabel = 'Volatility',\n",
    "                        width = 500,\n",
    "                        rot = 60,\n",
    "                        ylim = (-.07, .07))\n",
    "    return daily_returns_line_plot\n",
    "\n",
    "def daily_returns_box_plot():\n",
    "    \"\"\"ETFs: Volatility - Box Plot\"\"\"\n",
    "    daily_returns_box_plot = etf_daily_returns.hvplot.box(\n",
    "                        xlabel = 'ETF',\n",
    "                        ylabel = 'Volatility',\n",
    "                        width = 500,\n",
    "                        #text = (.02,-.02,'Volatility Band'),\n",
    "                        rot = 60,\n",
    "                        ylim = (-.07, .07))\n",
    "    return daily_returns_box_plot\n",
    "\n",
    "def cumulative_daily_returns_line_plot():\n",
    "    \"\"\"ETFs: Cumulative Returns\"\"\"\n",
    "    cumulative_daily_returns_line_plot = cumulative_daily_returns.hvplot.line(\n",
    "                        xlabel = 'Date',\n",
    "                        width = 1000,\n",
    "                        ylabel = 'Returns')\n",
    "    return cumulative_daily_returns_line_plot\n",
    "\n",
    "def sharpe_ratio_plot():\n",
    "    \"\"\"ETFs: Sharpe Ratio\"\"\"\n",
    "    sharpe_ratio_plot = sharpe_ratio.hvplot.bar(title=\"Sharpe Ratios\", \n",
    "                        hover_fill_color = 'Yellow',\n",
    "                        xlabel = 'ETF',\n",
    "                        ylabel = 'Sharpe')\n",
    "    return sharpe_ratio_plot\n",
    "\n",
    "def rolling_std_dev():\n",
    "    \"\"\"ETFRolling 21-Day Std. Dev.\"\"\"\n",
    "    rolling_std_dev = daily_returns.iloc[:,list(range(1)) + [-1]].rolling(window=21).std().hvplot.line(\n",
    "                        title=\"Rolling 21-Day Std. Dev. of ETF\")\n",
    "    return rolling_std_dev"
   ]
  },
  {
   "cell_type": "markdown",
   "metadata": {},
   "source": [
    "# Building Efficiency Frontier Simulation\n",
    "\n",
    "---"
   ]
  },
  {
   "cell_type": "code",
   "execution_count": 110,
   "metadata": {},
   "outputs": [],
   "source": [
    "num_tickers = len(etf_tickers)"
   ]
  },
  {
   "cell_type": "code",
   "execution_count": 111,
   "metadata": {},
   "outputs": [],
   "source": [
    "arr = np.random.random(num_tickers)"
   ]
  },
  {
   "cell_type": "code",
   "execution_count": 112,
   "metadata": {},
   "outputs": [],
   "source": [
    "# Allocating random weights to each ticker (sum of tickers = 1)\n",
    "weights = np.random.random(num_tickers)\n",
    "weights /= np.sum(weights)"
   ]
  },
  {
   "cell_type": "code",
   "execution_count": 108,
   "metadata": {},
   "outputs": [
    {
     "ename": "SyntaxError",
     "evalue": "invalid syntax (<ipython-input-108-9f7878c3f7f5>, line 10)",
     "output_type": "error",
     "traceback": [
      "\u001b[0;36m  File \u001b[0;32m\"<ipython-input-108-9f7878c3f7f5>\"\u001b[0;36m, line \u001b[0;32m10\u001b[0m\n\u001b[0;31m    pfolio_returns = np.array(pfolio_returns)\u001b[0m\n\u001b[0m                 ^\u001b[0m\n\u001b[0;31mSyntaxError\u001b[0m\u001b[0;31m:\u001b[0m invalid syntax\n"
     ]
    }
   ],
   "source": [
    "pfolio_returns = []\n",
    "pfolio_volatilities = []\n",
    "\n",
    "for x in range (1_000):\n",
    "    weights = np.random.random(num_tickers)\n",
    "    weights /= np.sum(weights)\n",
    "    pfolio_returns.append(np.sum(weights * (data_df.iloc[:,0])))\n",
    "    pfolio_volatilities.append(np.sqrt(np.dot(weights.T,np.dot(etf_cov, weights)))\n",
    "\n",
    "pfolio_returns = np.array(pfolio_returns)\n",
    "pfolio_volatilities = np.array(pfolio_volatilities)\n",
    "                               \n",
    "pfolio_returns, pfolio_volatilities"
   ]
  },
  {
   "cell_type": "code",
   "execution_count": null,
   "metadata": {},
   "outputs": [],
   "source": [
    "portfolios = pd.DataFrame({'Return': pfolio_returns, 'Volatility': pfolio_volatilities})"
   ]
  },
  {
   "cell_type": "code",
   "execution_count": null,
   "metadata": {},
   "outputs": [],
   "source": [
    "portfolios.head()"
   ]
  },
  {
   "cell_type": "markdown",
   "metadata": {},
   "source": [
    "# Monte Carlo Simulation\n",
    "-----"
   ]
  },
  {
   "cell_type": "code",
   "execution_count": null,
   "metadata": {},
   "outputs": [],
   "source": []
  }
 ],
 "metadata": {
  "kernelspec": {
   "display_name": "Python 3",
   "language": "python",
   "name": "python3"
  },
  "language_info": {
   "codemirror_mode": {
    "name": "ipython",
    "version": 3
   },
   "file_extension": ".py",
   "mimetype": "text/x-python",
   "name": "python",
   "nbconvert_exporter": "python",
   "pygments_lexer": "ipython3",
   "version": "3.6.7"
  }
 },
 "nbformat": 4,
 "nbformat_minor": 4
}
