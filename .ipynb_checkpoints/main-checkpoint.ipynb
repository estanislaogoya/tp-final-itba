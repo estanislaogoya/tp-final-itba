{
 "cells": [
  {
   "cell_type": "code",
   "execution_count": 1,
   "metadata": {},
   "outputs": [],
   "source": [
    "import loadStocks as ls\n",
    "import featEng as fe\n",
    "import pandas as pd\n",
    "import ml_pytorch as mp\n",
    "import plotCharts as pc\n",
    "\n",
    "TICKER_NAMES = ['fb']\n",
    "\n",
    "STOCKS = ls.load_tickers_df(TICKER_NAMES, display=\"grid\")"
   ]
  },
  {
   "cell_type": "code",
   "execution_count": 2,
   "metadata": {
    "scrolled": true
   },
   "outputs": [
    {
     "name": "stderr",
     "output_type": "stream",
     "text": [
      "/Users/egarciagoya/OneDrive - Facebook/ITBA Especializacion/tp_final/code/notebooks/ml_pytorch.py:59: SettingWithCopyWarning: \n",
      "A value is trying to be set on a copy of a slice from a DataFrame.\n",
      "Try using .loc[row_indexer,col_indexer] = value instead\n",
      "\n",
      "See the caveats in the documentation: https://pandas.pydata.org/pandas-docs/stable/user_guide/indexing.html#returning-a-view-versus-a-copy\n",
      "  df['future_price'] = df.loc[:, 'Close'].shift(self.LOOK_WINDOW)\n",
      "/Users/egarciagoya/opt/anaconda3/lib/python3.8/site-packages/pandas/core/frame.py:3990: SettingWithCopyWarning: \n",
      "A value is trying to be set on a copy of a slice from a DataFrame\n",
      "\n",
      "See the caveats in the documentation: https://pandas.pydata.org/pandas-docs/stable/user_guide/indexing.html#returning-a-view-versus-a-copy\n",
      "  return super().drop(\n"
     ]
    },
    {
     "name": "stdout",
     "output_type": "stream",
     "text": [
      "Fit model on training data\n",
      "Epoch 1/50\n",
      "32/32 [==============================] - 0s 765us/step - loss: 5931.2868 - mean_squared_error: 5931.2868 - mean_absolute_percentage_error: 49.7093\n",
      "Epoch 2/50\n",
      "32/32 [==============================] - 0s 832us/step - loss: 1063.6157 - mean_squared_error: 1063.6157 - mean_absolute_percentage_error: 21.3436\n",
      "Epoch 3/50\n",
      "32/32 [==============================] - 0s 687us/step - loss: 1004.4707 - mean_squared_error: 1004.4707 - mean_absolute_percentage_error: 21.9063\n",
      "Epoch 4/50\n",
      "32/32 [==============================] - 0s 663us/step - loss: 999.5941 - mean_squared_error: 999.5941 - mean_absolute_percentage_error: 21.9591\n",
      "Epoch 5/50\n",
      "32/32 [==============================] - 0s 630us/step - loss: 1002.7628 - mean_squared_error: 1002.7628 - mean_absolute_percentage_error: 21.6825\n",
      "Epoch 6/50\n",
      "32/32 [==============================] - 0s 689us/step - loss: 999.8407 - mean_squared_error: 999.8407 - mean_absolute_percentage_error: 21.8424\n",
      "Epoch 7/50\n",
      "32/32 [==============================] - 0s 642us/step - loss: 995.7036 - mean_squared_error: 995.7036 - mean_absolute_percentage_error: 21.6973\n",
      "Epoch 8/50\n",
      "32/32 [==============================] - 0s 609us/step - loss: 999.8536 - mean_squared_error: 999.8536 - mean_absolute_percentage_error: 21.6776\n",
      "Epoch 9/50\n",
      "32/32 [==============================] - 0s 655us/step - loss: 993.6039 - mean_squared_error: 993.6039 - mean_absolute_percentage_error: 21.7602\n",
      "Epoch 10/50\n",
      "32/32 [==============================] - 0s 683us/step - loss: 991.4808 - mean_squared_error: 991.4808 - mean_absolute_percentage_error: 21.7369\n",
      "Epoch 11/50\n",
      "32/32 [==============================] - 0s 652us/step - loss: 1000.1063 - mean_squared_error: 1000.1062 - mean_absolute_percentage_error: 21.7038\n",
      "Epoch 12/50\n",
      "32/32 [==============================] - 0s 639us/step - loss: 992.4422 - mean_squared_error: 992.4422 - mean_absolute_percentage_error: 21.3678\n",
      "Epoch 13/50\n",
      "32/32 [==============================] - 0s 612us/step - loss: 992.4421 - mean_squared_error: 992.4421 - mean_absolute_percentage_error: 21.7137\n",
      "Epoch 14/50\n",
      "32/32 [==============================] - 0s 607us/step - loss: 990.9761 - mean_squared_error: 990.9761 - mean_absolute_percentage_error: 21.6483\n",
      "Epoch 15/50\n",
      "32/32 [==============================] - 0s 747us/step - loss: 983.0569 - mean_squared_error: 983.0569 - mean_absolute_percentage_error: 21.5878\n",
      "Epoch 16/50\n",
      "32/32 [==============================] - 0s 657us/step - loss: 989.2168 - mean_squared_error: 989.2167 - mean_absolute_percentage_error: 21.5671\n",
      "Epoch 17/50\n",
      "32/32 [==============================] - 0s 622us/step - loss: 985.2624 - mean_squared_error: 985.2625 - mean_absolute_percentage_error: 21.5333\n",
      "Epoch 18/50\n",
      "32/32 [==============================] - 0s 625us/step - loss: 994.7937 - mean_squared_error: 994.7937 - mean_absolute_percentage_error: 21.6621\n",
      "Epoch 19/50\n",
      "32/32 [==============================] - 0s 666us/step - loss: 984.0610 - mean_squared_error: 984.0610 - mean_absolute_percentage_error: 21.4002\n",
      "Epoch 20/50\n",
      "32/32 [==============================] - 0s 766us/step - loss: 976.6760 - mean_squared_error: 976.6760 - mean_absolute_percentage_error: 21.2950\n",
      "Epoch 21/50\n",
      "32/32 [==============================] - 0s 672us/step - loss: 978.7834 - mean_squared_error: 978.7834 - mean_absolute_percentage_error: 21.3522\n",
      "Epoch 22/50\n",
      "32/32 [==============================] - 0s 756us/step - loss: 971.0474 - mean_squared_error: 971.0474 - mean_absolute_percentage_error: 21.4784\n",
      "Epoch 23/50\n",
      "32/32 [==============================] - 0s 702us/step - loss: 978.3408 - mean_squared_error: 978.3408 - mean_absolute_percentage_error: 21.3095\n",
      "Epoch 24/50\n",
      "32/32 [==============================] - 0s 599us/step - loss: 967.2763 - mean_squared_error: 967.2763 - mean_absolute_percentage_error: 21.4633\n",
      "Epoch 25/50\n",
      "32/32 [==============================] - 0s 582us/step - loss: 966.0509 - mean_squared_error: 966.0510 - mean_absolute_percentage_error: 21.1603\n",
      "Epoch 26/50\n",
      "32/32 [==============================] - 0s 619us/step - loss: 970.6347 - mean_squared_error: 970.6347 - mean_absolute_percentage_error: 21.2584\n",
      "Epoch 27/50\n",
      "32/32 [==============================] - 0s 848us/step - loss: 959.3940 - mean_squared_error: 959.3940 - mean_absolute_percentage_error: 21.2238\n",
      "Epoch 28/50\n",
      "32/32 [==============================] - 0s 836us/step - loss: 968.6594 - mean_squared_error: 968.6594 - mean_absolute_percentage_error: 21.2025\n",
      "Epoch 29/50\n",
      "32/32 [==============================] - 0s 723us/step - loss: 962.0561 - mean_squared_error: 962.0561 - mean_absolute_percentage_error: 21.3379\n",
      "Epoch 30/50\n",
      "32/32 [==============================] - 0s 725us/step - loss: 964.8614 - mean_squared_error: 964.8614 - mean_absolute_percentage_error: 21.0972\n",
      "Epoch 31/50\n",
      "32/32 [==============================] - 0s 660us/step - loss: 953.8110 - mean_squared_error: 953.8110 - mean_absolute_percentage_error: 21.1183\n",
      "Epoch 32/50\n",
      "32/32 [==============================] - 0s 709us/step - loss: 954.1437 - mean_squared_error: 954.1437 - mean_absolute_percentage_error: 21.0314\n",
      "Epoch 33/50\n",
      "32/32 [==============================] - 0s 887us/step - loss: 957.5342 - mean_squared_error: 957.5342 - mean_absolute_percentage_error: 21.1311\n",
      "Epoch 34/50\n",
      "32/32 [==============================] - 0s 996us/step - loss: 950.9747 - mean_squared_error: 950.9747 - mean_absolute_percentage_error: 20.8942\n",
      "Epoch 35/50\n",
      "32/32 [==============================] - 0s 753us/step - loss: 947.8861 - mean_squared_error: 947.8861 - mean_absolute_percentage_error: 21.0397\n",
      "Epoch 36/50\n",
      "32/32 [==============================] - 0s 742us/step - loss: 946.9148 - mean_squared_error: 946.9148 - mean_absolute_percentage_error: 21.0162\n",
      "Epoch 37/50\n",
      "32/32 [==============================] - 0s 759us/step - loss: 950.5961 - mean_squared_error: 950.5961 - mean_absolute_percentage_error: 21.0913\n",
      "Epoch 38/50\n",
      "32/32 [==============================] - 0s 638us/step - loss: 973.4030 - mean_squared_error: 973.4030 - mean_absolute_percentage_error: 20.8551\n",
      "Epoch 39/50\n",
      "32/32 [==============================] - 0s 683us/step - loss: 942.2836 - mean_squared_error: 942.2836 - mean_absolute_percentage_error: 20.8014\n",
      "Epoch 40/50\n",
      "32/32 [==============================] - 0s 712us/step - loss: 936.1383 - mean_squared_error: 936.1383 - mean_absolute_percentage_error: 20.9304\n",
      "Epoch 41/50\n",
      "32/32 [==============================] - 0s 755us/step - loss: 933.6587 - mean_squared_error: 933.6586 - mean_absolute_percentage_error: 20.8368\n",
      "Epoch 42/50\n",
      "32/32 [==============================] - 0s 741us/step - loss: 932.1559 - mean_squared_error: 932.1559 - mean_absolute_percentage_error: 20.5794\n",
      "Epoch 43/50\n",
      "32/32 [==============================] - 0s 833us/step - loss: 931.4757 - mean_squared_error: 931.4757 - mean_absolute_percentage_error: 20.7515\n",
      "Epoch 44/50\n",
      "32/32 [==============================] - 0s 605us/step - loss: 931.6394 - mean_squared_error: 931.6394 - mean_absolute_percentage_error: 20.5892\n",
      "Epoch 45/50\n",
      "32/32 [==============================] - 0s 623us/step - loss: 939.3016 - mean_squared_error: 939.3016 - mean_absolute_percentage_error: 20.6149\n",
      "Epoch 46/50\n",
      "32/32 [==============================] - 0s 695us/step - loss: 930.6923 - mean_squared_error: 930.6923 - mean_absolute_percentage_error: 20.5909\n",
      "Epoch 47/50\n",
      "32/32 [==============================] - 0s 719us/step - loss: 919.9167 - mean_squared_error: 919.9167 - mean_absolute_percentage_error: 20.6199\n",
      "Epoch 48/50\n",
      "32/32 [==============================] - 0s 706us/step - loss: 923.6733 - mean_squared_error: 923.6733 - mean_absolute_percentage_error: 20.5353\n",
      "Epoch 49/50\n",
      "32/32 [==============================] - 0s 737us/step - loss: 913.4618 - mean_squared_error: 913.4618 - mean_absolute_percentage_error: 20.5359\n",
      "Epoch 50/50\n",
      "32/32 [==============================] - 0s 733us/step - loss: 919.7548 - mean_squared_error: 919.7548 - mean_absolute_percentage_error: 20.5011\n",
      "Evaluate on test data\n",
      "4/4 [==============================] - 0s 746us/step - loss: 955.7794 - mean_squared_error: 955.7794 - mean_absolute_percentage_error: 20.0240\n",
      "test loss, test acc: [955.779381337792, 955.7794052084332, 20.024028451564494]\n",
      "30.915682188954413\n"
     ]
    },
    {
     "data": {
      "text/plain": [
       "[]"
      ]
     },
     "execution_count": 2,
     "metadata": {},
     "output_type": "execute_result"
    }
   ],
   "source": [
    "df_model_output = mp.ModelProcessorTF(fe.pricePredictionFeatureEng40(STOCKS)).df_test_x_y\n"
   ]
  },
  {
   "cell_type": "code",
   "execution_count": 3,
   "metadata": {},
   "outputs": [
    {
     "ename": "TypeError",
     "evalue": "'ModelProcessorTF' object is not subscriptable",
     "output_type": "error",
     "traceback": [
      "\u001b[0;31m---------------------------------------------------------------------------\u001b[0m",
      "\u001b[0;31mTypeError\u001b[0m                                 Traceback (most recent call last)",
      "\u001b[0;32m<ipython-input-3-25fe417c364c>\u001b[0m in \u001b[0;36m<module>\u001b[0;34m\u001b[0m\n\u001b[0;32m----> 1\u001b[0;31m \u001b[0mpc\u001b[0m\u001b[0;34m.\u001b[0m\u001b[0mplotDensity\u001b[0m\u001b[0;34m(\u001b[0m\u001b[0mdf_model_output\u001b[0m\u001b[0;34m[\u001b[0m\u001b[0;34m'predictions'\u001b[0m\u001b[0;34m]\u001b[0m\u001b[0;34m-\u001b[0m\u001b[0mdf_model_output\u001b[0m\u001b[0;34m[\u001b[0m\u001b[0;34m'future_price'\u001b[0m\u001b[0;34m]\u001b[0m\u001b[0;34m)\u001b[0m\u001b[0;34m\u001b[0m\u001b[0;34m\u001b[0m\u001b[0m\n\u001b[0m",
      "\u001b[0;31mTypeError\u001b[0m: 'ModelProcessorTF' object is not subscriptable"
     ]
    }
   ],
   "source": [
    "pc.plotDensity(df_model_output['predictions']-df_model_output['future_price'])"
   ]
  },
  {
   "cell_type": "code",
   "execution_count": null,
   "metadata": {},
   "outputs": [],
   "source": []
  }
 ],
 "metadata": {
  "kernelspec": {
   "display_name": "Python 3",
   "language": "python",
   "name": "python3"
  },
  "language_info": {
   "codemirror_mode": {
    "name": "ipython",
    "version": 3
   },
   "file_extension": ".py",
   "mimetype": "text/x-python",
   "name": "python",
   "nbconvert_exporter": "python",
   "pygments_lexer": "ipython3",
   "version": "3.8.3"
  }
 },
 "nbformat": 4,
 "nbformat_minor": 2
}
