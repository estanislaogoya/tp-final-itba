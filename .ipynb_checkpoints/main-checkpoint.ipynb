{
 "cells": [
  {
   "cell_type": "code",
   "execution_count": 1,
   "metadata": {},
   "outputs": [],
   "source": [
    "import loadStocks as ls\n",
    "import featEng as fe\n",
    "import pandas as pd\n",
    "import ml_pytorch as mp\n",
    "import plotCharts as pc\n",
    "\n",
    "TICKER_NAMES = ['fb','msft','pg']\n",
    "\n",
    "STOCKS = ls.load_tickers_df(TICKER_NAMES, display=\"append\")"
   ]
  },
  {
   "cell_type": "code",
   "execution_count": 2,
   "metadata": {},
   "outputs": [
    {
     "name": "stderr",
     "output_type": "stream",
     "text": [
      "/Users/egarciagoya/OneDrive - Facebook/ITBA Especializacion/tp_final/code/notebooks/featEng.py:18: SettingWithCopyWarning: \n",
      "A value is trying to be set on a copy of a slice from a DataFrame.\n",
      "Try using .loc[row_indexer,col_indexer] = value instead\n",
      "\n",
      "See the caveats in the documentation: https://pandas.pydata.org/pandas-docs/stable/user_guide/indexing.html#returning-a-view-versus-a-copy\n",
      "  df['future_price'] = df.loc[:, 'Close'].shift(LOOK_WINDOW)\n",
      "/Users/egarciagoya/opt/anaconda3/lib/python3.8/site-packages/pandas/core/frame.py:3990: SettingWithCopyWarning: \n",
      "A value is trying to be set on a copy of a slice from a DataFrame\n",
      "\n",
      "See the caveats in the documentation: https://pandas.pydata.org/pandas-docs/stable/user_guide/indexing.html#returning-a-view-versus-a-copy\n",
      "  return super().drop(\n"
     ]
    },
    {
     "name": "stdout",
     "output_type": "stream",
     "text": [
      "X_Traing DataFrame\n",
      "        Open    High     Low   Close   Volume  1d_abs  1d_dir  2d_abs  1d_cls  \\\n",
      "591    90.46   90.80   89.65   89.68  2662.78   -0.42     0.0    1.73   90.10   \n",
      "664   102.20  103.81  101.55  103.77  2596.12    1.58     1.0    4.10  102.19   \n",
      "195    51.66   53.50   51.34   53.32  8264.10    1.49     1.0    3.94   51.83   \n",
      "1240  181.01  181.84  171.48  171.58  3847.83   -8.60     0.0  -13.73  180.18   \n",
      "1048  151.45  151.63  149.79  150.24  1714.85   -0.61     0.0   -1.56  150.85   \n",
      "...      ...     ...     ...     ...      ...     ...     ...     ...     ...   \n",
      "1130  170.40  172.15  170.06  171.97  1722.65    2.05     1.0    3.92  169.92   \n",
      "1294  176.81  177.10  172.60  173.59  2980.47   -0.57     0.0   13.90  174.16   \n",
      "860   124.98  125.84  124.62  125.15  2018.40    0.79     1.0    2.64  124.36   \n",
      "1459  133.39  134.90  123.42  124.95  5690.15   -8.45     0.0   -8.29  133.40   \n",
      "1126  167.86  168.38  166.18  166.32  1261.45   -1.42     0.0   -2.39  167.74   \n",
      "\n",
      "      2d_cls  ...  4d_cls  5d_cls  6d_cls  7d_cls  8d_cls  9d_cls  10d_cls  \\\n",
      "591    87.95  ...   85.65   87.22   87.55   87.29   86.91   85.77    85.80   \n",
      "664    99.67  ...   97.00   98.47   97.54   95.96   94.07   94.12    94.26   \n",
      "195    49.38  ...   48.84   47.94   48.34   48.62   46.73   47.06    47.01   \n",
      "1240  185.31  ...  190.28  193.09  186.89  187.12  185.98  190.00   187.48   \n",
      "1048  151.80  ...  152.46  150.25  147.70  146.56  146.49  145.47   143.68   \n",
      "...      ...  ...     ...     ...     ...     ...     ...     ...      ...   \n",
      "1130  168.05  ...  166.32  167.74  168.71  169.64  167.78  167.41   166.91   \n",
      "1294  159.69  ...  165.84  166.28  168.10  166.36  168.66  164.83   164.52   \n",
      "860   122.51  ...  124.31  123.94  125.00  123.34  121.22  121.63   121.00   \n",
      "1459  133.24  ...  140.19  144.06  145.01  144.50  142.08  141.85   137.42   \n",
      "1126  168.71  ...  167.78  167.41  166.91  170.00  171.00  170.75   168.08   \n",
      "\n",
      "        50d_ma   100d_ma    200d_ma  \n",
      "591    82.5976   81.9121   79.20430  \n",
      "664    92.5190   91.0205   85.27260  \n",
      "195    49.0354   45.4758   35.65580  \n",
      "1240  181.3796  178.1134  168.64595  \n",
      "1048  141.7650  134.1709  129.57730  \n",
      "...        ...       ...        ...  \n",
      "1130  163.3846  156.1972  142.72740  \n",
      "1294  170.5906  175.9387  174.00900  \n",
      "860   117.9352  116.2045  110.34425  \n",
      "1459  144.0554  156.7517  170.02035  \n",
      "1126  162.0344  155.0738  141.73190  \n",
      "\n",
      "[1005 rows x 21 columns]\n",
      "Open       float64\n",
      "High       float64\n",
      "Low        float64\n",
      "Close      float64\n",
      "Volume     float64\n",
      "1d_abs     float64\n",
      "1d_dir     float64\n",
      "2d_abs     float64\n",
      "1d_cls     float64\n",
      "2d_cls     float64\n",
      "3d_cls     float64\n",
      "4d_cls     float64\n",
      "5d_cls     float64\n",
      "6d_cls     float64\n",
      "7d_cls     float64\n",
      "8d_cls     float64\n",
      "9d_cls     float64\n",
      "10d_cls    float64\n",
      "50d_ma     float64\n",
      "100d_ma    float64\n",
      "200d_ma    float64\n",
      "dtype: object\n",
      "X_test DataFrame\n",
      "        Open    High     Low   Close   Volume  1d_abs  1d_dir  2d_abs  1d_cls  \\\n",
      "1116  167.95  168.82  166.85  168.08  1379.12    0.68     1.0   -3.10  167.40   \n",
      "1368  180.10  182.61  178.90  180.05  1742.33   -0.21     0.0   -3.04  180.26   \n",
      "422    75.39   75.86   75.02   75.60  2077.40    0.34     1.0    0.77   75.26   \n",
      "413    80.74   80.80   79.76   80.28  3016.90   -0.39     0.0    0.24   80.67   \n",
      "451    78.75   80.00   78.33   79.88  4333.50    1.48     1.0    3.77   78.40   \n",
      "...      ...     ...     ...     ...      ...     ...     ...     ...     ...   \n",
      "352    74.00   74.17   72.44   72.65  4399.20   -2.03     0.0   -1.06   74.68   \n",
      "937   121.23  121.31  119.94  120.84  1567.21   -0.63     0.0   -0.93  121.47   \n",
      "1295  173.79  175.72  171.71  172.00  2075.05   -1.59     0.0   -2.16  173.59   \n",
      "1392  161.92  162.06  159.77  160.58  2100.53   -1.74     0.0   -0.78  162.32   \n",
      "1300  177.35  179.50  177.17  177.97  1869.72    1.36     1.0    3.95  176.61   \n",
      "\n",
      "      2d_cls  ...  4d_cls  5d_cls  6d_cls  7d_cls  8d_cls  9d_cls  10d_cls  \\\n",
      "1116  171.18  ...  171.98  169.62  168.59  169.30  169.86  169.25   172.45   \n",
      "1368  183.09  ...  183.81  185.69  177.78  176.37  171.65  172.58   171.06   \n",
      "422    74.83  ...   73.88   74.99   74.11   75.86   80.77   80.28    80.67   \n",
      "413    80.04  ...   78.69   76.95   75.95   72.63   73.21   73.59    72.99   \n",
      "451    76.11  ...   76.99   77.83   77.73   76.18   76.84   76.52    76.36   \n",
      "...      ...  ...     ...     ...     ...     ...     ...     ...      ...   \n",
      "352    73.71  ...   75.19   74.98   71.29   69.27   69.40   68.42    66.41   \n",
      "937   121.77  ...  117.79  116.34  117.20  115.08  119.02  120.80   123.18   \n",
      "1295  174.16  ...  159.69  165.84  166.28  168.10  166.36  168.66   164.83   \n",
      "1392  161.36  ...  165.94  164.18  163.04  162.53  167.18  171.16   175.73   \n",
      "1300  174.02  ...  173.86  172.00  173.59  174.16  159.69  159.69   165.84   \n",
      "\n",
      "        50d_ma   100d_ma    200d_ma  \n",
      "1116  158.6422  152.3378  139.63460  \n",
      "1368  194.5964  183.3767  181.85655  \n",
      "422    76.6660   73.5990   68.30865  \n",
      "413    76.5108   72.5875   67.46255  \n",
      "451    75.8646   75.8037   69.81145  \n",
      "...        ...       ...        ...  \n",
      "352    66.3388   63.8254   59.89910  \n",
      "937   126.4496  124.9493  118.98090  \n",
      "1295  170.4314  175.9440  174.07270  \n",
      "1392  182.6030  185.6675  180.82575  \n",
      "1300  170.1308  175.8586  174.40920  \n",
      "\n",
      "[495 rows x 21 columns]\n",
      "y_train DataFrame\n",
      "591     119.04\n",
      "664     140.78\n",
      "195      79.19\n",
      "1240    204.66\n",
      "1048    158.78\n",
      "         ...  \n",
      "1130    163.95\n",
      "1294    179.85\n",
      "860     179.80\n",
      "1459    230.77\n",
      "1126    167.33\n",
      "Name: future_price, Length: 1005, dtype: float64\n",
      "y_test DataFrame\n",
      "1116    149.01\n",
      "1368    214.87\n",
      "422     110.56\n",
      "413     108.99\n",
      "451     118.47\n",
      "         ...  \n",
      "352      99.37\n",
      "937     182.66\n",
      "1295    180.03\n",
      "1392    196.44\n",
      "1300    190.39\n",
      "Name: future_price, Length: 495, dtype: float64\n",
      "Fit model on training data\n",
      "Epoch 1/50\n",
      "8/8 [==============================] - 0s 17ms/step - loss: 140600.7984 - mean_squared_error: 140600.7947 - mean_absolute_percentage_error: 214.8510 - val_loss: 64448.5481 - val_mean_squared_error: 64448.5484 - val_mean_absolute_percentage_error: 151.2046\n",
      "Epoch 2/50\n",
      "8/8 [==============================] - 0s 3ms/step - loss: 54972.3237 - mean_squared_error: 54972.3248 - mean_absolute_percentage_error: 132.8669 - val_loss: 25716.7544 - val_mean_squared_error: 25716.7553 - val_mean_absolute_percentage_error: 97.3499\n",
      "Epoch 3/50\n",
      "8/8 [==============================] - 0s 3ms/step - loss: 23961.3211 - mean_squared_error: 23961.3208 - mean_absolute_percentage_error: 91.1051 - val_loss: 14408.2521 - val_mean_squared_error: 14408.2524 - val_mean_absolute_percentage_error: 74.8641\n",
      "Epoch 4/50\n",
      "8/8 [==============================] - 0s 2ms/step - loss: 14345.8595 - mean_squared_error: 14345.8597 - mean_absolute_percentage_error: 72.2188 - val_loss: 10778.8023 - val_mean_squared_error: 10778.8024 - val_mean_absolute_percentage_error: 63.8426\n",
      "Epoch 5/50\n",
      "8/8 [==============================] - 0s 3ms/step - loss: 11550.7525 - mean_squared_error: 11550.7524 - mean_absolute_percentage_error: 63.7372 - val_loss: 9944.4360 - val_mean_squared_error: 9944.4363 - val_mean_absolute_percentage_error: 59.1327\n",
      "Epoch 6/50\n",
      "8/8 [==============================] - 0s 3ms/step - loss: 10249.8809 - mean_squared_error: 10249.8810 - mean_absolute_percentage_error: 59.5338 - val_loss: 9427.1187 - val_mean_squared_error: 9427.1191 - val_mean_absolute_percentage_error: 56.7420\n",
      "Epoch 7/50\n",
      "8/8 [==============================] - 0s 3ms/step - loss: 9485.1494 - mean_squared_error: 9485.1492 - mean_absolute_percentage_error: 56.9100 - val_loss: 8606.3958 - val_mean_squared_error: 8606.3962 - val_mean_absolute_percentage_error: 54.1512\n",
      "Epoch 8/50\n",
      "8/8 [==============================] - 0s 3ms/step - loss: 8667.7749 - mean_squared_error: 8667.7749 - mean_absolute_percentage_error: 54.3156 - val_loss: 7816.9617 - val_mean_squared_error: 7816.9621 - val_mean_absolute_percentage_error: 51.5891\n",
      "Epoch 9/50\n",
      "8/8 [==============================] - 0s 3ms/step - loss: 7985.8445 - mean_squared_error: 7985.8447 - mean_absolute_percentage_error: 52.1130 - val_loss: 7215.4716 - val_mean_squared_error: 7215.4716 - val_mean_absolute_percentage_error: 49.6017\n",
      "Epoch 10/50\n"
     ]
    },
    {
     "name": "stdout",
     "output_type": "stream",
     "text": [
      "8/8 [==============================] - 0s 3ms/step - loss: 7384.6574 - mean_squared_error: 7384.6574 - mean_absolute_percentage_error: 50.1572 - val_loss: 6628.1041 - val_mean_squared_error: 6628.1040 - val_mean_absolute_percentage_error: 47.4813\n",
      "Epoch 11/50\n",
      "8/8 [==============================] - 0s 3ms/step - loss: 6785.7552 - mean_squared_error: 6785.7552 - mean_absolute_percentage_error: 47.9715 - val_loss: 6082.7062 - val_mean_squared_error: 6082.7060 - val_mean_absolute_percentage_error: 45.2635\n",
      "Epoch 12/50\n",
      "8/8 [==============================] - 0s 3ms/step - loss: 6213.9556 - mean_squared_error: 6213.9557 - mean_absolute_percentage_error: 45.6142 - val_loss: 5552.2818 - val_mean_squared_error: 5552.2820 - val_mean_absolute_percentage_error: 43.0005\n",
      "Epoch 13/50\n",
      "8/8 [==============================] - 0s 3ms/step - loss: 5586.4090 - mean_squared_error: 5586.4090 - mean_absolute_percentage_error: 43.2194 - val_loss: 4965.1140 - val_mean_squared_error: 4965.1142 - val_mean_absolute_percentage_error: 40.6271\n",
      "Epoch 14/50\n",
      "8/8 [==============================] - 0s 3ms/step - loss: 5019.8907 - mean_squared_error: 5019.8905 - mean_absolute_percentage_error: 40.9413 - val_loss: 4418.4553 - val_mean_squared_error: 4418.4551 - val_mean_absolute_percentage_error: 38.2593\n",
      "Epoch 15/50\n",
      "8/8 [==============================] - 0s 3ms/step - loss: 4459.7123 - mean_squared_error: 4459.7124 - mean_absolute_percentage_error: 38.3600 - val_loss: 3930.7686 - val_mean_squared_error: 3930.7686 - val_mean_absolute_percentage_error: 35.7615\n",
      "Epoch 16/50\n",
      "8/8 [==============================] - 0s 3ms/step - loss: 3907.6182 - mean_squared_error: 3907.6182 - mean_absolute_percentage_error: 35.7513 - val_loss: 3440.4666 - val_mean_squared_error: 3440.4666 - val_mean_absolute_percentage_error: 33.2865\n",
      "Epoch 17/50\n",
      "8/8 [==============================] - 0s 3ms/step - loss: 3399.5987 - mean_squared_error: 3399.5986 - mean_absolute_percentage_error: 33.2855 - val_loss: 2950.5982 - val_mean_squared_error: 2950.5983 - val_mean_absolute_percentage_error: 30.8411\n",
      "Epoch 18/50\n",
      "8/8 [==============================] - 0s 2ms/step - loss: 2869.5675 - mean_squared_error: 2869.5675 - mean_absolute_percentage_error: 30.5012 - val_loss: 2497.9512 - val_mean_squared_error: 2497.9512 - val_mean_absolute_percentage_error: 27.9142\n",
      "Epoch 19/50\n",
      "8/8 [==============================] - 0s 3ms/step - loss: 2398.5386 - mean_squared_error: 2398.5387 - mean_absolute_percentage_error: 27.6310 - val_loss: 2083.5435 - val_mean_squared_error: 2083.5435 - val_mean_absolute_percentage_error: 25.2503\n",
      "Epoch 20/50\n",
      "8/8 [==============================] - 0s 3ms/step - loss: 1964.8572 - mean_squared_error: 1964.8571 - mean_absolute_percentage_error: 24.9745 - val_loss: 1705.1489 - val_mean_squared_error: 1705.1489 - val_mean_absolute_percentage_error: 22.7753\n",
      "Epoch 21/50\n",
      "8/8 [==============================] - 0s 3ms/step - loss: 1598.4515 - mean_squared_error: 1598.4514 - mean_absolute_percentage_error: 22.3977 - val_loss: 1398.9677 - val_mean_squared_error: 1398.9677 - val_mean_absolute_percentage_error: 20.3991\n",
      "Epoch 22/50\n",
      "8/8 [==============================] - 0s 2ms/step - loss: 1283.2189 - mean_squared_error: 1283.2189 - mean_absolute_percentage_error: 20.0340 - val_loss: 1169.3582 - val_mean_squared_error: 1169.3582 - val_mean_absolute_percentage_error: 18.1950\n",
      "Epoch 23/50\n",
      "8/8 [==============================] - 0s 2ms/step - loss: 1049.0491 - mean_squared_error: 1049.0491 - mean_absolute_percentage_error: 17.9560 - val_loss: 997.7299 - val_mean_squared_error: 997.7299 - val_mean_absolute_percentage_error: 16.5479\n",
      "Epoch 24/50\n",
      "8/8 [==============================] - 0s 3ms/step - loss: 897.3298 - mean_squared_error: 897.3298 - mean_absolute_percentage_error: 16.4275 - val_loss: 880.1920 - val_mean_squared_error: 880.1920 - val_mean_absolute_percentage_error: 15.3016\n",
      "Epoch 25/50\n",
      "8/8 [==============================] - 0s 3ms/step - loss: 779.5939 - mean_squared_error: 779.5939 - mean_absolute_percentage_error: 15.1874 - val_loss: 811.4105 - val_mean_squared_error: 811.4105 - val_mean_absolute_percentage_error: 14.5877\n",
      "Epoch 26/50\n",
      "8/8 [==============================] - 0s 2ms/step - loss: 715.1231 - mean_squared_error: 715.1231 - mean_absolute_percentage_error: 14.3074 - val_loss: 768.9393 - val_mean_squared_error: 768.9393 - val_mean_absolute_percentage_error: 13.9979\n",
      "Epoch 27/50\n",
      "8/8 [==============================] - 0s 3ms/step - loss: 678.5014 - mean_squared_error: 678.5014 - mean_absolute_percentage_error: 13.8650 - val_loss: 751.0517 - val_mean_squared_error: 751.0517 - val_mean_absolute_percentage_error: 13.7471\n",
      "Epoch 28/50\n",
      "8/8 [==============================] - 0s 2ms/step - loss: 659.2860 - mean_squared_error: 659.2861 - mean_absolute_percentage_error: 13.5245 - val_loss: 749.3907 - val_mean_squared_error: 749.3907 - val_mean_absolute_percentage_error: 13.7163\n",
      "Epoch 29/50\n",
      "8/8 [==============================] - 0s 2ms/step - loss: 655.0725 - mean_squared_error: 655.0725 - mean_absolute_percentage_error: 13.3159 - val_loss: 742.0288 - val_mean_squared_error: 742.0288 - val_mean_absolute_percentage_error: 13.5999\n",
      "Epoch 30/50\n",
      "8/8 [==============================] - 0s 3ms/step - loss: 651.8217 - mean_squared_error: 651.8217 - mean_absolute_percentage_error: 13.4779 - val_loss: 741.4457 - val_mean_squared_error: 741.4457 - val_mean_absolute_percentage_error: 13.6012\n",
      "Epoch 31/50\n",
      "8/8 [==============================] - 0s 3ms/step - loss: 652.3576 - mean_squared_error: 652.3576 - mean_absolute_percentage_error: 13.2534 - val_loss: 747.2796 - val_mean_squared_error: 747.2797 - val_mean_absolute_percentage_error: 13.6282\n",
      "Epoch 32/50\n",
      "8/8 [==============================] - 0s 3ms/step - loss: 646.1717 - mean_squared_error: 646.1717 - mean_absolute_percentage_error: 13.3206 - val_loss: 738.6284 - val_mean_squared_error: 738.6284 - val_mean_absolute_percentage_error: 13.7124\n",
      "Epoch 33/50\n",
      "8/8 [==============================] - 0s 3ms/step - loss: 648.6465 - mean_squared_error: 648.6465 - mean_absolute_percentage_error: 13.2961 - val_loss: 743.3293 - val_mean_squared_error: 743.3294 - val_mean_absolute_percentage_error: 13.6156\n",
      "Epoch 34/50\n",
      "8/8 [==============================] - 0s 3ms/step - loss: 644.6483 - mean_squared_error: 644.6482 - mean_absolute_percentage_error: 13.2433 - val_loss: 737.0456 - val_mean_squared_error: 737.0456 - val_mean_absolute_percentage_error: 13.6544\n",
      "Epoch 35/50\n",
      "8/8 [==============================] - 0s 3ms/step - loss: 645.6101 - mean_squared_error: 645.6101 - mean_absolute_percentage_error: 13.4290 - val_loss: 736.7691 - val_mean_squared_error: 736.7691 - val_mean_absolute_percentage_error: 13.6369\n",
      "Epoch 36/50\n",
      "8/8 [==============================] - 0s 2ms/step - loss: 647.0111 - mean_squared_error: 647.0111 - mean_absolute_percentage_error: 13.2501 - val_loss: 740.5123 - val_mean_squared_error: 740.5123 - val_mean_absolute_percentage_error: 13.6562\n",
      "Epoch 37/50\n",
      "8/8 [==============================] - 0s 2ms/step - loss: 645.3240 - mean_squared_error: 645.3240 - mean_absolute_percentage_error: 13.4140 - val_loss: 732.8400 - val_mean_squared_error: 732.8400 - val_mean_absolute_percentage_error: 13.7293\n",
      "Epoch 38/50\n",
      "8/8 [==============================] - 0s 3ms/step - loss: 646.5728 - mean_squared_error: 646.5728 - mean_absolute_percentage_error: 13.3785 - val_loss: 738.9699 - val_mean_squared_error: 738.9699 - val_mean_absolute_percentage_error: 13.6783\n",
      "Epoch 39/50\n",
      "8/8 [==============================] - 0s 3ms/step - loss: 648.3448 - mean_squared_error: 648.3448 - mean_absolute_percentage_error: 13.5365 - val_loss: 732.0120 - val_mean_squared_error: 732.0120 - val_mean_absolute_percentage_error: 13.6793\n",
      "Epoch 40/50\n",
      "8/8 [==============================] - 0s 2ms/step - loss: 645.8881 - mean_squared_error: 645.8881 - mean_absolute_percentage_error: 13.3464 - val_loss: 739.3405 - val_mean_squared_error: 739.3405 - val_mean_absolute_percentage_error: 13.7322\n",
      "Epoch 41/50\n",
      "8/8 [==============================] - 0s 3ms/step - loss: 647.2546 - mean_squared_error: 647.2546 - mean_absolute_percentage_error: 13.5878 - val_loss: 729.9729 - val_mean_squared_error: 729.9729 - val_mean_absolute_percentage_error: 13.7588\n"
     ]
    },
    {
     "name": "stdout",
     "output_type": "stream",
     "text": [
      "Epoch 42/50\n",
      "8/8 [==============================] - 0s 3ms/step - loss: 647.4618 - mean_squared_error: 647.4618 - mean_absolute_percentage_error: 13.4677 - val_loss: 736.1178 - val_mean_squared_error: 736.1178 - val_mean_absolute_percentage_error: 13.7085\n",
      "Epoch 43/50\n",
      "8/8 [==============================] - 0s 3ms/step - loss: 642.1391 - mean_squared_error: 642.1391 - mean_absolute_percentage_error: 13.4351 - val_loss: 729.4891 - val_mean_squared_error: 729.4891 - val_mean_absolute_percentage_error: 13.7017\n",
      "Epoch 44/50\n",
      "8/8 [==============================] - 0s 2ms/step - loss: 643.6636 - mean_squared_error: 643.6636 - mean_absolute_percentage_error: 13.5712 - val_loss: 730.0158 - val_mean_squared_error: 730.0158 - val_mean_absolute_percentage_error: 13.6792\n",
      "Epoch 45/50\n",
      "8/8 [==============================] - 0s 2ms/step - loss: 640.7087 - mean_squared_error: 640.7087 - mean_absolute_percentage_error: 13.3971 - val_loss: 732.0657 - val_mean_squared_error: 732.0657 - val_mean_absolute_percentage_error: 13.7046\n",
      "Epoch 46/50\n",
      "8/8 [==============================] - 0s 3ms/step - loss: 644.3604 - mean_squared_error: 644.3604 - mean_absolute_percentage_error: 13.5277 - val_loss: 728.0362 - val_mean_squared_error: 728.0362 - val_mean_absolute_percentage_error: 13.7041\n",
      "Epoch 47/50\n",
      "8/8 [==============================] - 0s 3ms/step - loss: 642.2121 - mean_squared_error: 642.2121 - mean_absolute_percentage_error: 13.4266 - val_loss: 730.3390 - val_mean_squared_error: 730.3390 - val_mean_absolute_percentage_error: 13.7047\n",
      "Epoch 48/50\n",
      "8/8 [==============================] - 0s 3ms/step - loss: 640.2579 - mean_squared_error: 640.2579 - mean_absolute_percentage_error: 13.4776 - val_loss: 728.0056 - val_mean_squared_error: 728.0056 - val_mean_absolute_percentage_error: 13.7068\n",
      "Epoch 49/50\n",
      "8/8 [==============================] - 0s 3ms/step - loss: 641.4068 - mean_squared_error: 641.4068 - mean_absolute_percentage_error: 13.4690 - val_loss: 727.6034 - val_mean_squared_error: 727.6034 - val_mean_absolute_percentage_error: 13.7129\n",
      "Epoch 50/50\n",
      "8/8 [==============================] - 0s 3ms/step - loss: 640.7550 - mean_squared_error: 640.7550 - mean_absolute_percentage_error: 13.4350 - val_loss: 727.2429 - val_mean_squared_error: 727.2429 - val_mean_absolute_percentage_error: 13.7167\n",
      "Evaluate on test data\n",
      "4/4 [==============================] - 0s 854us/step - loss: 727.2429 - mean_squared_error: 727.2429 - mean_absolute_percentage_error: 13.7167\n",
      "test loss, test acc: [727.2429316356929, 727.2429475350548, 13.716669315917418]\n",
      "26.967442361763837\n"
     ]
    }
   ],
   "source": [
    "df_model_output = []\n",
    "df_grouping = []\n",
    "for n in fe.DataframHandler(STOCKS).fe_objects:\n",
    "    df_model_output.append(mp.ModelProcessorTF(n.data))\n",
    "    df_grouping.append(n)"
   ]
  },
  {
   "cell_type": "code",
   "execution_count": null,
   "metadata": {},
   "outputs": [],
   "source": [
    "\n"
   ]
  },
  {
   "cell_type": "code",
   "execution_count": 4,
   "metadata": {
    "scrolled": true
   },
   "outputs": [
    {
     "ename": "AttributeError",
     "evalue": "'list' object has no attribute 'data'",
     "output_type": "error",
     "traceback": [
      "\u001b[0;31m---------------------------------------------------------------------------\u001b[0m",
      "\u001b[0;31mAttributeError\u001b[0m                            Traceback (most recent call last)",
      "\u001b[0;32m<ipython-input-4-c730613ea75a>\u001b[0m in \u001b[0;36m<module>\u001b[0;34m\u001b[0m\n\u001b[0;32m----> 1\u001b[0;31m \u001b[0mdf_grouping\u001b[0m\u001b[0;34m.\u001b[0m\u001b[0mdata\u001b[0m\u001b[0;34m\u001b[0m\u001b[0;34m\u001b[0m\u001b[0m\n\u001b[0m",
      "\u001b[0;31mAttributeError\u001b[0m: 'list' object has no attribute 'data'"
     ]
    }
   ],
   "source": [
    "df_grouping.data"
   ]
  },
  {
   "cell_type": "code",
   "execution_count": null,
   "metadata": {
    "scrolled": true
   },
   "outputs": [],
   "source": [
    "df_model_output = mp.ModelProcessorTF(fe.pricePredictionFeatureEng40(STOCKS))"
   ]
  },
  {
   "cell_type": "code",
   "execution_count": null,
   "metadata": {},
   "outputs": [],
   "source": [
    "varArr_1 = df_model_output.df_test_x_y['predictions']-df_model_output.df_test_x_y['future_price']"
   ]
  },
  {
   "cell_type": "code",
   "execution_count": null,
   "metadata": {},
   "outputs": [],
   "source": [
    "df_model_output.apply_model(mp.get_tf_adam_mse_5l_1024_512_256_128_1_relu())"
   ]
  },
  {
   "cell_type": "code",
   "execution_count": null,
   "metadata": {},
   "outputs": [],
   "source": [
    "varArr_2 = df_model_output.df_test_x_y['predictions']-df_model_output.df_test_x_y['future_price']"
   ]
  },
  {
   "cell_type": "code",
   "execution_count": null,
   "metadata": {},
   "outputs": [],
   "source": [
    "pc.plotDensityMultiple([varArr_1, varArr_2])"
   ]
  },
  {
   "cell_type": "code",
   "execution_count": null,
   "metadata": {},
   "outputs": [],
   "source": [
    "varArr_1"
   ]
  },
  {
   "cell_type": "code",
   "execution_count": null,
   "metadata": {},
   "outputs": [],
   "source": [
    "fe.pricePredictionFeatureEng40(STOCKS)"
   ]
  },
  {
   "cell_type": "code",
   "execution_count": null,
   "metadata": {},
   "outputs": [],
   "source": []
  }
 ],
 "metadata": {
  "kernelspec": {
   "display_name": "Python 3",
   "language": "python",
   "name": "python3"
  },
  "language_info": {
   "codemirror_mode": {
    "name": "ipython",
    "version": 3
   },
   "file_extension": ".py",
   "mimetype": "text/x-python",
   "name": "python",
   "nbconvert_exporter": "python",
   "pygments_lexer": "ipython3",
   "version": "3.8.3"
  }
 },
 "nbformat": 4,
 "nbformat_minor": 2
}
