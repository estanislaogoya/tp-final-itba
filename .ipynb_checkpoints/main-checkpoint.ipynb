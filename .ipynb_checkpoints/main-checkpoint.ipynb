{
 "cells": [
  {
   "cell_type": "code",
   "execution_count": 1,
   "metadata": {},
   "outputs": [],
   "source": [
    "import loadStocks as ls\n",
    "import featEng as fe\n",
    "import pandas as pd\n",
    "import mlModels as mp\n",
    "import plotCharts as pc\n",
    "from multiprocessing import Pool\n",
    "import contextlib\n",
    "\n",
    "TICKER_NAMES = ['fb','msft']\n",
    "\n",
    "STOCKS = ls.load_tickers_df(TICKER_NAMES, display=\"append\")"
   ]
  },
  {
   "cell_type": "code",
   "execution_count": 3,
   "metadata": {},
   "outputs": [
    {
     "name": "stdout",
     "output_type": "stream",
     "text": [
      "        Open    High     Low   Close    Volume  1d_abs  1d_dir  2d_abs  \\\n",
      "0      28.43   28.47   27.73   27.96  44198900   -0.62     0.0    0.51   \n",
      "1      28.01   28.64   27.83   28.14  35642100    0.18     1.0   -0.44   \n",
      "2      28.10   28.32   27.60   27.83  27569600   -0.31     0.0   -0.13   \n",
      "3      27.62   27.65   26.92   27.08  39619500   -0.75     0.0   -1.06   \n",
      "4      27.10   27.43   26.83   27.04  27646400   -0.04     0.0   -0.79   \n",
      "...      ...     ...     ...     ...       ...     ...     ...     ...   \n",
      "1577  175.53  178.03  174.61  177.47  12253600    2.43     1.0   -0.63   \n",
      "1578  180.51  181.84  180.00  181.33  16773700    3.86     1.0    6.29   \n",
      "1579  185.01  189.50  184.41  189.01  29459900    7.68     1.0   11.54   \n",
      "1580  194.00  194.53  187.28  188.47  37571400   -0.54     0.0    7.14   \n",
      "1581  187.00  188.10  184.55  187.48  21417100   -0.99     0.0   -1.53   \n",
      "\n",
      "      1d_cls  2d_cls  ...  5d_cls  6d_cls  7d_cls  8d_cls  9d_cls  10d_cls  \\\n",
      "0      28.58   27.45  ...   27.78   27.25   26.87   27.39   27.27    27.13   \n",
      "1      27.96   28.58  ...   27.72   27.78   27.25   26.87   27.39    27.27   \n",
      "2      28.14   27.96  ...   27.52   27.72   27.78   27.25   26.87    27.39   \n",
      "3      27.83   28.14  ...   27.45   27.52   27.72   27.78   27.25    26.87   \n",
      "4      27.08   27.83  ...   28.58   27.45   27.52   27.72   27.78    27.25   \n",
      "...      ...     ...  ...     ...     ...     ...     ...     ...      ...   \n",
      "1577  175.04  178.10  ...  168.33  168.17  167.50  164.15  177.47   183.01   \n",
      "1578  177.47  175.04  ...  173.35  168.33  168.17  167.50  164.15   177.47   \n",
      "1579  181.33  177.47  ...  174.82  173.35  168.33  168.17  167.50   164.15   \n",
      "1580  189.01  181.33  ...  178.10  174.82  173.35  168.33  168.17   167.50   \n",
      "1581  188.47  189.01  ...  175.04  178.10  174.82  173.35  168.33   168.17   \n",
      "\n",
      "        50d_ma   100d_ma    200d_ma  future_price  \n",
      "0      28.8548   26.2468   25.61875         75.29  \n",
      "1      28.8874   26.3307   25.58930         74.81  \n",
      "2      28.9230   26.4138   25.57345         74.57  \n",
      "3      28.9464   26.4894   25.54885         74.57  \n",
      "4      28.9548   26.5650   25.51890         75.02  \n",
      "...        ...       ...        ...           ...  \n",
      "1577  181.7854  172.7475  161.33020        269.70  \n",
      "1578  181.9412  173.0851  161.34955        268.43  \n",
      "1579  182.2010  173.5322  161.41330        276.92  \n",
      "1580  182.4560  173.9586  161.47615        275.59  \n",
      "1581  182.7070  174.3433  161.52535        277.81  \n",
      "\n",
      "[1582 rows x 22 columns]\n",
      "        Open    High     Low   Close    Volume  1d_abs  1d_dir  2d_abs  \\\n",
      "0      21.20   21.71   20.97   21.47  66739200    0.38     1.0    0.50   \n",
      "1      21.65   21.90   21.31   21.86  67808300    0.39     1.0    0.77   \n",
      "2      21.91   22.09   21.73   21.97  89681500    0.11     1.0    0.50   \n",
      "3      21.71   22.12   21.55   22.04  52324900    0.07     1.0    0.18   \n",
      "4      22.12   22.28   21.82   21.86  49211900   -0.18     0.0   -0.11   \n",
      "...      ...     ...     ...     ...       ...     ...     ...     ...   \n",
      "1948  129.72  130.72  129.31  130.06  17200800    0.82     1.0    0.22   \n",
      "1949  130.00  131.50  129.39  130.18  17821700    0.12     1.0    0.94   \n",
      "1950  130.36  131.44  130.26  130.58  14517800    0.40     1.0    0.52   \n",
      "1951  131.89  132.93  131.28  132.85  25934500    2.27     1.0    2.67   \n",
      "1952  132.69  133.60  131.52  133.37  23744400    0.52     1.0    2.79   \n",
      "\n",
      "      1d_cls  2d_cls  ...  5d_cls  6d_cls  7d_cls  8d_cls  9d_cls  10d_cls  \\\n",
      "0      21.09   20.97  ...   21.06   20.67   20.90   21.23   21.55    21.25   \n",
      "1      21.47   21.09  ...   21.24   21.06   20.67   20.90   21.23    21.55   \n",
      "2      21.86   21.47  ...   20.85   21.24   21.06   20.67   20.90    21.23   \n",
      "3      21.97   21.86  ...   20.97   20.85   21.24   21.06   20.67    20.90   \n",
      "4      22.04   21.97  ...   21.09   20.97   20.85   21.24   21.06    20.67   \n",
      "...      ...     ...  ...     ...     ...     ...     ...     ...      ...   \n",
      "1948  129.24  129.84  ...  125.63  123.68  121.05  117.79  121.56   123.58   \n",
      "1949  130.06  129.24  ...  129.15  125.63  123.68  121.05  117.79   121.56   \n",
      "1950  130.18  130.06  ...  130.33  129.15  125.63  123.68  121.05   117.79   \n",
      "1951  130.58  130.18  ...  129.84  130.33  129.15  125.63  123.68   121.05   \n",
      "1952  132.85  130.58  ...  129.24  129.84  130.33  129.15  125.63   123.68   \n",
      "\n",
      "        50d_ma   100d_ma    200d_ma  future_price  \n",
      "0      21.0702   20.5531   20.99670         23.53  \n",
      "1      21.0834   20.5669   21.00560         23.65  \n",
      "2      21.0918   20.5771   21.01195         23.82  \n",
      "3      21.0992   20.5865   21.01525         23.99  \n",
      "4      21.1076   20.5915   21.01715         23.77  \n",
      "...        ...       ...        ...           ...  \n",
      "1948  123.1234  115.8349  110.34295        210.39  \n",
      "1949  123.3774  116.1062  110.46180        210.11  \n",
      "1950  123.6514  116.3715  110.57945        213.86  \n",
      "1951  123.9604  116.6644  110.69990        213.87  \n",
      "1952  124.2790  116.9531  110.82330        215.23  \n",
      "\n",
      "[1953 rows x 22 columns]\n"
     ]
    },
    {
     "name": "stderr",
     "output_type": "stream",
     "text": [
      "/Users/egarciagoya/OneDrive - Facebook/ITBA Especializacion/tp_final/code/notebooks/featEng.py:18: SettingWithCopyWarning: \n",
      "A value is trying to be set on a copy of a slice from a DataFrame.\n",
      "Try using .loc[row_indexer,col_indexer] = value instead\n",
      "\n",
      "See the caveats in the documentation: https://pandas.pydata.org/pandas-docs/stable/user_guide/indexing.html#returning-a-view-versus-a-copy\n",
      "  df['future_price'] = df.loc[:, 'Close'].shift(LOOK_WINDOW)\n",
      "/Users/egarciagoya/opt/anaconda3/lib/python3.8/site-packages/pandas/core/frame.py:3990: SettingWithCopyWarning: \n",
      "A value is trying to be set on a copy of a slice from a DataFrame\n",
      "\n",
      "See the caveats in the documentation: https://pandas.pydata.org/pandas-docs/stable/user_guide/indexing.html#returning-a-view-versus-a-copy\n",
      "  return super().drop(\n"
     ]
    }
   ],
   "source": [
    "df_model_output = []\n",
    "df_grouping = []\n",
    "for n in fe.DataframeHandler(STOCKS).fe_objects:\n",
    "    print(n.data)\n",
    "    #df_model_output.append(mp.ModelHandler(n.data))\n",
    "    #df_grouping.append(n)"
   ]
  },
  {
   "cell_type": "code",
   "execution_count": null,
   "metadata": {},
   "outputs": [],
   "source": [
    "#df_model_output[1].df_lasso_output\n",
    "df_model_output[1].lasso_model"
   ]
  },
  {
   "cell_type": "code",
   "execution_count": null,
   "metadata": {},
   "outputs": [],
   "source": [
    "for n in fe.DataframeHandler(STOCKS).fe_objects:\n",
    "    print(n.name)\n",
    "    print(n.data.tail(7))\n",
    "    "
   ]
  },
  {
   "cell_type": "code",
   "execution_count": null,
   "metadata": {},
   "outputs": [],
   "source": [
    "df_model_output[0].df_test_x_y"
   ]
  },
  {
   "cell_type": "code",
   "execution_count": null,
   "metadata": {
    "scrolled": true
   },
   "outputs": [],
   "source": [
    "num_pool_worker=1 # can be bigger than 1, to enable parallel execution\n",
    "\n",
    "with contextlib.closing(Pool(num_pool_worker)) as po: # This ensures that the processes get closed once they are done\n",
    "    pool_results = po.map_async(mp.ModelHandler,\n",
    "                                    ((n.data)\n",
    "                                    for n in fe.DataframeHandler(STOCKS).fe_objects))\n",
    "    results_list = pool_results.get()"
   ]
  },
  {
   "cell_type": "code",
   "execution_count": null,
   "metadata": {
    "scrolled": true
   },
   "outputs": [],
   "source": [
    "df_model_output = mp.ModelProcessorTF(fe.pricePredictionFeatureEng40(STOCKS))"
   ]
  },
  {
   "cell_type": "code",
   "execution_count": null,
   "metadata": {},
   "outputs": [],
   "source": [
    "varArr_1 = df_model_output.df_test_x_y['predictions']-df_model_output.df_test_x_y['future_price']"
   ]
  },
  {
   "cell_type": "code",
   "execution_count": null,
   "metadata": {},
   "outputs": [],
   "source": [
    "df_model_output.apply_model(mp.get_tf_adam_mse_5l_1024_512_256_128_1_relu())"
   ]
  },
  {
   "cell_type": "code",
   "execution_count": null,
   "metadata": {},
   "outputs": [],
   "source": [
    "varArr_2 = df_model_output.df_test_x_y['predictions']-df_model_output.df_test_x_y['future_price']"
   ]
  },
  {
   "cell_type": "code",
   "execution_count": null,
   "metadata": {},
   "outputs": [],
   "source": [
    "pc.plotDensityMultiple([varArr_1, varArr_2])"
   ]
  },
  {
   "cell_type": "code",
   "execution_count": null,
   "metadata": {},
   "outputs": [],
   "source": [
    "varArr_1"
   ]
  },
  {
   "cell_type": "code",
   "execution_count": null,
   "metadata": {},
   "outputs": [],
   "source": [
    "fe.pricePredictionFeatureEng40(STOCKS)"
   ]
  },
  {
   "cell_type": "code",
   "execution_count": null,
   "metadata": {},
   "outputs": [],
   "source": []
  }
 ],
 "metadata": {
  "kernelspec": {
   "display_name": "Python 3",
   "language": "python",
   "name": "python3"
  },
  "language_info": {
   "codemirror_mode": {
    "name": "ipython",
    "version": 3
   },
   "file_extension": ".py",
   "mimetype": "text/x-python",
   "name": "python",
   "nbconvert_exporter": "python",
   "pygments_lexer": "ipython3",
   "version": "3.8.3"
  }
 },
 "nbformat": 4,
 "nbformat_minor": 2
}
