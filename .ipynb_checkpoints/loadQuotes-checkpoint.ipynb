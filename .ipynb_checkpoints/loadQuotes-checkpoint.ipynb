{
 "cells": [
  {
   "cell_type": "code",
   "execution_count": null,
   "metadata": {},
   "outputs": [],
   "source": [
    "import yfinance as yf\n",
    "import pandas as pd\n",
    "import os\n",
    "import numpy as np\n",
    "import matplotlib.pyplot as plt"
   ]
  },
  {
   "cell_type": "code",
   "execution_count": null,
   "metadata": {},
   "outputs": [],
   "source": [
    "TICKER_NAMES = ['msft','goog','fb','amzn', 'pg', 'xom', 'INTC', 'GS', 'GE']\n",
    "DF_SET = []\n",
    "STOCKS = pd.DataFrame()\n",
    "DIR_STOCKS = 'stocks/'\n",
    "\n",
    "def stock_dir_exists():\n",
    "    if not os.path.exists(DIR_STOCKS):\n",
    "        os.makedirs(DIR_STOCKS)\n",
    "\n",
    "def fetch_quotes_yf(ticker):\n",
    "    price_df = pd.DataFrame(yf.Ticker(str(ticker)).history(period=\"10y\"), columns=['Open','High','Low','Close','Volume'])            \n",
    "    price_df.to_csv(DIR_STOCKS + str(ticker))\n",
    "    return price_df\n",
    "\n",
    "def load_tickers_df(ticker_names):\n",
    "    stock_dir_exists()\n",
    "    for i in ticker_names:\n",
    "        ticker_filename = DIR_STOCKS + str(i) + '.csv'\n",
    "        if os.path.isfile(ticker_filename) == False:\n",
    "            df = fetch_quotes_yf(i)\n",
    "        else:\n",
    "            df = pd.read_csv(ticker_filename)\n",
    "        df[str(i)] = df['Close']\n",
    "        df.drop(df.columns.difference([str(i)]), 1, inplace=True)\n",
    "        DF_SET.append(df)\n",
    "    return pd.concat(DF_SET, axis = 1)\n",
    "        \n",
    "STOCKS = load_tickers_df(TICKER_NAMES)"
   ]
  },
  {
   "cell_type": "code",
   "execution_count": null,
   "metadata": {},
   "outputs": [],
   "source": []
  },
  {
   "cell_type": "code",
   "execution_count": null,
   "metadata": {},
   "outputs": [],
   "source": []
  },
  {
   "cell_type": "code",
   "execution_count": null,
   "metadata": {},
   "outputs": [],
   "source": []
  },
  {
   "cell_type": "code",
   "execution_count": null,
   "metadata": {},
   "outputs": [],
   "source": []
  },
  {
   "cell_type": "code",
   "execution_count": null,
   "metadata": {},
   "outputs": [],
   "source": []
  },
  {
   "cell_type": "code",
   "execution_count": null,
   "metadata": {},
   "outputs": [],
   "source": []
  }
 ],
 "metadata": {
  "kernelspec": {
   "display_name": "Python 3",
   "language": "python",
   "name": "python3"
  },
  "language_info": {
   "codemirror_mode": {
    "name": "ipython",
    "version": 3
   },
   "file_extension": ".py",
   "mimetype": "text/x-python",
   "name": "python",
   "nbconvert_exporter": "python",
   "pygments_lexer": "ipython3",
   "version": "3.6.7"
  }
 },
 "nbformat": 4,
 "nbformat_minor": 2
}
