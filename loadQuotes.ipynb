{
 "cells": [
  {
   "cell_type": "code",
   "execution_count": 2,
   "metadata": {},
   "outputs": [],
   "source": [
    "import yfinance as yf\n",
    "import pandas as pd\n",
    "import os\n",
    "import numpy as np"
   ]
  },
  {
   "cell_type": "code",
   "execution_count": 37,
   "metadata": {},
   "outputs": [
    {
     "ename": "UnboundLocalError",
     "evalue": "local variable 'STOCKS' referenced before assignment",
     "output_type": "error",
     "traceback": [
      "\u001b[0;31m---------------------------------------------------------------------------\u001b[0m",
      "\u001b[0;31mUnboundLocalError\u001b[0m                         Traceback (most recent call last)",
      "\u001b[0;32m<ipython-input-37-4ec402d9ce46>\u001b[0m in \u001b[0;36m<module>\u001b[0;34m\u001b[0m\n\u001b[1;32m     48\u001b[0m         \u001b[0;32mreturn\u001b[0m \u001b[0mDF_SET\u001b[0m\u001b[0;34m\u001b[0m\u001b[0;34m\u001b[0m\u001b[0m\n\u001b[1;32m     49\u001b[0m \u001b[0;34m\u001b[0m\u001b[0m\n\u001b[0;32m---> 50\u001b[0;31m \u001b[0mSTOCKS\u001b[0m \u001b[0;34m=\u001b[0m \u001b[0mload_tickers_df\u001b[0m\u001b[0;34m(\u001b[0m\u001b[0mTICKER_NAMES\u001b[0m\u001b[0;34m)\u001b[0m\u001b[0;34m\u001b[0m\u001b[0;34m\u001b[0m\u001b[0m\n\u001b[0m\u001b[1;32m     51\u001b[0m \u001b[0mSTOCKS\u001b[0m\u001b[0;34m\u001b[0m\u001b[0;34m\u001b[0m\u001b[0m\n",
      "\u001b[0;32m<ipython-input-37-4ec402d9ce46>\u001b[0m in \u001b[0;36mload_tickers_df\u001b[0;34m(ticker_names, display)\u001b[0m\n\u001b[1;32m     18\u001b[0m \u001b[0;31m# display = {\"APPEND\", \"GRID\", \"OBJECTS\"}\u001b[0m\u001b[0;34m\u001b[0m\u001b[0;34m\u001b[0m\u001b[0;34m\u001b[0m\u001b[0m\n\u001b[1;32m     19\u001b[0m \u001b[0;32mdef\u001b[0m \u001b[0mload_tickers_df\u001b[0m\u001b[0;34m(\u001b[0m\u001b[0mticker_names\u001b[0m\u001b[0;34m,\u001b[0m \u001b[0mdisplay\u001b[0m \u001b[0;34m=\u001b[0m \u001b[0;34m\"objects\"\u001b[0m\u001b[0;34m)\u001b[0m\u001b[0;34m:\u001b[0m\u001b[0;34m\u001b[0m\u001b[0;34m\u001b[0m\u001b[0m\n\u001b[0;32m---> 20\u001b[0;31m     \u001b[0;32mif\u001b[0m \u001b[0mSTOCKS\u001b[0m\u001b[0;34m:\u001b[0m\u001b[0;34m\u001b[0m\u001b[0;34m\u001b[0m\u001b[0m\n\u001b[0m\u001b[1;32m     21\u001b[0m         \u001b[0mSTOCKS\u001b[0m \u001b[0;34m=\u001b[0m \u001b[0mpd\u001b[0m\u001b[0;34m.\u001b[0m\u001b[0mDataFrame\u001b[0m\u001b[0;34m(\u001b[0m\u001b[0;34m)\u001b[0m\u001b[0;34m\u001b[0m\u001b[0;34m\u001b[0m\u001b[0m\n\u001b[1;32m     22\u001b[0m \u001b[0;34m\u001b[0m\u001b[0m\n",
      "\u001b[0;31mUnboundLocalError\u001b[0m: local variable 'STOCKS' referenced before assignment"
     ]
    }
   ],
   "source": [
    "TICKER_NAMES = ['msft','goog','fb','amzn', 'pg', 'xom', 'INTC', 'GS', 'GE']\n",
    "DF_SET = []\n",
    "DF_OBJ = []\n",
    "STOCKS = pd.DataFrame()\n",
    "DIR_STOCKS = 'stocks/'\n",
    "\n",
    "def stock_dir_exists():\n",
    "    if not os.path.exists(DIR_STOCKS):\n",
    "        os.makedirs(DIR_STOCKS)\n",
    "\n",
    "def fetch_quotes_yf(ticker):\n",
    "    price_df = pd.DataFrame(yf.Ticker(str(ticker)).history(period=\"10y\"), columns=['Open','High','Low','Close','Volume'])            \n",
    "    price_df.to_csv(DIR_STOCKS + str(ticker))\n",
    "    return price_df\n",
    "\n",
    "\n",
    "#display is the way how the data will be bundled. \n",
    "# display = {\"APPEND\", \"GRID\", \"OBJECTS\"}\n",
    "def load_tickers_df(ticker_names, display = \"objects\"):\n",
    "    stock_dir_exists()\n",
    "    for i in ticker_names:\n",
    "        ticker_filename = DIR_STOCKS + str(i) + '.csv'\n",
    "        if os.path.isfile(ticker_filename) == False:\n",
    "            df = fetch_quotes_yf(i)\n",
    "        else:\n",
    "            df = pd.read_csv(ticker_filename)\n",
    "        \n",
    "        if display == \"grid\":\n",
    "            df[str(i)] = df['Close']\n",
    "            df.drop(df.columns.difference([str(i)]), 1, inplace=True)\n",
    "            returntype = 1\n",
    "            DF_SET.append(df)\n",
    "        elif display == \"append\":\n",
    "            df['asset'] = i\n",
    "            returntype = 0\n",
    "        else:\n",
    "            df['asset'] = i\n",
    "            \n",
    "        DF_SET.append(df)\n",
    "    if display == \"grid\":\n",
    "        return pd.concat(DF_SET, axis = 1)\n",
    "    elif display == \"append\":\n",
    "        return pd.concat(DF_SET)\n",
    "    else:\n",
    "        return DF_SET\n",
    "        \n",
    "STOCKS = load_tickers_df(TICKER_NAMES)\n",
    "STOCKS"
   ]
  },
  {
   "cell_type": "code",
   "execution_count": null,
   "metadata": {},
   "outputs": [],
   "source": [
    "\n",
    "#display is the way how the data will be bundled. \n",
    "# display = {\"APPEND\", \"GRID\"}"
   ]
  },
  {
   "cell_type": "code",
   "execution_count": null,
   "metadata": {},
   "outputs": [],
   "source": []
  },
  {
   "cell_type": "code",
   "execution_count": null,
   "metadata": {},
   "outputs": [],
   "source": []
  },
  {
   "cell_type": "code",
   "execution_count": null,
   "metadata": {},
   "outputs": [],
   "source": []
  },
  {
   "cell_type": "code",
   "execution_count": null,
   "metadata": {},
   "outputs": [],
   "source": []
  },
  {
   "cell_type": "code",
   "execution_count": null,
   "metadata": {},
   "outputs": [],
   "source": []
  }
 ],
 "metadata": {
  "kernelspec": {
   "display_name": "Python 3",
   "language": "python",
   "name": "python3"
  },
  "language_info": {
   "codemirror_mode": {
    "name": "ipython",
    "version": 3
   },
   "file_extension": ".py",
   "mimetype": "text/x-python",
   "name": "python",
   "nbconvert_exporter": "python",
   "pygments_lexer": "ipython3",
   "version": "3.6.7"
  }
 },
 "nbformat": 4,
 "nbformat_minor": 2
}
